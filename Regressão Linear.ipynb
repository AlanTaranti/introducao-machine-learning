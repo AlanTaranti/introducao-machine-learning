{
 "cells": [
  {
   "cell_type": "code",
   "execution_count": 1,
   "id": "3d736a0e-b36c-4b2f-bf0e-aedeb2927c95",
   "metadata": {},
   "outputs": [],
   "source": [
    "from sklearn import datasets\n",
    "import pandas as pd\n",
    "import seaborn as sns\n",
    "from sklearn.model_selection import train_test_split\n",
    "from sklearn.linear_model import LinearRegression\n",
    "from sklearn.metrics import mean_absolute_error\n",
    "from sklearn.preprocessing import StandardScaler\n",
    "from collections import namedtuple\n",
    "import warnings\n",
    "import matplotlib as mpl\n",
    "import numpy as np"
   ]
  },
  {
   "cell_type": "code",
   "execution_count": 2,
   "id": "72dce54d-42e8-48f2-aa53-8dc437e8f70f",
   "metadata": {},
   "outputs": [],
   "source": [
    "mpl.rcParams[\"figure.figsize\"] = (12,6)"
   ]
  },
  {
   "cell_type": "markdown",
   "id": "b2c000cf-b811-400f-8b4c-9ac64db5ec1e",
   "metadata": {},
   "source": [
    "# Consumo Cerveja - São Paulo\n",
    "\n",
    "Os dados (amostra) foram coletados em São Paulo, em uma área universitária, onde existem algumas festas com grupos de alunos de 18 a 28 anos (média).\n",
    "\n",
    "O conjunto de dados utilizado para esta atividade possui 7 atributos, sendo um Alvo, durante o período de um ano.\n",
    "\n",
    "Atributos:\n",
    "\n",
    "    - Data: Dia da Coleta\n",
    "    - Temperatura Media (C): Temperatura Média do Dia em Celsius\n",
    "    - Temperatura Minima (C): Temperatura Mínima do Dia em Celsius\n",
    "    - Temperatura Maxima (C): Temperatura Máxima do Dia em Celsius\n",
    "    - Precipitacao (mm): Precipitação do Dia em Milímetros\n",
    "    - Final de Semana: Identificação se é fim de semana ou não\n",
    "    - Consumo de cerveja (litros): Quantidade de cerveja em livros\n",
    "\n",
    "\n",
    "Fonte: https://www.kaggle.com/datasets/dongeorge/beer-consumption-sao-paulo"
   ]
  },
  {
   "cell_type": "markdown",
   "id": "45d17c68-a4bd-4120-bd13-c95faed35736",
   "metadata": {},
   "source": [
    "## Carregamento de Dados"
   ]
  },
  {
   "cell_type": "code",
   "execution_count": 3,
   "id": "6d2a9cf0-ded1-4c93-b8ce-c078f45d9f8d",
   "metadata": {},
   "outputs": [],
   "source": [
    "df = pd.read_csv('data/consumo_cerveja.csv')"
   ]
  },
  {
   "cell_type": "code",
   "execution_count": 4,
   "id": "c34fb13b-5902-43de-8a05-d5e9f31384c5",
   "metadata": {},
   "outputs": [
    {
     "data": {
      "text/html": [
       "<div>\n",
       "<style scoped>\n",
       "    .dataframe tbody tr th:only-of-type {\n",
       "        vertical-align: middle;\n",
       "    }\n",
       "\n",
       "    .dataframe tbody tr th {\n",
       "        vertical-align: top;\n",
       "    }\n",
       "\n",
       "    .dataframe thead th {\n",
       "        text-align: right;\n",
       "    }\n",
       "</style>\n",
       "<table border=\"1\" class=\"dataframe\">\n",
       "  <thead>\n",
       "    <tr style=\"text-align: right;\">\n",
       "      <th></th>\n",
       "      <th>Data</th>\n",
       "      <th>Temperatura Media (C)</th>\n",
       "      <th>Temperatura Minima (C)</th>\n",
       "      <th>Temperatura Maxima (C)</th>\n",
       "      <th>Precipitacao (mm)</th>\n",
       "      <th>Final de Semana</th>\n",
       "      <th>Consumo de cerveja (litros)</th>\n",
       "    </tr>\n",
       "  </thead>\n",
       "  <tbody>\n",
       "    <tr>\n",
       "      <th>0</th>\n",
       "      <td>2015-01-01</td>\n",
       "      <td>27,3</td>\n",
       "      <td>23,9</td>\n",
       "      <td>32,5</td>\n",
       "      <td>0</td>\n",
       "      <td>0.0</td>\n",
       "      <td>25.461</td>\n",
       "    </tr>\n",
       "    <tr>\n",
       "      <th>1</th>\n",
       "      <td>2015-01-02</td>\n",
       "      <td>27,02</td>\n",
       "      <td>24,5</td>\n",
       "      <td>33,5</td>\n",
       "      <td>0</td>\n",
       "      <td>0.0</td>\n",
       "      <td>28.972</td>\n",
       "    </tr>\n",
       "    <tr>\n",
       "      <th>2</th>\n",
       "      <td>2015-01-03</td>\n",
       "      <td>24,82</td>\n",
       "      <td>22,4</td>\n",
       "      <td>29,9</td>\n",
       "      <td>0</td>\n",
       "      <td>1.0</td>\n",
       "      <td>30.814</td>\n",
       "    </tr>\n",
       "    <tr>\n",
       "      <th>3</th>\n",
       "      <td>2015-01-04</td>\n",
       "      <td>23,98</td>\n",
       "      <td>21,5</td>\n",
       "      <td>28,6</td>\n",
       "      <td>1,2</td>\n",
       "      <td>1.0</td>\n",
       "      <td>29.799</td>\n",
       "    </tr>\n",
       "    <tr>\n",
       "      <th>4</th>\n",
       "      <td>2015-01-05</td>\n",
       "      <td>23,82</td>\n",
       "      <td>21</td>\n",
       "      <td>28,3</td>\n",
       "      <td>0</td>\n",
       "      <td>0.0</td>\n",
       "      <td>28.900</td>\n",
       "    </tr>\n",
       "  </tbody>\n",
       "</table>\n",
       "</div>"
      ],
      "text/plain": [
       "         Data Temperatura Media (C) Temperatura Minima (C)  \\\n",
       "0  2015-01-01                  27,3                   23,9   \n",
       "1  2015-01-02                 27,02                   24,5   \n",
       "2  2015-01-03                 24,82                   22,4   \n",
       "3  2015-01-04                 23,98                   21,5   \n",
       "4  2015-01-05                 23,82                     21   \n",
       "\n",
       "  Temperatura Maxima (C) Precipitacao (mm)  Final de Semana  \\\n",
       "0                   32,5                 0              0.0   \n",
       "1                   33,5                 0              0.0   \n",
       "2                   29,9                 0              1.0   \n",
       "3                   28,6               1,2              1.0   \n",
       "4                   28,3                 0              0.0   \n",
       "\n",
       "   Consumo de cerveja (litros)  \n",
       "0                       25.461  \n",
       "1                       28.972  \n",
       "2                       30.814  \n",
       "3                       29.799  \n",
       "4                       28.900  "
      ]
     },
     "execution_count": 4,
     "metadata": {},
     "output_type": "execute_result"
    }
   ],
   "source": [
    "df.head()"
   ]
  },
  {
   "cell_type": "code",
   "execution_count": 5,
   "id": "908e530b-1d8a-4195-b4b0-03a7f2049795",
   "metadata": {},
   "outputs": [
    {
     "data": {
      "text/plain": [
       "941"
      ]
     },
     "execution_count": 5,
     "metadata": {},
     "output_type": "execute_result"
    }
   ],
   "source": [
    "df.shape[0]"
   ]
  },
  {
   "cell_type": "markdown",
   "id": "53aaaceb-09ac-4c17-b0ed-6c7baae29e99",
   "metadata": {},
   "source": [
    "## Limpeza Dados"
   ]
  },
  {
   "cell_type": "markdown",
   "id": "a55f7057-5fe4-4a77-98bc-8128a6964139",
   "metadata": {},
   "source": [
    "Objetivo: Tratar os dados de forma que consigamos usá-los para algoritmo de ML\n",
    "\n",
    "Possíveis técnicas:\n",
    " - Remoção de Dados Inválidos\n",
    " - Remoção de Outliers (Valores muito fora do esperado para o conjunto. Normalmente são erros de coleta)\n",
    " - Imputação de Valores em Campos Nulos\n",
    " - Transformação de tipos de variáveis"
   ]
  },
  {
   "cell_type": "markdown",
   "id": "79536102-559f-42cc-9442-391a007c2a6d",
   "metadata": {
    "tags": []
   },
   "source": [
    "### Visualização Básica"
   ]
  },
  {
   "cell_type": "markdown",
   "id": "f8614f9b-8a44-4459-be7e-8f87d879e885",
   "metadata": {},
   "source": [
    "#### Quantidade de Linhas e Colunas"
   ]
  },
  {
   "cell_type": "code",
   "execution_count": 6,
   "id": "4585992e-fe12-4134-9a64-95864e1d4e52",
   "metadata": {},
   "outputs": [
    {
     "name": "stdout",
     "output_type": "stream",
     "text": [
      "O Dataset possui 941 linhas e 7 colunas\n"
     ]
    }
   ],
   "source": [
    "linhas, colunas = df.shape\n",
    "\n",
    "print(\"O Dataset possui {} linhas e {} colunas\".format(linhas, colunas))"
   ]
  },
  {
   "cell_type": "markdown",
   "id": "d94be5b7-710b-4f82-aae2-0d858245817c",
   "metadata": {
    "tags": []
   },
   "source": [
    "#### Informações Básicas\n",
    "\n",
    "Aqui é possivel visualizar as colunas, os tipos de dados, e se o dataset possui valores nulos"
   ]
  },
  {
   "cell_type": "code",
   "execution_count": 7,
   "id": "6570aacb-5e12-4d42-9258-dea7fa6dc207",
   "metadata": {},
   "outputs": [
    {
     "name": "stdout",
     "output_type": "stream",
     "text": [
      "<class 'pandas.core.frame.DataFrame'>\n",
      "RangeIndex: 941 entries, 0 to 940\n",
      "Data columns (total 7 columns):\n",
      " #   Column                       Non-Null Count  Dtype  \n",
      "---  ------                       --------------  -----  \n",
      " 0   Data                         365 non-null    object \n",
      " 1   Temperatura Media (C)        365 non-null    object \n",
      " 2   Temperatura Minima (C)       365 non-null    object \n",
      " 3   Temperatura Maxima (C)       365 non-null    object \n",
      " 4   Precipitacao (mm)            365 non-null    object \n",
      " 5   Final de Semana              365 non-null    float64\n",
      " 6   Consumo de cerveja (litros)  365 non-null    float64\n",
      "dtypes: float64(2), object(5)\n",
      "memory usage: 51.6+ KB\n"
     ]
    }
   ],
   "source": [
    "df.info()"
   ]
  },
  {
   "cell_type": "markdown",
   "id": "3d0e0546-465c-4bc2-97b7-d9c638a55bca",
   "metadata": {
    "tags": []
   },
   "source": [
    "### Renomear Colunas\n",
    "\n",
    "Para fins de facilidade de uso, deixamos tudo em _snake_case_, padrão do Python"
   ]
  },
  {
   "cell_type": "code",
   "execution_count": 8,
   "id": "25b5496f-18d4-4750-a349-451be41dfb65",
   "metadata": {},
   "outputs": [
    {
     "data": {
      "text/plain": [
       "Index(['Data', 'Temperatura Media (C)', 'Temperatura Minima (C)',\n",
       "       'Temperatura Maxima (C)', 'Precipitacao (mm)', 'Final de Semana',\n",
       "       'Consumo de cerveja (litros)'],\n",
       "      dtype='object')"
      ]
     },
     "execution_count": 8,
     "metadata": {},
     "output_type": "execute_result"
    }
   ],
   "source": [
    "# Colunas Existentes\n",
    "df.columns"
   ]
  },
  {
   "cell_type": "code",
   "execution_count": 9,
   "id": "d6db0cca-1e0c-49cb-b0c0-a8957749a255",
   "metadata": {},
   "outputs": [],
   "source": [
    "df = df.rename(columns={\n",
    "    \"Data\": \"data\",\n",
    "    \"Temperatura Media (C)\": \"temperatura_media_c\",\n",
    "    \"Temperatura Minima (C)\": \"temperatura_minima_c\",\n",
    "    \"Temperatura Maxima (C)\": \"temperatura_maxima_c\",\n",
    "    \"Precipitacao (mm)\": \"precipitacacao_mm\",\n",
    "    \"Final de Semana\": \"final_de_semana\",\n",
    "    \"Consumo de cerveja (litros)\": \"consumo_cerveja_litros\",\n",
    "})"
   ]
  },
  {
   "cell_type": "code",
   "execution_count": 10,
   "id": "57f96d0d-afbe-491e-b696-6a401f139a99",
   "metadata": {},
   "outputs": [
    {
     "data": {
      "text/plain": [
       "Index(['data', 'temperatura_media_c', 'temperatura_minima_c',\n",
       "       'temperatura_maxima_c', 'precipitacacao_mm', 'final_de_semana',\n",
       "       'consumo_cerveja_litros'],\n",
       "      dtype='object')"
      ]
     },
     "execution_count": 10,
     "metadata": {},
     "output_type": "execute_result"
    }
   ],
   "source": [
    "# Colunas Renomeadas\n",
    "df.columns"
   ]
  },
  {
   "cell_type": "code",
   "execution_count": 11,
   "id": "3e51b058-09de-41e3-821a-43c865002468",
   "metadata": {},
   "outputs": [
    {
     "data": {
      "text/html": [
       "<div>\n",
       "<style scoped>\n",
       "    .dataframe tbody tr th:only-of-type {\n",
       "        vertical-align: middle;\n",
       "    }\n",
       "\n",
       "    .dataframe tbody tr th {\n",
       "        vertical-align: top;\n",
       "    }\n",
       "\n",
       "    .dataframe thead th {\n",
       "        text-align: right;\n",
       "    }\n",
       "</style>\n",
       "<table border=\"1\" class=\"dataframe\">\n",
       "  <thead>\n",
       "    <tr style=\"text-align: right;\">\n",
       "      <th></th>\n",
       "      <th>data</th>\n",
       "      <th>temperatura_media_c</th>\n",
       "      <th>temperatura_minima_c</th>\n",
       "      <th>temperatura_maxima_c</th>\n",
       "      <th>precipitacacao_mm</th>\n",
       "      <th>final_de_semana</th>\n",
       "      <th>consumo_cerveja_litros</th>\n",
       "    </tr>\n",
       "  </thead>\n",
       "  <tbody>\n",
       "    <tr>\n",
       "      <th>0</th>\n",
       "      <td>2015-01-01</td>\n",
       "      <td>27,3</td>\n",
       "      <td>23,9</td>\n",
       "      <td>32,5</td>\n",
       "      <td>0</td>\n",
       "      <td>0.0</td>\n",
       "      <td>25.461</td>\n",
       "    </tr>\n",
       "    <tr>\n",
       "      <th>1</th>\n",
       "      <td>2015-01-02</td>\n",
       "      <td>27,02</td>\n",
       "      <td>24,5</td>\n",
       "      <td>33,5</td>\n",
       "      <td>0</td>\n",
       "      <td>0.0</td>\n",
       "      <td>28.972</td>\n",
       "    </tr>\n",
       "    <tr>\n",
       "      <th>2</th>\n",
       "      <td>2015-01-03</td>\n",
       "      <td>24,82</td>\n",
       "      <td>22,4</td>\n",
       "      <td>29,9</td>\n",
       "      <td>0</td>\n",
       "      <td>1.0</td>\n",
       "      <td>30.814</td>\n",
       "    </tr>\n",
       "    <tr>\n",
       "      <th>3</th>\n",
       "      <td>2015-01-04</td>\n",
       "      <td>23,98</td>\n",
       "      <td>21,5</td>\n",
       "      <td>28,6</td>\n",
       "      <td>1,2</td>\n",
       "      <td>1.0</td>\n",
       "      <td>29.799</td>\n",
       "    </tr>\n",
       "    <tr>\n",
       "      <th>4</th>\n",
       "      <td>2015-01-05</td>\n",
       "      <td>23,82</td>\n",
       "      <td>21</td>\n",
       "      <td>28,3</td>\n",
       "      <td>0</td>\n",
       "      <td>0.0</td>\n",
       "      <td>28.900</td>\n",
       "    </tr>\n",
       "  </tbody>\n",
       "</table>\n",
       "</div>"
      ],
      "text/plain": [
       "         data temperatura_media_c temperatura_minima_c temperatura_maxima_c  \\\n",
       "0  2015-01-01                27,3                 23,9                 32,5   \n",
       "1  2015-01-02               27,02                 24,5                 33,5   \n",
       "2  2015-01-03               24,82                 22,4                 29,9   \n",
       "3  2015-01-04               23,98                 21,5                 28,6   \n",
       "4  2015-01-05               23,82                   21                 28,3   \n",
       "\n",
       "  precipitacacao_mm  final_de_semana  consumo_cerveja_litros  \n",
       "0                 0              0.0                  25.461  \n",
       "1                 0              0.0                  28.972  \n",
       "2                 0              1.0                  30.814  \n",
       "3               1,2              1.0                  29.799  \n",
       "4                 0              0.0                  28.900  "
      ]
     },
     "execution_count": 11,
     "metadata": {},
     "output_type": "execute_result"
    }
   ],
   "source": [
    "df.head()"
   ]
  },
  {
   "cell_type": "markdown",
   "id": "99a7073b-dd2a-4b59-bc9c-252725e8b013",
   "metadata": {},
   "source": [
    "### Tratar Dados Nulos"
   ]
  },
  {
   "cell_type": "markdown",
   "id": "b281340c-87af-4af8-a46f-3bc4d0b5d3cf",
   "metadata": {},
   "source": [
    "#### Inspecionar Dados Nulos"
   ]
  },
  {
   "cell_type": "code",
   "execution_count": 12,
   "id": "410cb412-b114-4fb1-9044-d9bf1a46c5c9",
   "metadata": {},
   "outputs": [
    {
     "data": {
      "text/html": [
       "<div>\n",
       "<style scoped>\n",
       "    .dataframe tbody tr th:only-of-type {\n",
       "        vertical-align: middle;\n",
       "    }\n",
       "\n",
       "    .dataframe tbody tr th {\n",
       "        vertical-align: top;\n",
       "    }\n",
       "\n",
       "    .dataframe thead th {\n",
       "        text-align: right;\n",
       "    }\n",
       "</style>\n",
       "<table border=\"1\" class=\"dataframe\">\n",
       "  <thead>\n",
       "    <tr style=\"text-align: right;\">\n",
       "      <th></th>\n",
       "      <th>data</th>\n",
       "      <th>temperatura_media_c</th>\n",
       "      <th>temperatura_minima_c</th>\n",
       "      <th>temperatura_maxima_c</th>\n",
       "      <th>precipitacacao_mm</th>\n",
       "      <th>final_de_semana</th>\n",
       "      <th>consumo_cerveja_litros</th>\n",
       "    </tr>\n",
       "  </thead>\n",
       "  <tbody>\n",
       "    <tr>\n",
       "      <th>365</th>\n",
       "      <td>NaN</td>\n",
       "      <td>NaN</td>\n",
       "      <td>NaN</td>\n",
       "      <td>NaN</td>\n",
       "      <td>NaN</td>\n",
       "      <td>NaN</td>\n",
       "      <td>NaN</td>\n",
       "    </tr>\n",
       "    <tr>\n",
       "      <th>366</th>\n",
       "      <td>NaN</td>\n",
       "      <td>NaN</td>\n",
       "      <td>NaN</td>\n",
       "      <td>NaN</td>\n",
       "      <td>NaN</td>\n",
       "      <td>NaN</td>\n",
       "      <td>NaN</td>\n",
       "    </tr>\n",
       "    <tr>\n",
       "      <th>367</th>\n",
       "      <td>NaN</td>\n",
       "      <td>NaN</td>\n",
       "      <td>NaN</td>\n",
       "      <td>NaN</td>\n",
       "      <td>NaN</td>\n",
       "      <td>NaN</td>\n",
       "      <td>NaN</td>\n",
       "    </tr>\n",
       "    <tr>\n",
       "      <th>368</th>\n",
       "      <td>NaN</td>\n",
       "      <td>NaN</td>\n",
       "      <td>NaN</td>\n",
       "      <td>NaN</td>\n",
       "      <td>NaN</td>\n",
       "      <td>NaN</td>\n",
       "      <td>NaN</td>\n",
       "    </tr>\n",
       "    <tr>\n",
       "      <th>369</th>\n",
       "      <td>NaN</td>\n",
       "      <td>NaN</td>\n",
       "      <td>NaN</td>\n",
       "      <td>NaN</td>\n",
       "      <td>NaN</td>\n",
       "      <td>NaN</td>\n",
       "      <td>NaN</td>\n",
       "    </tr>\n",
       "    <tr>\n",
       "      <th>...</th>\n",
       "      <td>...</td>\n",
       "      <td>...</td>\n",
       "      <td>...</td>\n",
       "      <td>...</td>\n",
       "      <td>...</td>\n",
       "      <td>...</td>\n",
       "      <td>...</td>\n",
       "    </tr>\n",
       "    <tr>\n",
       "      <th>936</th>\n",
       "      <td>NaN</td>\n",
       "      <td>NaN</td>\n",
       "      <td>NaN</td>\n",
       "      <td>NaN</td>\n",
       "      <td>NaN</td>\n",
       "      <td>NaN</td>\n",
       "      <td>NaN</td>\n",
       "    </tr>\n",
       "    <tr>\n",
       "      <th>937</th>\n",
       "      <td>NaN</td>\n",
       "      <td>NaN</td>\n",
       "      <td>NaN</td>\n",
       "      <td>NaN</td>\n",
       "      <td>NaN</td>\n",
       "      <td>NaN</td>\n",
       "      <td>NaN</td>\n",
       "    </tr>\n",
       "    <tr>\n",
       "      <th>938</th>\n",
       "      <td>NaN</td>\n",
       "      <td>NaN</td>\n",
       "      <td>NaN</td>\n",
       "      <td>NaN</td>\n",
       "      <td>NaN</td>\n",
       "      <td>NaN</td>\n",
       "      <td>NaN</td>\n",
       "    </tr>\n",
       "    <tr>\n",
       "      <th>939</th>\n",
       "      <td>NaN</td>\n",
       "      <td>NaN</td>\n",
       "      <td>NaN</td>\n",
       "      <td>NaN</td>\n",
       "      <td>NaN</td>\n",
       "      <td>NaN</td>\n",
       "      <td>NaN</td>\n",
       "    </tr>\n",
       "    <tr>\n",
       "      <th>940</th>\n",
       "      <td>NaN</td>\n",
       "      <td>NaN</td>\n",
       "      <td>NaN</td>\n",
       "      <td>NaN</td>\n",
       "      <td>NaN</td>\n",
       "      <td>NaN</td>\n",
       "      <td>NaN</td>\n",
       "    </tr>\n",
       "  </tbody>\n",
       "</table>\n",
       "<p>576 rows × 7 columns</p>\n",
       "</div>"
      ],
      "text/plain": [
       "    data temperatura_media_c temperatura_minima_c temperatura_maxima_c  \\\n",
       "365  NaN                 NaN                  NaN                  NaN   \n",
       "366  NaN                 NaN                  NaN                  NaN   \n",
       "367  NaN                 NaN                  NaN                  NaN   \n",
       "368  NaN                 NaN                  NaN                  NaN   \n",
       "369  NaN                 NaN                  NaN                  NaN   \n",
       "..   ...                 ...                  ...                  ...   \n",
       "936  NaN                 NaN                  NaN                  NaN   \n",
       "937  NaN                 NaN                  NaN                  NaN   \n",
       "938  NaN                 NaN                  NaN                  NaN   \n",
       "939  NaN                 NaN                  NaN                  NaN   \n",
       "940  NaN                 NaN                  NaN                  NaN   \n",
       "\n",
       "    precipitacacao_mm  final_de_semana  consumo_cerveja_litros  \n",
       "365               NaN              NaN                     NaN  \n",
       "366               NaN              NaN                     NaN  \n",
       "367               NaN              NaN                     NaN  \n",
       "368               NaN              NaN                     NaN  \n",
       "369               NaN              NaN                     NaN  \n",
       "..                ...              ...                     ...  \n",
       "936               NaN              NaN                     NaN  \n",
       "937               NaN              NaN                     NaN  \n",
       "938               NaN              NaN                     NaN  \n",
       "939               NaN              NaN                     NaN  \n",
       "940               NaN              NaN                     NaN  \n",
       "\n",
       "[576 rows x 7 columns]"
      ]
     },
     "execution_count": 12,
     "metadata": {},
     "output_type": "execute_result"
    }
   ],
   "source": [
    "# Mostrar dados Nulos\n",
    "df[df.isna().any(axis=1)]"
   ]
  },
  {
   "cell_type": "markdown",
   "id": "74893be3-c522-48f5-9436-830238a9b623",
   "metadata": {},
   "source": [
    "#### Remover dados nulos"
   ]
  },
  {
   "cell_type": "code",
   "execution_count": 13,
   "id": "6622caf7-a97e-4080-a464-7320dc349964",
   "metadata": {},
   "outputs": [],
   "source": [
    "# Remover dados nulos\n",
    "df = df[df.notna().any(axis=1)]"
   ]
  },
  {
   "cell_type": "code",
   "execution_count": 14,
   "id": "98dc4678-4afb-415f-a9d6-7ac9fc9fec9d",
   "metadata": {},
   "outputs": [
    {
     "data": {
      "text/html": [
       "<div>\n",
       "<style scoped>\n",
       "    .dataframe tbody tr th:only-of-type {\n",
       "        vertical-align: middle;\n",
       "    }\n",
       "\n",
       "    .dataframe tbody tr th {\n",
       "        vertical-align: top;\n",
       "    }\n",
       "\n",
       "    .dataframe thead th {\n",
       "        text-align: right;\n",
       "    }\n",
       "</style>\n",
       "<table border=\"1\" class=\"dataframe\">\n",
       "  <thead>\n",
       "    <tr style=\"text-align: right;\">\n",
       "      <th></th>\n",
       "      <th>data</th>\n",
       "      <th>temperatura_media_c</th>\n",
       "      <th>temperatura_minima_c</th>\n",
       "      <th>temperatura_maxima_c</th>\n",
       "      <th>precipitacacao_mm</th>\n",
       "      <th>final_de_semana</th>\n",
       "      <th>consumo_cerveja_litros</th>\n",
       "    </tr>\n",
       "  </thead>\n",
       "  <tbody>\n",
       "  </tbody>\n",
       "</table>\n",
       "</div>"
      ],
      "text/plain": [
       "Empty DataFrame\n",
       "Columns: [data, temperatura_media_c, temperatura_minima_c, temperatura_maxima_c, precipitacacao_mm, final_de_semana, consumo_cerveja_litros]\n",
       "Index: []"
      ]
     },
     "execution_count": 14,
     "metadata": {},
     "output_type": "execute_result"
    }
   ],
   "source": [
    "# Mostrar dados nulos\n",
    "df[df.isna().any(axis=1)]"
   ]
  },
  {
   "cell_type": "markdown",
   "id": "b0c45904-e562-4e44-877d-9b553fecd01a",
   "metadata": {},
   "source": [
    "#### Informações Básicas do Dataset após a Remoção de Dados Nulos"
   ]
  },
  {
   "cell_type": "code",
   "execution_count": 15,
   "id": "53e4f891-7943-496f-8a1e-b73dad3ecd58",
   "metadata": {},
   "outputs": [
    {
     "name": "stdout",
     "output_type": "stream",
     "text": [
      "<class 'pandas.core.frame.DataFrame'>\n",
      "Int64Index: 365 entries, 0 to 364\n",
      "Data columns (total 7 columns):\n",
      " #   Column                  Non-Null Count  Dtype  \n",
      "---  ------                  --------------  -----  \n",
      " 0   data                    365 non-null    object \n",
      " 1   temperatura_media_c     365 non-null    object \n",
      " 2   temperatura_minima_c    365 non-null    object \n",
      " 3   temperatura_maxima_c    365 non-null    object \n",
      " 4   precipitacacao_mm       365 non-null    object \n",
      " 5   final_de_semana         365 non-null    float64\n",
      " 6   consumo_cerveja_litros  365 non-null    float64\n",
      "dtypes: float64(2), object(5)\n",
      "memory usage: 22.8+ KB\n"
     ]
    }
   ],
   "source": [
    "df.info()"
   ]
  },
  {
   "cell_type": "markdown",
   "id": "e424d226-75bc-4a07-a37b-8b4028c5bbd9",
   "metadata": {},
   "source": [
    "### Tratar Tipos de Variáveis"
   ]
  },
  {
   "cell_type": "markdown",
   "id": "08e6a006-39cd-4c6a-af3e-bf7e0696e6c7",
   "metadata": {},
   "source": [
    "#### Mostrar tipos existentes"
   ]
  },
  {
   "cell_type": "code",
   "execution_count": 16,
   "id": "68179a25-36f8-4aaf-a948-5c051ec8715f",
   "metadata": {},
   "outputs": [
    {
     "data": {
      "text/plain": [
       "data                       object\n",
       "temperatura_media_c        object\n",
       "temperatura_minima_c       object\n",
       "temperatura_maxima_c       object\n",
       "precipitacacao_mm          object\n",
       "final_de_semana           float64\n",
       "consumo_cerveja_litros    float64\n",
       "dtype: object"
      ]
     },
     "execution_count": 16,
     "metadata": {},
     "output_type": "execute_result"
    }
   ],
   "source": [
    "df.dtypes"
   ]
  },
  {
   "cell_type": "code",
   "execution_count": 17,
   "id": "24f581eb-f4b4-41e8-90e0-9f1b1bb79e44",
   "metadata": {},
   "outputs": [
    {
     "data": {
      "text/html": [
       "<div>\n",
       "<style scoped>\n",
       "    .dataframe tbody tr th:only-of-type {\n",
       "        vertical-align: middle;\n",
       "    }\n",
       "\n",
       "    .dataframe tbody tr th {\n",
       "        vertical-align: top;\n",
       "    }\n",
       "\n",
       "    .dataframe thead th {\n",
       "        text-align: right;\n",
       "    }\n",
       "</style>\n",
       "<table border=\"1\" class=\"dataframe\">\n",
       "  <thead>\n",
       "    <tr style=\"text-align: right;\">\n",
       "      <th></th>\n",
       "      <th>data</th>\n",
       "      <th>temperatura_media_c</th>\n",
       "      <th>temperatura_minima_c</th>\n",
       "      <th>temperatura_maxima_c</th>\n",
       "      <th>precipitacacao_mm</th>\n",
       "      <th>final_de_semana</th>\n",
       "      <th>consumo_cerveja_litros</th>\n",
       "    </tr>\n",
       "  </thead>\n",
       "  <tbody>\n",
       "    <tr>\n",
       "      <th>219</th>\n",
       "      <td>2015-08-08</td>\n",
       "      <td>21,16</td>\n",
       "      <td>16</td>\n",
       "      <td>27,8</td>\n",
       "      <td>0</td>\n",
       "      <td>1.0</td>\n",
       "      <td>31.310</td>\n",
       "    </tr>\n",
       "    <tr>\n",
       "      <th>102</th>\n",
       "      <td>2015-04-13</td>\n",
       "      <td>20,88</td>\n",
       "      <td>18,1</td>\n",
       "      <td>25,7</td>\n",
       "      <td>0</td>\n",
       "      <td>0.0</td>\n",
       "      <td>22.620</td>\n",
       "    </tr>\n",
       "    <tr>\n",
       "      <th>18</th>\n",
       "      <td>2015-01-19</td>\n",
       "      <td>28,22</td>\n",
       "      <td>22,7</td>\n",
       "      <td>36,5</td>\n",
       "      <td>3,7</td>\n",
       "      <td>0.0</td>\n",
       "      <td>29.265</td>\n",
       "    </tr>\n",
       "    <tr>\n",
       "      <th>156</th>\n",
       "      <td>2015-06-06</td>\n",
       "      <td>19,66</td>\n",
       "      <td>13,8</td>\n",
       "      <td>26,1</td>\n",
       "      <td>0</td>\n",
       "      <td>1.0</td>\n",
       "      <td>31.129</td>\n",
       "    </tr>\n",
       "    <tr>\n",
       "      <th>318</th>\n",
       "      <td>2015-11-15</td>\n",
       "      <td>23,06</td>\n",
       "      <td>19,8</td>\n",
       "      <td>29,7</td>\n",
       "      <td>8</td>\n",
       "      <td>1.0</td>\n",
       "      <td>29.386</td>\n",
       "    </tr>\n",
       "  </tbody>\n",
       "</table>\n",
       "</div>"
      ],
      "text/plain": [
       "           data temperatura_media_c temperatura_minima_c temperatura_maxima_c  \\\n",
       "219  2015-08-08               21,16                   16                 27,8   \n",
       "102  2015-04-13               20,88                 18,1                 25,7   \n",
       "18   2015-01-19               28,22                 22,7                 36,5   \n",
       "156  2015-06-06               19,66                 13,8                 26,1   \n",
       "318  2015-11-15               23,06                 19,8                 29,7   \n",
       "\n",
       "    precipitacacao_mm  final_de_semana  consumo_cerveja_litros  \n",
       "219                 0              1.0                  31.310  \n",
       "102                 0              0.0                  22.620  \n",
       "18                3,7              0.0                  29.265  \n",
       "156                 0              1.0                  31.129  \n",
       "318                 8              1.0                  29.386  "
      ]
     },
     "execution_count": 17,
     "metadata": {},
     "output_type": "execute_result"
    }
   ],
   "source": [
    "df.sample(5)"
   ]
  },
  {
   "cell_type": "markdown",
   "id": "572015c0-433f-4f1b-988a-7753374f83e6",
   "metadata": {},
   "source": [
    "#### Converter Strings para Float"
   ]
  },
  {
   "cell_type": "code",
   "execution_count": 18,
   "id": "20ea9fe7-3acd-4970-b259-7cc926db6e88",
   "metadata": {},
   "outputs": [],
   "source": [
    "def substituir_virgula_por_ponto(x):\n",
    "    return x.replace(',', '.')\n",
    "\n",
    "df['temperatura_media_c'] = df['temperatura_media_c'].apply(substituir_virgula_por_ponto)\n",
    "df['temperatura_minima_c'] = df['temperatura_minima_c'].apply(substituir_virgula_por_ponto)\n",
    "df['temperatura_maxima_c'] = df['temperatura_maxima_c'].apply(substituir_virgula_por_ponto)\n",
    "df['precipitacacao_mm'] = df['precipitacacao_mm'].apply(substituir_virgula_por_ponto)\n",
    "\n",
    "df['temperatura_media_c'] = df['temperatura_media_c'].astype(float)\n",
    "df['temperatura_minima_c'] = df['temperatura_minima_c'].astype(float)\n",
    "df['temperatura_maxima_c'] = df['temperatura_maxima_c'].astype(float)\n",
    "df['precipitacacao_mm'] = df['precipitacacao_mm'].astype(float)"
   ]
  },
  {
   "cell_type": "code",
   "execution_count": 19,
   "id": "417c1019-1d01-4d86-ac69-baf9b4c891d6",
   "metadata": {},
   "outputs": [
    {
     "data": {
      "text/plain": [
       "data                       object\n",
       "temperatura_media_c       float64\n",
       "temperatura_minima_c      float64\n",
       "temperatura_maxima_c      float64\n",
       "precipitacacao_mm         float64\n",
       "final_de_semana           float64\n",
       "consumo_cerveja_litros    float64\n",
       "dtype: object"
      ]
     },
     "execution_count": 19,
     "metadata": {},
     "output_type": "execute_result"
    }
   ],
   "source": [
    "df.dtypes"
   ]
  },
  {
   "cell_type": "code",
   "execution_count": 20,
   "id": "53a55a8e-580e-4e4e-9401-9ab806f7555c",
   "metadata": {},
   "outputs": [
    {
     "data": {
      "text/html": [
       "<div>\n",
       "<style scoped>\n",
       "    .dataframe tbody tr th:only-of-type {\n",
       "        vertical-align: middle;\n",
       "    }\n",
       "\n",
       "    .dataframe tbody tr th {\n",
       "        vertical-align: top;\n",
       "    }\n",
       "\n",
       "    .dataframe thead th {\n",
       "        text-align: right;\n",
       "    }\n",
       "</style>\n",
       "<table border=\"1\" class=\"dataframe\">\n",
       "  <thead>\n",
       "    <tr style=\"text-align: right;\">\n",
       "      <th></th>\n",
       "      <th>data</th>\n",
       "      <th>temperatura_media_c</th>\n",
       "      <th>temperatura_minima_c</th>\n",
       "      <th>temperatura_maxima_c</th>\n",
       "      <th>precipitacacao_mm</th>\n",
       "      <th>final_de_semana</th>\n",
       "      <th>consumo_cerveja_litros</th>\n",
       "    </tr>\n",
       "  </thead>\n",
       "  <tbody>\n",
       "    <tr>\n",
       "      <th>334</th>\n",
       "      <td>2015-12-01</td>\n",
       "      <td>20.10</td>\n",
       "      <td>16.4</td>\n",
       "      <td>25.8</td>\n",
       "      <td>0.0</td>\n",
       "      <td>0.0</td>\n",
       "      <td>24.529</td>\n",
       "    </tr>\n",
       "    <tr>\n",
       "      <th>335</th>\n",
       "      <td>2015-12-02</td>\n",
       "      <td>22.10</td>\n",
       "      <td>18.2</td>\n",
       "      <td>29.4</td>\n",
       "      <td>0.0</td>\n",
       "      <td>0.0</td>\n",
       "      <td>30.471</td>\n",
       "    </tr>\n",
       "    <tr>\n",
       "      <th>107</th>\n",
       "      <td>2015-04-18</td>\n",
       "      <td>23.36</td>\n",
       "      <td>18.2</td>\n",
       "      <td>29.3</td>\n",
       "      <td>0.0</td>\n",
       "      <td>1.0</td>\n",
       "      <td>33.822</td>\n",
       "    </tr>\n",
       "    <tr>\n",
       "      <th>96</th>\n",
       "      <td>2015-04-07</td>\n",
       "      <td>17.38</td>\n",
       "      <td>16.1</td>\n",
       "      <td>20.0</td>\n",
       "      <td>7.1</td>\n",
       "      <td>0.0</td>\n",
       "      <td>21.004</td>\n",
       "    </tr>\n",
       "    <tr>\n",
       "      <th>65</th>\n",
       "      <td>2015-03-07</td>\n",
       "      <td>21.92</td>\n",
       "      <td>19.4</td>\n",
       "      <td>26.6</td>\n",
       "      <td>38.2</td>\n",
       "      <td>1.0</td>\n",
       "      <td>29.090</td>\n",
       "    </tr>\n",
       "  </tbody>\n",
       "</table>\n",
       "</div>"
      ],
      "text/plain": [
       "           data  temperatura_media_c  temperatura_minima_c  \\\n",
       "334  2015-12-01                20.10                  16.4   \n",
       "335  2015-12-02                22.10                  18.2   \n",
       "107  2015-04-18                23.36                  18.2   \n",
       "96   2015-04-07                17.38                  16.1   \n",
       "65   2015-03-07                21.92                  19.4   \n",
       "\n",
       "     temperatura_maxima_c  precipitacacao_mm  final_de_semana  \\\n",
       "334                  25.8                0.0              0.0   \n",
       "335                  29.4                0.0              0.0   \n",
       "107                  29.3                0.0              1.0   \n",
       "96                   20.0                7.1              0.0   \n",
       "65                   26.6               38.2              1.0   \n",
       "\n",
       "     consumo_cerveja_litros  \n",
       "334                  24.529  \n",
       "335                  30.471  \n",
       "107                  33.822  \n",
       "96                   21.004  \n",
       "65                   29.090  "
      ]
     },
     "execution_count": 20,
     "metadata": {},
     "output_type": "execute_result"
    }
   ],
   "source": [
    "df.sample(5)"
   ]
  },
  {
   "cell_type": "markdown",
   "id": "d99a5733-3138-4b3b-877d-57b7ab53ca3b",
   "metadata": {},
   "source": [
    "## Visualização de Varáveis"
   ]
  },
  {
   "cell_type": "markdown",
   "id": "995b97be-4a89-4be0-a45f-821a2d71baf6",
   "metadata": {},
   "source": [
    "### Temperatura Média"
   ]
  },
  {
   "cell_type": "markdown",
   "id": "12b048f6-77a0-459e-bb9c-53b90694e564",
   "metadata": {},
   "source": [
    "#### Estatística Descritiva"
   ]
  },
  {
   "cell_type": "code",
   "execution_count": 21,
   "id": "57b3f536-ed06-4f7a-be3e-4c709bd9d188",
   "metadata": {},
   "outputs": [
    {
     "data": {
      "text/plain": [
       "count    365.000000\n",
       "mean      21.226356\n",
       "std        3.180108\n",
       "min       12.900000\n",
       "25%       19.020000\n",
       "50%       21.380000\n",
       "75%       23.280000\n",
       "max       28.860000\n",
       "Name: temperatura_media_c, dtype: float64"
      ]
     },
     "execution_count": 21,
     "metadata": {},
     "output_type": "execute_result"
    }
   ],
   "source": [
    "df[\"temperatura_media_c\"].describe()"
   ]
  },
  {
   "cell_type": "markdown",
   "id": "662d278b-0592-4011-aa77-3e37ecc8c16d",
   "metadata": {},
   "source": [
    "#### Histograma"
   ]
  },
  {
   "cell_type": "code",
   "execution_count": 22,
   "id": "ef1f71fe-af99-4945-96f8-07376200c9ea",
   "metadata": {},
   "outputs": [
    {
     "data": {
      "text/plain": [
       "Text(0.5, 1.0, 'Histograma de Temperatura Média')"
      ]
     },
     "execution_count": 22,
     "metadata": {},
     "output_type": "execute_result"
    },
    {
     "data": {
      "image/png": "[encoded data removed]",
      "text/plain": [
       "<Figure size 432x288 with 1 Axes>"
      ]
     },
     "metadata": {
      "needs_background": "light"
     },
     "output_type": "display_data"
    }
   ],
   "source": [
    "ax = sns.histplot(data=df, x=\"temperatura_media_c\", kde=True, bins=20, color=\"green\")\n",
    "\n",
    "ax.set_title(\"Histograma de Temperatura Média\")"
   ]
  },
  {
   "cell_type": "markdown",
   "id": "a50bfca2-f265-4951-ba27-a5c0ccf75f6f",
   "metadata": {},
   "source": [
    "#### Temperatura Média Ambiente vs Consumo de Cerveja"
   ]
  },
  {
   "cell_type": "code",
   "execution_count": 24,
   "id": "2d841179-1add-4fc2-841f-00c8edcd558f",
   "metadata": {},
   "outputs": [
    {
     "data": {
      "text/plain": [
       "Text(0.5, 1.0, 'Temperatura Média Ambiente vs Consumo de Cerveja')"
      ]
     },
     "execution_count": 24,
     "metadata": {},
     "output_type": "execute_result"
    },
    {
     "data": {
      "image/png": "[encoded data removed]",
      "text/plain": [
       "<Figure size 432x288 with 1 Axes>"
      ]
     },
     "metadata": {
      "needs_background": "light"
     },
     "output_type": "display_data"
    }
   ],
   "source": [
    "ax = sns.regplot(data=df, x='temperatura_media_c', y='consumo_cerveja_litros', color=\"green\")\n",
    "\n",
    "ax.set_title(\"Temperatura Média Ambiente vs Consumo de Cerveja\")"
   ]
  },
  {
   "cell_type": "markdown",
   "id": "de0b861d-b205-44e7-b7f3-591eb65a1cf5",
   "metadata": {},
   "source": [
    "### Temperatura Mínima"
   ]
  },
  {
   "cell_type": "markdown",
   "id": "b0401d88-6ec7-487c-a1f5-a9e20302f7b5",
   "metadata": {},
   "source": [
    "#### Estatística Descritiva"
   ]
  },
  {
   "cell_type": "code",
   "execution_count": 25,
   "id": "e2d9742c-be54-4b8e-966e-3bb7e1e32ec2",
   "metadata": {},
   "outputs": [
    {
     "data": {
      "text/plain": [
       "count    365.000000\n",
       "mean      17.461370\n",
       "std        2.826185\n",
       "min       10.600000\n",
       "25%       15.300000\n",
       "50%       17.900000\n",
       "75%       19.600000\n",
       "max       24.500000\n",
       "Name: temperatura_minima_c, dtype: float64"
      ]
     },
     "execution_count": 25,
     "metadata": {},
     "output_type": "execute_result"
    }
   ],
   "source": [
    "df[\"temperatura_minima_c\"].describe()"
   ]
  },
  {
   "cell_type": "markdown",
   "id": "7fe64ba2-1577-4fe8-acd8-295caccd7b7d",
   "metadata": {},
   "source": [
    "#### Histograma"
   ]
  },
  {
   "cell_type": "code",
   "execution_count": 26,
   "id": "de06a80e-ab00-48e6-92e8-7697a849d939",
   "metadata": {},
   "outputs": [
    {
     "data": {
      "text/plain": [
       "Text(0.5, 1.0, 'Histograma de Temperatura Mínima')"
      ]
     },
     "execution_count": 26,
     "metadata": {},
     "output_type": "execute_result"
    },
    {
     "data": {
      "image/png": "[encoded data removed]",
      "text/plain": [
       "<Figure size 432x288 with 1 Axes>"
      ]
     },
     "metadata": {
      "needs_background": "light"
     },
     "output_type": "display_data"
    }
   ],
   "source": [
    "ax = sns.histplot(data=df, x=\"temperatura_minima_c\", kde=True, bins=20, color=\"blue\")\n",
    "\n",
    "ax.set_title(\"Histograma de Temperatura Mínima\")"
   ]
  },
  {
   "cell_type": "markdown",
   "id": "3186566f-8513-4b75-9814-45566cd9d0f2",
   "metadata": {},
   "source": [
    "#### Temperatura Média Ambiente vs Consumo de Cerveja"
   ]
  },
  {
   "cell_type": "code",
   "execution_count": 27,
   "id": "a471ddd3-9ee8-470f-9f96-157530632927",
   "metadata": {},
   "outputs": [
    {
     "data": {
      "text/plain": [
       "Text(0.5, 1.0, 'Temperatura Mínima Ambiente vs Consumo de Cerveja')"
      ]
     },
     "execution_count": 27,
     "metadata": {},
     "output_type": "execute_result"
    },
    {
     "data": {
      "image/png": "[encoded data removed]",
      "text/plain": [
       "<Figure size 432x288 with 1 Axes>"
      ]
     },
     "metadata": {
      "needs_background": "light"
     },
     "output_type": "display_data"
    }
   ],
   "source": [
    "ax = sns.regplot(data=df, x='temperatura_minima_c', y='consumo_cerveja_litros', color=\"blue\")\n",
    "\n",
    "ax.set_title(\"Temperatura Mínima Ambiente vs Consumo de Cerveja\")"
   ]
  },
  {
   "cell_type": "markdown",
   "id": "41c55523-5a89-4af8-a36a-d54ba057805d",
   "metadata": {},
   "source": [
    "### Temperatura Máxima"
   ]
  },
  {
   "cell_type": "markdown",
   "id": "8f06e212-7d67-4851-99e9-0a2261482281",
   "metadata": {},
   "source": [
    "#### Estatística Descritiva"
   ]
  },
  {
   "cell_type": "code",
   "execution_count": 28,
   "id": "e1860753-4c10-401a-a107-8f6bb239adf3",
   "metadata": {},
   "outputs": [
    {
     "data": {
      "text/plain": [
       "count    365.000000\n",
       "mean      26.611507\n",
       "std        4.317366\n",
       "min       14.500000\n",
       "25%       23.800000\n",
       "50%       26.900000\n",
       "75%       29.400000\n",
       "max       36.500000\n",
       "Name: temperatura_maxima_c, dtype: float64"
      ]
     },
     "execution_count": 28,
     "metadata": {},
     "output_type": "execute_result"
    }
   ],
   "source": [
    "df[\"temperatura_maxima_c\"].describe()"
   ]
  },
  {
   "cell_type": "markdown",
   "id": "160367c3-dca7-4219-93a6-91ad446000c3",
   "metadata": {},
   "source": [
    "#### Histograma"
   ]
  },
  {
   "cell_type": "code",
   "execution_count": 29,
   "id": "d2cfd83a-6858-468b-8d64-f72e250fa397",
   "metadata": {},
   "outputs": [
    {
     "data": {
      "text/plain": [
       "Text(0.5, 1.0, 'Histograma de Temperatura Máxima')"
      ]
     },
     "execution_count": 29,
     "metadata": {},
     "output_type": "execute_result"
    },
    {
     "data": {
      "image/png": "[encoded data removed]",
      "text/plain": [
       "<Figure size 432x288 with 1 Axes>"
      ]
     },
     "metadata": {
      "needs_background": "light"
     },
     "output_type": "display_data"
    }
   ],
   "source": [
    "ax = sns.histplot(data=df, x=\"temperatura_maxima_c\", kde=True, bins=20, color=\"red\")\n",
    "\n",
    "ax.set_title(\"Histograma de Temperatura Máxima\")"
   ]
  },
  {
   "cell_type": "markdown",
   "id": "9629c80c-6861-4752-9f7d-ea9ff3540618",
   "metadata": {},
   "source": [
    "#### Temperatura Máxima Ambiente vs Consumo de Cerveja"
   ]
  },
  {
   "cell_type": "code",
   "execution_count": 30,
   "id": "47205f87-e34b-46ae-8833-54f327d6ff89",
   "metadata": {},
   "outputs": [
    {
     "data": {
      "text/plain": [
       "Text(0.5, 1.0, 'Temperatura Máxima Ambiente vs Consumo de Cerveja')"
      ]
     },
     "execution_count": 30,
     "metadata": {},
     "output_type": "execute_result"
    },
    {
     "data": {
      "image/png": "[encoded data removed]",
      "text/plain": [
       "<Figure size 432x288 with 1 Axes>"
      ]
     },
     "metadata": {
      "needs_background": "light"
     },
     "output_type": "display_data"
    }
   ],
   "source": [
    "ax = sns.regplot(data=df, x='temperatura_maxima_c', y='consumo_cerveja_litros', color=\"red\")\n",
    "\n",
    "ax.set_title(\"Temperatura Máxima Ambiente vs Consumo de Cerveja\")"
   ]
  },
  {
   "cell_type": "markdown",
   "id": "1eea0635-5cd8-425e-b4c6-180415786a23",
   "metadata": {},
   "source": [
    "### Precipitação (Chuva)"
   ]
  },
  {
   "cell_type": "markdown",
   "id": "93cd69cc-124f-43e3-afcc-28814268b609",
   "metadata": {},
   "source": [
    "#### Estatística Descritiva"
   ]
  },
  {
   "cell_type": "code",
   "execution_count": 32,
   "id": "300108e1-cda3-4301-8055-e0cdf614481c",
   "metadata": {},
   "outputs": [
    {
     "data": {
      "text/plain": [
       "count    365.000000\n",
       "mean       5.196712\n",
       "std       12.417844\n",
       "min        0.000000\n",
       "25%        0.000000\n",
       "50%        0.000000\n",
       "75%        3.200000\n",
       "max       94.800000\n",
       "Name: precipitacacao_mm, dtype: float64"
      ]
     },
     "execution_count": 32,
     "metadata": {},
     "output_type": "execute_result"
    }
   ],
   "source": [
    "df[\"precipitacacao_mm\"].describe()"
   ]
  },
  {
   "cell_type": "markdown",
   "id": "6ba9d734-981d-417e-b5a3-fcddbdddfb2e",
   "metadata": {},
   "source": [
    "#### Histograma"
   ]
  },
  {
   "cell_type": "code",
   "execution_count": 36,
   "id": "485cdf0c-b9f8-44c8-98c8-83247f5ac9d3",
   "metadata": {},
   "outputs": [
    {
     "data": {
      "text/plain": [
       "Text(0.5, 1.0, 'Histograma de Precipitação')"
      ]
     },
     "execution_count": 36,
     "metadata": {},
     "output_type": "execute_result"
    },
    {
     "data": {
      "image/png": "[encoded data removed]",
      "text/plain": [
       "<Figure size 432x288 with 1 Axes>"
      ]
     },
     "metadata": {
      "needs_background": "light"
     },
     "output_type": "display_data"
    }
   ],
   "source": [
    "ax = sns.histplot(data=df, x=\"precipitacacao_mm\", kde=True, bins=5, color=\"#0bc\")\n",
    "\n",
    "ax.set_title(\"Histograma de Precipitação\")"
   ]
  },
  {
   "cell_type": "markdown",
   "id": "fc268a4f-aea2-47cd-b101-43124c65cfd1",
   "metadata": {},
   "source": [
    "#### Precipitação vs Consumo de Cerveja"
   ]
  },
  {
   "cell_type": "code",
   "execution_count": 37,
   "id": "9a4261de-e767-414e-abc2-86493a00821d",
   "metadata": {},
   "outputs": [
    {
     "data": {
      "text/plain": [
       "Text(0.5, 1.0, 'Precipitação (mm) vs Consumo de Cerveja')"
      ]
     },
     "execution_count": 37,
     "metadata": {},
     "output_type": "execute_result"
    },
    {
     "data": {
      "image/png": "[encoded data removed]",
      "text/plain": [
       "<Figure size 432x288 with 1 Axes>"
      ]
     },
     "metadata": {
      "needs_background": "light"
     },
     "output_type": "display_data"
    }
   ],
   "source": [
    "ax = sns.regplot(data=df, x='precipitacacao_mm', y='consumo_cerveja_litros', color=\"#0bc\")\n",
    "\n",
    "ax.set_title(\"Precipitação (mm) vs Consumo de Cerveja\")"
   ]
  },
  {
   "cell_type": "markdown",
   "id": "1882336a-9f6f-4172-b7cf-08b6d47a75ed",
   "metadata": {},
   "source": [
    "### Fim de Semana"
   ]
  },
  {
   "cell_type": "markdown",
   "id": "6f63300e-ea25-4d5e-8488-2f39115ec7e4",
   "metadata": {},
   "source": [
    "#### Estatística Descritiva"
   ]
  },
  {
   "cell_type": "code",
   "execution_count": 38,
   "id": "f169d7b8-b4cf-4998-9426-41650ee721a5",
   "metadata": {},
   "outputs": [
    {
     "data": {
      "text/plain": [
       "count    365.000000\n",
       "mean       0.284932\n",
       "std        0.452001\n",
       "min        0.000000\n",
       "25%        0.000000\n",
       "50%        0.000000\n",
       "75%        1.000000\n",
       "max        1.000000\n",
       "Name: final_de_semana, dtype: float64"
      ]
     },
     "execution_count": 38,
     "metadata": {},
     "output_type": "execute_result"
    }
   ],
   "source": [
    "df[\"final_de_semana\"].describe()"
   ]
  },
  {
   "cell_type": "markdown",
   "id": "608887c2-eca5-4a21-ba73-aa9b81d06bea",
   "metadata": {},
   "source": [
    "#### Fim de Semana vs Consumo de Cerveja"
   ]
  },
  {
   "cell_type": "code",
   "execution_count": 39,
   "id": "9d230eb0-4af5-415f-ab16-8097d349659e",
   "metadata": {},
   "outputs": [
    {
     "data": {
      "text/plain": [
       "Text(0.5, 1.0, 'Fim de Semana vs Consumo de Cerveja')"
      ]
     },
     "execution_count": 39,
     "metadata": {},
     "output_type": "execute_result"
    },
    {
     "data": {
      "image/png": "[encoded data removed]",
      "text/plain": [
       "<Figure size 360x360 with 1 Axes>"
      ]
     },
     "metadata": {
      "needs_background": "light"
     },
     "output_type": "display_data"
    }
   ],
   "source": [
    "g = sns.catplot(data=df, x='final_de_semana', y='consumo_cerveja_litros', color=\"#0bc\")\n",
    "\n",
    "axes = g.axes.flatten()\n",
    "axes[0].set_title(\"Fim de Semana vs Consumo de Cerveja\")"
   ]
  },
  {
   "cell_type": "markdown",
   "id": "f58679ac-4890-401e-b6dc-6160991c201e",
   "metadata": {},
   "source": [
    "##### Consumo Diário em Dia de Semana e Dia de Fim de Semana"
   ]
  },
  {
   "cell_type": "code",
   "execution_count": 40,
   "id": "51a1e445-830a-4a59-b93d-8c14b367184b",
   "metadata": {},
   "outputs": [
    {
     "data": {
      "image/png": "[encoded data removed]",
      "text/plain": [
       "<Figure size 432x288 with 1 Axes>"
      ]
     },
     "metadata": {
      "needs_background": "light"
     },
     "output_type": "display_data"
    }
   ],
   "source": [
    "consumo_por_dia = {\n",
    "    'dia_de_semana': df[df['final_de_semana'] == 0]['consumo_cerveja_litros'].sum()/5,\n",
    "    'dia_de_fim_de_semana': df[df['final_de_semana'] == 1]['consumo_cerveja_litros'].sum()/2,\n",
    "}\n",
    "\n",
    "ax = pd.Series(consumo_por_dia).plot.bar()\n",
    "\n",
    "\n",
    "ax.set_title(\"Consumo de Cerveja Diário Durante a Semana e Fim de Semana\")\n",
    "ax.set_xticklabels(labels=consumo_por_dia.keys(),rotation=0);"
   ]
  },
  {
   "cell_type": "markdown",
   "id": "01aa32df-6707-4e3b-8980-18aec16f92e9",
   "metadata": {},
   "source": [
    "## Machine Learning"
   ]
  },
  {
   "cell_type": "markdown",
   "id": "9c62433c-8318-4d27-b6fb-6a0a4c440e0a",
   "metadata": {
    "tags": []
   },
   "source": [
    "### Visualização dos Dados"
   ]
  },
  {
   "cell_type": "code",
   "execution_count": 41,
   "id": "443a7bcc-0d10-4ee4-a1a2-9e02526a82ec",
   "metadata": {},
   "outputs": [
    {
     "data": {
      "text/html": [
       "<div>\n",
       "<style scoped>\n",
       "    .dataframe tbody tr th:only-of-type {\n",
       "        vertical-align: middle;\n",
       "    }\n",
       "\n",
       "    .dataframe tbody tr th {\n",
       "        vertical-align: top;\n",
       "    }\n",
       "\n",
       "    .dataframe thead th {\n",
       "        text-align: right;\n",
       "    }\n",
       "</style>\n",
       "<table border=\"1\" class=\"dataframe\">\n",
       "  <thead>\n",
       "    <tr style=\"text-align: right;\">\n",
       "      <th></th>\n",
       "      <th>data</th>\n",
       "      <th>temperatura_media_c</th>\n",
       "      <th>temperatura_minima_c</th>\n",
       "      <th>temperatura_maxima_c</th>\n",
       "      <th>precipitacacao_mm</th>\n",
       "      <th>final_de_semana</th>\n",
       "      <th>consumo_cerveja_litros</th>\n",
       "    </tr>\n",
       "  </thead>\n",
       "  <tbody>\n",
       "    <tr>\n",
       "      <th>65</th>\n",
       "      <td>2015-03-07</td>\n",
       "      <td>21.92</td>\n",
       "      <td>19.4</td>\n",
       "      <td>26.6</td>\n",
       "      <td>38.2</td>\n",
       "      <td>1.0</td>\n",
       "      <td>29.090</td>\n",
       "    </tr>\n",
       "    <tr>\n",
       "      <th>334</th>\n",
       "      <td>2015-12-01</td>\n",
       "      <td>20.10</td>\n",
       "      <td>16.4</td>\n",
       "      <td>25.8</td>\n",
       "      <td>0.0</td>\n",
       "      <td>0.0</td>\n",
       "      <td>24.529</td>\n",
       "    </tr>\n",
       "    <tr>\n",
       "      <th>283</th>\n",
       "      <td>2015-10-11</td>\n",
       "      <td>22.48</td>\n",
       "      <td>19.6</td>\n",
       "      <td>30.0</td>\n",
       "      <td>0.0</td>\n",
       "      <td>1.0</td>\n",
       "      <td>34.496</td>\n",
       "    </tr>\n",
       "    <tr>\n",
       "      <th>142</th>\n",
       "      <td>2015-05-23</td>\n",
       "      <td>19.94</td>\n",
       "      <td>15.9</td>\n",
       "      <td>24.4</td>\n",
       "      <td>0.0</td>\n",
       "      <td>1.0</td>\n",
       "      <td>27.250</td>\n",
       "    </tr>\n",
       "    <tr>\n",
       "      <th>236</th>\n",
       "      <td>2015-08-25</td>\n",
       "      <td>16.98</td>\n",
       "      <td>14.3</td>\n",
       "      <td>20.5</td>\n",
       "      <td>2.4</td>\n",
       "      <td>0.0</td>\n",
       "      <td>21.092</td>\n",
       "    </tr>\n",
       "    <tr>\n",
       "      <th>70</th>\n",
       "      <td>2015-03-12</td>\n",
       "      <td>22.26</td>\n",
       "      <td>19.2</td>\n",
       "      <td>26.9</td>\n",
       "      <td>1.2</td>\n",
       "      <td>0.0</td>\n",
       "      <td>22.409</td>\n",
       "    </tr>\n",
       "    <tr>\n",
       "      <th>95</th>\n",
       "      <td>2015-04-06</td>\n",
       "      <td>21.36</td>\n",
       "      <td>18.5</td>\n",
       "      <td>27.7</td>\n",
       "      <td>0.0</td>\n",
       "      <td>0.0</td>\n",
       "      <td>22.356</td>\n",
       "    </tr>\n",
       "    <tr>\n",
       "      <th>335</th>\n",
       "      <td>2015-12-02</td>\n",
       "      <td>22.10</td>\n",
       "      <td>18.2</td>\n",
       "      <td>29.4</td>\n",
       "      <td>0.0</td>\n",
       "      <td>0.0</td>\n",
       "      <td>30.471</td>\n",
       "    </tr>\n",
       "    <tr>\n",
       "      <th>156</th>\n",
       "      <td>2015-06-06</td>\n",
       "      <td>19.66</td>\n",
       "      <td>13.8</td>\n",
       "      <td>26.1</td>\n",
       "      <td>0.0</td>\n",
       "      <td>1.0</td>\n",
       "      <td>31.129</td>\n",
       "    </tr>\n",
       "    <tr>\n",
       "      <th>262</th>\n",
       "      <td>2015-09-20</td>\n",
       "      <td>23.60</td>\n",
       "      <td>19.2</td>\n",
       "      <td>33.3</td>\n",
       "      <td>0.0</td>\n",
       "      <td>1.0</td>\n",
       "      <td>34.695</td>\n",
       "    </tr>\n",
       "  </tbody>\n",
       "</table>\n",
       "</div>"
      ],
      "text/plain": [
       "           data  temperatura_media_c  temperatura_minima_c  \\\n",
       "65   2015-03-07                21.92                  19.4   \n",
       "334  2015-12-01                20.10                  16.4   \n",
       "283  2015-10-11                22.48                  19.6   \n",
       "142  2015-05-23                19.94                  15.9   \n",
       "236  2015-08-25                16.98                  14.3   \n",
       "70   2015-03-12                22.26                  19.2   \n",
       "95   2015-04-06                21.36                  18.5   \n",
       "335  2015-12-02                22.10                  18.2   \n",
       "156  2015-06-06                19.66                  13.8   \n",
       "262  2015-09-20                23.60                  19.2   \n",
       "\n",
       "     temperatura_maxima_c  precipitacacao_mm  final_de_semana  \\\n",
       "65                   26.6               38.2              1.0   \n",
       "334                  25.8                0.0              0.0   \n",
       "283                  30.0                0.0              1.0   \n",
       "142                  24.4                0.0              1.0   \n",
       "236                  20.5                2.4              0.0   \n",
       "70                   26.9                1.2              0.0   \n",
       "95                   27.7                0.0              0.0   \n",
       "335                  29.4                0.0              0.0   \n",
       "156                  26.1                0.0              1.0   \n",
       "262                  33.3                0.0              1.0   \n",
       "\n",
       "     consumo_cerveja_litros  \n",
       "65                   29.090  \n",
       "334                  24.529  \n",
       "283                  34.496  \n",
       "142                  27.250  \n",
       "236                  21.092  \n",
       "70                   22.409  \n",
       "95                   22.356  \n",
       "335                  30.471  \n",
       "156                  31.129  \n",
       "262                  34.695  "
      ]
     },
     "execution_count": 41,
     "metadata": {},
     "output_type": "execute_result"
    }
   ],
   "source": [
    "df.sample(10)"
   ]
  },
  {
   "cell_type": "markdown",
   "id": "60207f26-e210-44c0-a12b-898341272380",
   "metadata": {},
   "source": [
    "### Separação Conjunto Treinamento e Teste\n",
    "\n",
    "- Treino: Utilizado no treinamento do modelo de Machine Learning\n",
    "- Teste: Utilizado para verificar se o modelo generaliza o que aprendeu para exemplos não vistos no treinamento"
   ]
  },
  {
   "cell_type": "markdown",
   "id": "9b224d8e-acb5-4503-94a9-fa0e71df7d64",
   "metadata": {},
   "source": [
    "#### Separar X e y\n",
    "\n",
    "- X: Contém os atributos que serão utilizados para treinar/testar o modelo de ML\n",
    "- y: Contém a variável alvo, que desejamos prever"
   ]
  },
  {
   "cell_type": "markdown",
   "id": "9280ea79-223b-4319-9763-9f099b5c95ba",
   "metadata": {},
   "source": [
    "Não utilizaremos a data no treinamento pois, um atributo temporal transformaria num problema de Série Temporal em vez de Regressão simples"
   ]
  },
  {
   "cell_type": "code",
   "execution_count": 43,
   "id": "5793a0a6-5a6d-4516-b565-fad1c0b61393",
   "metadata": {},
   "outputs": [
    {
     "data": {
      "text/html": [
       "<div>\n",
       "<style scoped>\n",
       "    .dataframe tbody tr th:only-of-type {\n",
       "        vertical-align: middle;\n",
       "    }\n",
       "\n",
       "    .dataframe tbody tr th {\n",
       "        vertical-align: top;\n",
       "    }\n",
       "\n",
       "    .dataframe thead th {\n",
       "        text-align: right;\n",
       "    }\n",
       "</style>\n",
       "<table border=\"1\" class=\"dataframe\">\n",
       "  <thead>\n",
       "    <tr style=\"text-align: right;\">\n",
       "      <th></th>\n",
       "      <th>temperatura_media_c</th>\n",
       "      <th>temperatura_minima_c</th>\n",
       "      <th>temperatura_maxima_c</th>\n",
       "      <th>precipitacacao_mm</th>\n",
       "      <th>final_de_semana</th>\n",
       "    </tr>\n",
       "  </thead>\n",
       "  <tbody>\n",
       "    <tr>\n",
       "      <th>137</th>\n",
       "      <td>18.60</td>\n",
       "      <td>16.6</td>\n",
       "      <td>21.3</td>\n",
       "      <td>0.0</td>\n",
       "      <td>0.0</td>\n",
       "    </tr>\n",
       "    <tr>\n",
       "      <th>268</th>\n",
       "      <td>20.58</td>\n",
       "      <td>18.2</td>\n",
       "      <td>24.9</td>\n",
       "      <td>28.6</td>\n",
       "      <td>1.0</td>\n",
       "    </tr>\n",
       "    <tr>\n",
       "      <th>112</th>\n",
       "      <td>21.20</td>\n",
       "      <td>18.6</td>\n",
       "      <td>24.9</td>\n",
       "      <td>14.6</td>\n",
       "      <td>0.0</td>\n",
       "    </tr>\n",
       "    <tr>\n",
       "      <th>296</th>\n",
       "      <td>17.94</td>\n",
       "      <td>16.2</td>\n",
       "      <td>21.2</td>\n",
       "      <td>0.0</td>\n",
       "      <td>1.0</td>\n",
       "    </tr>\n",
       "    <tr>\n",
       "      <th>0</th>\n",
       "      <td>27.30</td>\n",
       "      <td>23.9</td>\n",
       "      <td>32.5</td>\n",
       "      <td>0.0</td>\n",
       "      <td>0.0</td>\n",
       "    </tr>\n",
       "  </tbody>\n",
       "</table>\n",
       "</div>"
      ],
      "text/plain": [
       "     temperatura_media_c  temperatura_minima_c  temperatura_maxima_c  \\\n",
       "137                18.60                  16.6                  21.3   \n",
       "268                20.58                  18.2                  24.9   \n",
       "112                21.20                  18.6                  24.9   \n",
       "296                17.94                  16.2                  21.2   \n",
       "0                  27.30                  23.9                  32.5   \n",
       "\n",
       "     precipitacacao_mm  final_de_semana  \n",
       "137                0.0              0.0  \n",
       "268               28.6              1.0  \n",
       "112               14.6              0.0  \n",
       "296                0.0              1.0  \n",
       "0                  0.0              0.0  "
      ]
     },
     "execution_count": 43,
     "metadata": {},
     "output_type": "execute_result"
    }
   ],
   "source": [
    "X = df.drop(['data', 'consumo_cerveja_litros'], axis=1)\n",
    "X.sample(5)"
   ]
  },
  {
   "cell_type": "code",
   "execution_count": 44,
   "id": "4ca54782-a66e-461a-a32b-afcb6777c456",
   "metadata": {},
   "outputs": [
    {
     "data": {
      "text/plain": [
       "184    24.632\n",
       "82     21.617\n",
       "95     22.356\n",
       "171    28.857\n",
       "192    33.298\n",
       "Name: consumo_cerveja_litros, dtype: float64"
      ]
     },
     "execution_count": 44,
     "metadata": {},
     "output_type": "execute_result"
    }
   ],
   "source": [
    "y = df['consumo_cerveja_litros']\n",
    "y.sample(5)"
   ]
  },
  {
   "cell_type": "markdown",
   "id": "a28a51d9-3eeb-426d-a577-be3b7c1135bc",
   "metadata": {},
   "source": [
    "#### Separar Conjuntos de Treino e de Teste\n",
    "- Treino: 70%\n",
    "- Teste: 30%"
   ]
  },
  {
   "cell_type": "code",
   "execution_count": 45,
   "id": "b95a1845-a756-48b7-8a5a-6df344cd6128",
   "metadata": {},
   "outputs": [],
   "source": [
    "# Separação de Conjuntos\n",
    "X_train, X_test, y_train, y_test = train_test_split(X, y, test_size=0.3, random_state=42)"
   ]
  },
  {
   "cell_type": "code",
   "execution_count": 46,
   "id": "a9f6c414-166f-49fd-9fa2-df17f79292e8",
   "metadata": {},
   "outputs": [
    {
     "name": "stdout",
     "output_type": "stream",
     "text": [
      "O conjunto de Treino ficou com 255 elementos, e o conjunto de Teste ficou com 110 elementos\n"
     ]
    }
   ],
   "source": [
    "# Quantidade de elementos em cada conjunto\n",
    "quantidade_conjunto_treino = X_train.shape[0]\n",
    "quantidade_conjunto_teste = X_test.shape[0]\n",
    "\n",
    "print(\"O conjunto de Treino ficou com {} elementos, e o conjunto de Teste ficou com {} elementos\".format(quantidade_conjunto_treino, quantidade_conjunto_teste))"
   ]
  },
  {
   "cell_type": "markdown",
   "id": "2f40f87f-320d-4d87-9caf-17a831a017ac",
   "metadata": {},
   "source": [
    "### Pré-Processamento"
   ]
  },
  {
   "attachments": {
    "18bc2c0f-cc1b-4d7b-8939-e1cb2800c79e.png": {
     "image/png": "[encoded data removed]"
    }
   },
   "cell_type": "markdown",
   "id": "d1d206da-0b0b-41f6-a5a1-0ef7a8cf4429",
   "metadata": {},
   "source": [
    "#### Normalização\n",
    "\n",
    "A Normalização é um processo que busca tratar os dados para facilitar o processamento por algoritmos de ML e eliminar o efeito de diferentes grandezas entre as variáveis.\n",
    "\n",
    "Existem várias ténicas de normalização, porém, no nosso caso utilizaremos o Standardization.\n",
    "\n",
    "\n",
    "Standardization Formula:\n",
    "\n",
    "![image.png](attachment:18bc2c0f-cc1b-4d7b-8939-e1cb2800c79e.png)"
   ]
  },
  {
   "cell_type": "markdown",
   "id": "9bc21cf9-7cc3-408e-a810-07f6f4877342",
   "metadata": {},
   "source": [
    "##### Dados antes da normalização"
   ]
  },
  {
   "cell_type": "code",
   "execution_count": 50,
   "id": "61f6e07b-a0c9-444f-a4e7-ff4bd4f9b953",
   "metadata": {},
   "outputs": [
    {
     "data": {
      "text/html": [
       "<div>\n",
       "<style scoped>\n",
       "    .dataframe tbody tr th:only-of-type {\n",
       "        vertical-align: middle;\n",
       "    }\n",
       "\n",
       "    .dataframe tbody tr th {\n",
       "        vertical-align: top;\n",
       "    }\n",
       "\n",
       "    .dataframe thead th {\n",
       "        text-align: right;\n",
       "    }\n",
       "</style>\n",
       "<table border=\"1\" class=\"dataframe\">\n",
       "  <thead>\n",
       "    <tr style=\"text-align: right;\">\n",
       "      <th></th>\n",
       "      <th>temperatura_media_c</th>\n",
       "      <th>temperatura_minima_c</th>\n",
       "      <th>temperatura_maxima_c</th>\n",
       "      <th>precipitacacao_mm</th>\n",
       "      <th>final_de_semana</th>\n",
       "    </tr>\n",
       "  </thead>\n",
       "  <tbody>\n",
       "    <tr>\n",
       "      <th>298</th>\n",
       "      <td>20.86</td>\n",
       "      <td>16.0</td>\n",
       "      <td>28.5</td>\n",
       "      <td>28.4</td>\n",
       "      <td>0.0</td>\n",
       "    </tr>\n",
       "    <tr>\n",
       "      <th>141</th>\n",
       "      <td>20.26</td>\n",
       "      <td>16.3</td>\n",
       "      <td>25.4</td>\n",
       "      <td>0.0</td>\n",
       "      <td>0.0</td>\n",
       "    </tr>\n",
       "    <tr>\n",
       "      <th>217</th>\n",
       "      <td>21.06</td>\n",
       "      <td>16.3</td>\n",
       "      <td>27.7</td>\n",
       "      <td>0.0</td>\n",
       "      <td>0.0</td>\n",
       "    </tr>\n",
       "    <tr>\n",
       "      <th>181</th>\n",
       "      <td>17.78</td>\n",
       "      <td>16.2</td>\n",
       "      <td>20.5</td>\n",
       "      <td>0.0</td>\n",
       "      <td>0.0</td>\n",
       "    </tr>\n",
       "    <tr>\n",
       "      <th>105</th>\n",
       "      <td>21.26</td>\n",
       "      <td>18.6</td>\n",
       "      <td>26.7</td>\n",
       "      <td>25.4</td>\n",
       "      <td>0.0</td>\n",
       "    </tr>\n",
       "  </tbody>\n",
       "</table>\n",
       "</div>"
      ],
      "text/plain": [
       "     temperatura_media_c  temperatura_minima_c  temperatura_maxima_c  \\\n",
       "298                20.86                  16.0                  28.5   \n",
       "141                20.26                  16.3                  25.4   \n",
       "217                21.06                  16.3                  27.7   \n",
       "181                17.78                  16.2                  20.5   \n",
       "105                21.26                  18.6                  26.7   \n",
       "\n",
       "     precipitacacao_mm  final_de_semana  \n",
       "298               28.4              0.0  \n",
       "141                0.0              0.0  \n",
       "217                0.0              0.0  \n",
       "181                0.0              0.0  \n",
       "105               25.4              0.0  "
      ]
     },
     "execution_count": 50,
     "metadata": {},
     "output_type": "execute_result"
    }
   ],
   "source": [
    "X_train.sample(5)"
   ]
  },
  {
   "cell_type": "markdown",
   "id": "67e1d542-3f6d-4901-867e-b6eb019adddf",
   "metadata": {},
   "source": [
    "##### Visualização da variável Temperatura Média Antes da Normalização"
   ]
  },
  {
   "cell_type": "code",
   "execution_count": 59,
   "id": "9b4fc94d-01b4-4d2f-bbea-eb6aa7a29dee",
   "metadata": {},
   "outputs": [
    {
     "data": {
      "text/plain": [
       "count    255.000000\n",
       "mean      21.041725\n",
       "std        3.191729\n",
       "min       12.900000\n",
       "25%       18.650000\n",
       "50%       21.220000\n",
       "75%       23.150000\n",
       "max       28.300000\n",
       "Name: temperatura_media_c, dtype: float64"
      ]
     },
     "execution_count": 59,
     "metadata": {},
     "output_type": "execute_result"
    }
   ],
   "source": [
    "X_train[\"temperatura_media_c\"].describe()"
   ]
  },
  {
   "cell_type": "code",
   "execution_count": 57,
   "id": "1a2a71b2-bcaa-4b75-bdd5-21bbe5673705",
   "metadata": {},
   "outputs": [
    {
     "data": {
      "text/plain": [
       "Text(0.5, 1.0, 'Histograma de Temperatura Média')"
      ]
     },
     "execution_count": 57,
     "metadata": {},
     "output_type": "execute_result"
    },
    {
     "data": {
      "image/png": "[encoded data removed]",
      "text/plain": [
       "<Figure size 432x288 with 1 Axes>"
      ]
     },
     "metadata": {
      "needs_background": "light"
     },
     "output_type": "display_data"
    }
   ],
   "source": [
    "ax = sns.histplot(data=X_train, x=\"temperatura_media_c\", kde=True, bins=40, color=\"green\")\n",
    "\n",
    "ax.set_title(\"Histograma de Temperatura Média\")"
   ]
  },
  {
   "cell_type": "markdown",
   "id": "7e8fba6d-a21c-4bd9-8df5-001d5fdeacb5",
   "metadata": {},
   "source": [
    "##### A Normalização em si"
   ]
  },
  {
   "cell_type": "code",
   "execution_count": 52,
   "id": "723f3b4c-2d2e-49f4-a2e9-6463f63ef618",
   "metadata": {},
   "outputs": [],
   "source": [
    "# Inicializar o Normalizador\n",
    "scaler = StandardScaler()"
   ]
  },
  {
   "cell_type": "code",
   "execution_count": 53,
   "id": "e1e09408-fe49-48e3-8717-563f698b1ec2",
   "metadata": {},
   "outputs": [
    {
     "data": {
      "text/html": [
       "<style>#sk-container-id-1 {color: black;background-color: white;}#sk-container-id-1 pre{padding: 0;}#sk-container-id-1 div.sk-toggleable {background-color: white;}#sk-container-id-1 label.sk-toggleable__label {cursor: pointer;display: block;width: 100%;margin-bottom: 0;padding: 0.3em;box-sizing: border-box;text-align: center;}#sk-container-id-1 label.sk-toggleable__label-arrow:before {content: \"▸\";float: left;margin-right: 0.25em;color: #696969;}#sk-container-id-1 label.sk-toggleable__label-arrow:hover:before {color: black;}#sk-container-id-1 div.sk-estimator:hover label.sk-toggleable__label-arrow:before {color: black;}#sk-container-id-1 div.sk-toggleable__content {max-height: 0;max-width: 0;overflow: hidden;text-align: left;background-color: #f0f8ff;}#sk-container-id-1 div.sk-toggleable__content pre {margin: 0.2em;color: black;border-radius: 0.25em;background-color: #f0f8ff;}#sk-container-id-1 input.sk-toggleable__control:checked~div.sk-toggleable__content {max-height: 200px;max-width: 100%;overflow: auto;}#sk-container-id-1 input.sk-toggleable__control:checked~label.sk-toggleable__label-arrow:before {content: \"▾\";}#sk-container-id-1 div.sk-estimator input.sk-toggleable__control:checked~label.sk-toggleable__label {background-color: #d4ebff;}#sk-container-id-1 div.sk-label input.sk-toggleable__control:checked~label.sk-toggleable__label {background-color: #d4ebff;}#sk-container-id-1 input.sk-hidden--visually {border: 0;clip: rect(1px 1px 1px 1px);clip: rect(1px, 1px, 1px, 1px);height: 1px;margin: -1px;overflow: hidden;padding: 0;position: absolute;width: 1px;}#sk-container-id-1 div.sk-estimator {font-family: monospace;background-color: #f0f8ff;border: 1px dotted black;border-radius: 0.25em;box-sizing: border-box;margin-bottom: 0.5em;}#sk-container-id-1 div.sk-estimator:hover {background-color: #d4ebff;}#sk-container-id-1 div.sk-parallel-item::after {content: \"\";width: 100%;border-bottom: 1px solid gray;flex-grow: 1;}#sk-container-id-1 div.sk-label:hover label.sk-toggleable__label {background-color: #d4ebff;}#sk-container-id-1 div.sk-serial::before {content: \"\";position: absolute;border-left: 1px solid gray;box-sizing: border-box;top: 0;bottom: 0;left: 50%;z-index: 0;}#sk-container-id-1 div.sk-serial {display: flex;flex-direction: column;align-items: center;background-color: white;padding-right: 0.2em;padding-left: 0.2em;position: relative;}#sk-container-id-1 div.sk-item {position: relative;z-index: 1;}#sk-container-id-1 div.sk-parallel {display: flex;align-items: stretch;justify-content: center;background-color: white;position: relative;}#sk-container-id-1 div.sk-item::before, #sk-container-id-1 div.sk-parallel-item::before {content: \"\";position: absolute;border-left: 1px solid gray;box-sizing: border-box;top: 0;bottom: 0;left: 50%;z-index: -1;}#sk-container-id-1 div.sk-parallel-item {display: flex;flex-direction: column;z-index: 1;position: relative;background-color: white;}#sk-container-id-1 div.sk-parallel-item:first-child::after {align-self: flex-end;width: 50%;}#sk-container-id-1 div.sk-parallel-item:last-child::after {align-self: flex-start;width: 50%;}#sk-container-id-1 div.sk-parallel-item:only-child::after {width: 0;}#sk-container-id-1 div.sk-dashed-wrapped {border: 1px dashed gray;margin: 0 0.4em 0.5em 0.4em;box-sizing: border-box;padding-bottom: 0.4em;background-color: white;}#sk-container-id-1 div.sk-label label {font-family: monospace;font-weight: bold;display: inline-block;line-height: 1.2em;}#sk-container-id-1 div.sk-label-container {text-align: center;}#sk-container-id-1 div.sk-container {/* jupyter's `normalize.less` sets `[hidden] { display: none; }` but bootstrap.min.css set `[hidden] { display: none !important; }` so we also need the `!important` here to be able to override the default hidden behavior on the sphinx rendered scikit-learn.org. See: https://github.com/scikit-learn/scikit-learn/issues/21755 */display: inline-block !important;position: relative;}#sk-container-id-1 div.sk-text-repr-fallback {display: none;}</style><div id=\"sk-container-id-1\" class=\"sk-top-container\"><div class=\"sk-text-repr-fallback\"><pre>StandardScaler()</pre><b>In a Jupyter environment, please rerun this cell to show the HTML representation or trust the notebook. <br />On GitHub, the HTML representation is unable to render, please try loading this page with nbviewer.org.</b></div><div class=\"sk-container\" hidden><div class=\"sk-item\"><div class=\"sk-estimator sk-toggleable\"><input class=\"sk-toggleable__control sk-hidden--visually\" id=\"sk-estimator-id-1\" type=\"checkbox\" checked><label for=\"sk-estimator-id-1\" class=\"sk-toggleable__label sk-toggleable__label-arrow\">StandardScaler</label><div class=\"sk-toggleable__content\"><pre>StandardScaler()</pre></div></div></div></div></div>"
      ],
      "text/plain": [
       "StandardScaler()"
      ]
     },
     "execution_count": 53,
     "metadata": {},
     "output_type": "execute_result"
    }
   ],
   "source": [
    "# Treinar o Normalizador\n",
    "scaler.fit(X_train)"
   ]
  },
  {
   "cell_type": "code",
   "execution_count": 54,
   "id": "d900c3c5-3d7c-456e-b921-4dd7fdd751bc",
   "metadata": {},
   "outputs": [],
   "source": [
    "# Gerar um X_train normalizado\n",
    "X_train_scaled = scaler.transform(X_train)"
   ]
  },
  {
   "cell_type": "code",
   "execution_count": 55,
   "id": "32018775-eb86-4a3a-917f-ebf11a34c674",
   "metadata": {},
   "outputs": [
    {
     "data": {
      "text/html": [
       "<div>\n",
       "<style scoped>\n",
       "    .dataframe tbody tr th:only-of-type {\n",
       "        vertical-align: middle;\n",
       "    }\n",
       "\n",
       "    .dataframe tbody tr th {\n",
       "        vertical-align: top;\n",
       "    }\n",
       "\n",
       "    .dataframe thead th {\n",
       "        text-align: right;\n",
       "    }\n",
       "</style>\n",
       "<table border=\"1\" class=\"dataframe\">\n",
       "  <thead>\n",
       "    <tr style=\"text-align: right;\">\n",
       "      <th></th>\n",
       "      <th>temperatura_media_c</th>\n",
       "      <th>temperatura_minima_c</th>\n",
       "      <th>temperatura_maxima_c</th>\n",
       "      <th>precipitacacao_mm</th>\n",
       "      <th>final_de_semana</th>\n",
       "    </tr>\n",
       "  </thead>\n",
       "  <tbody>\n",
       "    <tr>\n",
       "      <th>128</th>\n",
       "      <td>1.261441</td>\n",
       "      <td>0.772585</td>\n",
       "      <td>0.925388</td>\n",
       "      <td>1.000763</td>\n",
       "      <td>1.692228</td>\n",
       "    </tr>\n",
       "    <tr>\n",
       "      <th>209</th>\n",
       "      <td>0.859615</td>\n",
       "      <td>1.222931</td>\n",
       "      <td>1.250357</td>\n",
       "      <td>-0.420934</td>\n",
       "      <td>-0.590937</td>\n",
       "    </tr>\n",
       "    <tr>\n",
       "      <th>217</th>\n",
       "      <td>0.037129</td>\n",
       "      <td>0.737943</td>\n",
       "      <td>-0.351276</td>\n",
       "      <td>-0.420934</td>\n",
       "      <td>-0.590937</td>\n",
       "    </tr>\n",
       "    <tr>\n",
       "      <th>241</th>\n",
       "      <td>-1.494829</td>\n",
       "      <td>-0.717022</td>\n",
       "      <td>-1.952909</td>\n",
       "      <td>-0.230218</td>\n",
       "      <td>-0.590937</td>\n",
       "    </tr>\n",
       "    <tr>\n",
       "      <th>142</th>\n",
       "      <td>1.154706</td>\n",
       "      <td>1.119005</td>\n",
       "      <td>1.180721</td>\n",
       "      <td>-0.126192</td>\n",
       "      <td>-0.590937</td>\n",
       "    </tr>\n",
       "  </tbody>\n",
       "</table>\n",
       "</div>"
      ],
      "text/plain": [
       "     temperatura_media_c  temperatura_minima_c  temperatura_maxima_c  \\\n",
       "128             1.261441              0.772585              0.925388   \n",
       "209             0.859615              1.222931              1.250357   \n",
       "217             0.037129              0.737943             -0.351276   \n",
       "241            -1.494829             -0.717022             -1.952909   \n",
       "142             1.154706              1.119005              1.180721   \n",
       "\n",
       "     precipitacacao_mm  final_de_semana  \n",
       "128           1.000763         1.692228  \n",
       "209          -0.420934        -0.590937  \n",
       "217          -0.420934        -0.590937  \n",
       "241          -0.230218        -0.590937  \n",
       "142          -0.126192        -0.590937  "
      ]
     },
     "execution_count": 55,
     "metadata": {},
     "output_type": "execute_result"
    }
   ],
   "source": [
    "# Criar um dataframe X_train_scaled\n",
    "X_train_scaled = pd.DataFrame(X_train_scaled, columns=X.columns)\n",
    "\n",
    "# Mostrar o X_train normalizado\n",
    "X_train_scaled.sample(5)"
   ]
  },
  {
   "cell_type": "markdown",
   "id": "6399511f-8e66-4322-8e72-4eb040972260",
   "metadata": {},
   "source": [
    "##### Visualização da variável Temperatura Média Após a Normalização"
   ]
  },
  {
   "cell_type": "code",
   "execution_count": 60,
   "id": "666bc28e-51e8-4f80-8bce-caacfcf32b27",
   "metadata": {},
   "outputs": [
    {
     "data": {
      "text/plain": [
       "count    2.550000e+02\n",
       "mean    -9.404242e-17\n",
       "std      1.001967e+00\n",
       "min     -2.555899e+00\n",
       "25%     -7.508247e-01\n",
       "50%      5.596500e-02\n",
       "75%      6.618421e-01\n",
       "max      2.278561e+00\n",
       "Name: temperatura_media_c, dtype: float64"
      ]
     },
     "execution_count": 60,
     "metadata": {},
     "output_type": "execute_result"
    }
   ],
   "source": [
    "X_train_scaled[\"temperatura_media_c\"].describe()"
   ]
  },
  {
   "cell_type": "code",
   "execution_count": 56,
   "id": "6759c85b-4afa-4ca6-9dd8-400d83794b15",
   "metadata": {},
   "outputs": [
    {
     "data": {
      "text/plain": [
       "Text(0.5, 1.0, 'Histograma de Temperatura Média')"
      ]
     },
     "execution_count": 56,
     "metadata": {},
     "output_type": "execute_result"
    },
    {
     "data": {
      "image/png": "[encoded data removed]",
      "text/plain": [
       "<Figure size 432x288 with 1 Axes>"
      ]
     },
     "metadata": {
      "needs_background": "light"
     },
     "output_type": "display_data"
    }
   ],
   "source": [
    "ax = sns.histplot(data=X_train_scaled, x=\"temperatura_media_c\", kde=True, bins=40, color=\"green\")\n",
    "\n",
    "ax.set_title(\"Histograma de Temperatura Média\")"
   ]
  },
  {
   "cell_type": "markdown",
   "id": "925bc3ff-47cb-47ae-a94a-5e2723792e98",
   "metadata": {},
   "source": [
    "### Aprendizado\n",
    "\n",
    "Treinamento do modelo utilizando Regressão Linear no conjunto de dados de Treino"
   ]
  },
  {
   "cell_type": "code",
   "execution_count": 62,
   "id": "c92581b9-d3b7-436a-9b55-a3ebd2b323a8",
   "metadata": {},
   "outputs": [],
   "source": [
    "# Inicialização da Regressão Linear\n",
    "reg = LinearRegression()"
   ]
  },
  {
   "cell_type": "code",
   "execution_count": 63,
   "id": "64fff208-0d34-416a-a922-2624c3fd09ce",
   "metadata": {},
   "outputs": [
    {
     "data": {
      "text/html": [
       "<style>#sk-container-id-2 {color: black;background-color: white;}#sk-container-id-2 pre{padding: 0;}#sk-container-id-2 div.sk-toggleable {background-color: white;}#sk-container-id-2 label.sk-toggleable__label {cursor: pointer;display: block;width: 100%;margin-bottom: 0;padding: 0.3em;box-sizing: border-box;text-align: center;}#sk-container-id-2 label.sk-toggleable__label-arrow:before {content: \"▸\";float: left;margin-right: 0.25em;color: #696969;}#sk-container-id-2 label.sk-toggleable__label-arrow:hover:before {color: black;}#sk-container-id-2 div.sk-estimator:hover label.sk-toggleable__label-arrow:before {color: black;}#sk-container-id-2 div.sk-toggleable__content {max-height: 0;max-width: 0;overflow: hidden;text-align: left;background-color: #f0f8ff;}#sk-container-id-2 div.sk-toggleable__content pre {margin: 0.2em;color: black;border-radius: 0.25em;background-color: #f0f8ff;}#sk-container-id-2 input.sk-toggleable__control:checked~div.sk-toggleable__content {max-height: 200px;max-width: 100%;overflow: auto;}#sk-container-id-2 input.sk-toggleable__control:checked~label.sk-toggleable__label-arrow:before {content: \"▾\";}#sk-container-id-2 div.sk-estimator input.sk-toggleable__control:checked~label.sk-toggleable__label {background-color: #d4ebff;}#sk-container-id-2 div.sk-label input.sk-toggleable__control:checked~label.sk-toggleable__label {background-color: #d4ebff;}#sk-container-id-2 input.sk-hidden--visually {border: 0;clip: rect(1px 1px 1px 1px);clip: rect(1px, 1px, 1px, 1px);height: 1px;margin: -1px;overflow: hidden;padding: 0;position: absolute;width: 1px;}#sk-container-id-2 div.sk-estimator {font-family: monospace;background-color: #f0f8ff;border: 1px dotted black;border-radius: 0.25em;box-sizing: border-box;margin-bottom: 0.5em;}#sk-container-id-2 div.sk-estimator:hover {background-color: #d4ebff;}#sk-container-id-2 div.sk-parallel-item::after {content: \"\";width: 100%;border-bottom: 1px solid gray;flex-grow: 1;}#sk-container-id-2 div.sk-label:hover label.sk-toggleable__label {background-color: #d4ebff;}#sk-container-id-2 div.sk-serial::before {content: \"\";position: absolute;border-left: 1px solid gray;box-sizing: border-box;top: 0;bottom: 0;left: 50%;z-index: 0;}#sk-container-id-2 div.sk-serial {display: flex;flex-direction: column;align-items: center;background-color: white;padding-right: 0.2em;padding-left: 0.2em;position: relative;}#sk-container-id-2 div.sk-item {position: relative;z-index: 1;}#sk-container-id-2 div.sk-parallel {display: flex;align-items: stretch;justify-content: center;background-color: white;position: relative;}#sk-container-id-2 div.sk-item::before, #sk-container-id-2 div.sk-parallel-item::before {content: \"\";position: absolute;border-left: 1px solid gray;box-sizing: border-box;top: 0;bottom: 0;left: 50%;z-index: -1;}#sk-container-id-2 div.sk-parallel-item {display: flex;flex-direction: column;z-index: 1;position: relative;background-color: white;}#sk-container-id-2 div.sk-parallel-item:first-child::after {align-self: flex-end;width: 50%;}#sk-container-id-2 div.sk-parallel-item:last-child::after {align-self: flex-start;width: 50%;}#sk-container-id-2 div.sk-parallel-item:only-child::after {width: 0;}#sk-container-id-2 div.sk-dashed-wrapped {border: 1px dashed gray;margin: 0 0.4em 0.5em 0.4em;box-sizing: border-box;padding-bottom: 0.4em;background-color: white;}#sk-container-id-2 div.sk-label label {font-family: monospace;font-weight: bold;display: inline-block;line-height: 1.2em;}#sk-container-id-2 div.sk-label-container {text-align: center;}#sk-container-id-2 div.sk-container {/* jupyter's `normalize.less` sets `[hidden] { display: none; }` but bootstrap.min.css set `[hidden] { display: none !important; }` so we also need the `!important` here to be able to override the default hidden behavior on the sphinx rendered scikit-learn.org. See: https://github.com/scikit-learn/scikit-learn/issues/21755 */display: inline-block !important;position: relative;}#sk-container-id-2 div.sk-text-repr-fallback {display: none;}</style><div id=\"sk-container-id-2\" class=\"sk-top-container\"><div class=\"sk-text-repr-fallback\"><pre>LinearRegression()</pre><b>In a Jupyter environment, please rerun this cell to show the HTML representation or trust the notebook. <br />On GitHub, the HTML representation is unable to render, please try loading this page with nbviewer.org.</b></div><div class=\"sk-container\" hidden><div class=\"sk-item\"><div class=\"sk-estimator sk-toggleable\"><input class=\"sk-toggleable__control sk-hidden--visually\" id=\"sk-estimator-id-2\" type=\"checkbox\" checked><label for=\"sk-estimator-id-2\" class=\"sk-toggleable__label sk-toggleable__label-arrow\">LinearRegression</label><div class=\"sk-toggleable__content\"><pre>LinearRegression()</pre></div></div></div></div></div>"
      ],
      "text/plain": [
       "LinearRegression()"
      ]
     },
     "execution_count": 63,
     "metadata": {},
     "output_type": "execute_result"
    }
   ],
   "source": [
    "# Modelagem\n",
    "reg.fit(X_train_scaled, y_train)"
   ]
  },
  {
   "cell_type": "markdown",
   "id": "c2f0de19-a909-4423-bf1d-c9d51df6b208",
   "metadata": {
    "tags": []
   },
   "source": [
    "#### Visualização do Modelo Treinado"
   ]
  },
  {
   "cell_type": "markdown",
   "id": "afcdf9dd-add4-41b9-9719-9f3f27f96571",
   "metadata": {
    "tags": []
   },
   "source": [
    "##### Função Preditora"
   ]
  },
  {
   "cell_type": "code",
   "execution_count": 64,
   "id": "77ff439d-dcf3-4e11-8398-b2bffb6c09ed",
   "metadata": {},
   "outputs": [
    {
     "name": "stdout",
     "output_type": "stream",
     "text": [
      "predição = 25.15 + (0.73 * temperatura_media_c) + (-0.30 * temperatura_minima_c) + (2.41 * temperatura_maxima_c) + (-0.62 * precipitacacao_mm) + (2.34 * final_de_semana)\n"
     ]
    }
   ],
   "source": [
    "# Variável Independente\n",
    "interceptador = reg.intercept_\n",
    "\n",
    "# Coeficientes\n",
    "coeficientes = reg.coef_\n",
    "\n",
    "funcao = \"predição = {:.2f} + ({:.2f} * temperatura_media_c) + ({:.2f} * temperatura_minima_c) + ({:.2f} * temperatura_maxima_c) + ({:.2f} * precipitacacao_mm) + ({:.2f} * final_de_semana)\".format(interceptador, *coeficientes)\n",
    "print(funcao)"
   ]
  },
  {
   "cell_type": "code",
   "execution_count": 66,
   "id": "51d5a8b1-4915-4157-ae32-9dcae955d9e0",
   "metadata": {},
   "outputs": [],
   "source": [
    "# Nosso predict home-made\n",
    "def predict(X_sample):\n",
    "    # Variável Independente\n",
    "    interceptador = reg.intercept_\n",
    "    \n",
    "    # Coeficientes\n",
    "    coeficientes = reg.coef_\n",
    "    \n",
    "    return interceptador + (reg.coef_ * X_sample).sum()"
   ]
  },
  {
   "cell_type": "code",
   "execution_count": 70,
   "id": "8715c501-f23a-4406-9781-862709a4c9ec",
   "metadata": {},
   "outputs": [
    {
     "name": "stdout",
     "output_type": "stream",
     "text": [
      "O resultado predito foi 26.79 e o real é 29.64\n",
      "A diferença absoluta entre os dois é 2.85 litros\n"
     ]
    }
   ],
   "source": [
    "# Index\n",
    "index = 0\n",
    "\n",
    "# Predição com nossa função home-made\n",
    "resultado_predito = predict(X_train_scaled.iloc[index])\n",
    "\n",
    "# Resultado Real\n",
    "resultado_real = y_train.iloc[index]\n",
    "\n",
    "# Diferença\n",
    "diferenca_entre_predito_e_real = np.abs(resultado_predito - resultado_real)\n",
    "\n",
    "print(\"O resultado predito foi {:.2f} e o real é {:.2f}\".format(resultado_predito, resultado_real))\n",
    "print(\"A diferença absoluta entre os dois é {:.2f} litros\".format(diferenca_entre_predito_e_real))"
   ]
  },
  {
   "cell_type": "markdown",
   "id": "d398b81d-4390-4286-90f6-0770401a785c",
   "metadata": {},
   "source": [
    "#### Predição do Conjunto de Treinamento\n",
    "\n",
    "Aqui vamos verificar a performance do modelo treinado no conjunto de Treinamento"
   ]
  },
  {
   "cell_type": "code",
   "execution_count": 71,
   "id": "1fff6e4c-6049-4bbd-bb7c-fc07607146b8",
   "metadata": {},
   "outputs": [],
   "source": [
    "# Predizer o resultado\n",
    "y_pred = reg.predict(X_train_scaled)"
   ]
  },
  {
   "cell_type": "code",
   "execution_count": 72,
   "id": "d3d963d0-1fe4-4bd5-833b-29083e53cbae",
   "metadata": {},
   "outputs": [
    {
     "data": {
      "text/plain": [
       "array([26.78695182, 19.37257857, 29.29456141, 30.01731241, 21.61826341,\n",
       "       27.79126138, 21.03103851, 30.54124469, 29.31957295, 24.6571068 ])"
      ]
     },
     "execution_count": 72,
     "metadata": {},
     "output_type": "execute_result"
    }
   ],
   "source": [
    "# Resultado predito\n",
    "y_pred[0:10]"
   ]
  },
  {
   "cell_type": "code",
   "execution_count": 73,
   "id": "243fc8ec-b33a-4a3b-9b28-a74d4c1c34b4",
   "metadata": {},
   "outputs": [
    {
     "data": {
      "text/plain": [
       "array([29.637, 17.655, 30.498, 35.127, 24.683, 28.631, 23.243, 29.265,\n",
       "       33.182, 23.469])"
      ]
     },
     "execution_count": 73,
     "metadata": {},
     "output_type": "execute_result"
    }
   ],
   "source": [
    "# Resultado real\n",
    "y_train[0:10].values"
   ]
  },
  {
   "attachments": {
    "d3a1bd7e-1a06-4627-9f3f-a6ee88b8ebe7.png": {
     "image/png": "[encoded data removed]"
    }
   },
   "cell_type": "markdown",
   "id": "df575aca-fe7d-483d-863a-6c846d67613b",
   "metadata": {
    "tags": []
   },
   "source": [
    "##### Métrica\n",
    "\n",
    "Existem várias métricas de análise de erro para regressão.\n",
    "\n",
    "Para esta apresentação, utilizaremos o Mean Absolute Error:\n",
    "\n",
    "![image.png](attachment:d3a1bd7e-1a06-4627-9f3f-a6ee88b8ebe7.png)\n",
    "\n",
    "\n",
    "\n",
    "\n",
    "Referência: https://scikit-learn.org/stable/modules/model_evaluation.html#model-evaluation"
   ]
  },
  {
   "cell_type": "code",
   "execution_count": 74,
   "id": "9b2cde18-2c38-4f52-ab36-406a1fdb1cb0",
   "metadata": {},
   "outputs": [
    {
     "data": {
      "text/plain": [
       "1.9487853270878723"
      ]
     },
     "execution_count": 74,
     "metadata": {},
     "output_type": "execute_result"
    }
   ],
   "source": [
    "## Performance no Conjunto de Treinamento\n",
    "mean_absolute_error(y_train, y_pred)"
   ]
  },
  {
   "cell_type": "markdown",
   "id": "e6ea7d5e-49a8-4420-b2c8-41cf2ce5fbcc",
   "metadata": {},
   "source": [
    "##### Visualização do Erro"
   ]
  },
  {
   "cell_type": "code",
   "execution_count": 75,
   "id": "c519125d-15fb-49df-b9e0-3f58438e13ee",
   "metadata": {},
   "outputs": [
    {
     "data": {
      "text/html": [
       "<div>\n",
       "<style scoped>\n",
       "    .dataframe tbody tr th:only-of-type {\n",
       "        vertical-align: middle;\n",
       "    }\n",
       "\n",
       "    .dataframe tbody tr th {\n",
       "        vertical-align: top;\n",
       "    }\n",
       "\n",
       "    .dataframe thead th {\n",
       "        text-align: right;\n",
       "    }\n",
       "</style>\n",
       "<table border=\"1\" class=\"dataframe\">\n",
       "  <thead>\n",
       "    <tr style=\"text-align: right;\">\n",
       "      <th></th>\n",
       "      <th>y_true</th>\n",
       "      <th>y_pred</th>\n",
       "      <th>mae</th>\n",
       "    </tr>\n",
       "  </thead>\n",
       "  <tbody>\n",
       "    <tr>\n",
       "      <th>268</th>\n",
       "      <td>29.637</td>\n",
       "      <td>26.786952</td>\n",
       "      <td>2.850048</td>\n",
       "    </tr>\n",
       "    <tr>\n",
       "      <th>231</th>\n",
       "      <td>17.655</td>\n",
       "      <td>19.372579</td>\n",
       "      <td>1.717579</td>\n",
       "    </tr>\n",
       "    <tr>\n",
       "      <th>157</th>\n",
       "      <td>30.498</td>\n",
       "      <td>29.294561</td>\n",
       "      <td>1.203439</td>\n",
       "    </tr>\n",
       "    <tr>\n",
       "      <th>19</th>\n",
       "      <td>35.127</td>\n",
       "      <td>30.017312</td>\n",
       "      <td>5.109688</td>\n",
       "    </tr>\n",
       "    <tr>\n",
       "      <th>147</th>\n",
       "      <td>24.683</td>\n",
       "      <td>21.618263</td>\n",
       "      <td>3.064737</td>\n",
       "    </tr>\n",
       "  </tbody>\n",
       "</table>\n",
       "</div>"
      ],
      "text/plain": [
       "     y_true     y_pred       mae\n",
       "268  29.637  26.786952  2.850048\n",
       "231  17.655  19.372579  1.717579\n",
       "157  30.498  29.294561  1.203439\n",
       "19   35.127  30.017312  5.109688\n",
       "147  24.683  21.618263  3.064737"
      ]
     },
     "execution_count": 75,
     "metadata": {},
     "output_type": "execute_result"
    }
   ],
   "source": [
    "series = {\n",
    "    'y_true': y_train,\n",
    "    'y_pred': y_pred\n",
    "}\n",
    "series_df = pd.DataFrame(series)\n",
    "\n",
    "def calcula_erro(x):\n",
    "    return mean_absolute_error([x['y_true']], [x['y_pred']])\n",
    "\n",
    "\n",
    "series_df['mae'] = series_df.apply(calcula_erro, axis=1)\n",
    "series_df.head()"
   ]
  },
  {
   "cell_type": "code",
   "execution_count": 76,
   "id": "293f6dc8-2ee5-4314-8908-cc12469b6bb0",
   "metadata": {},
   "outputs": [
    {
     "data": {
      "text/plain": [
       "Text(0.5, 1.0, 'Visualização do Erro no Conjunto de Treinamento')"
      ]
     },
     "execution_count": 76,
     "metadata": {},
     "output_type": "execute_result"
    },
    {
     "data": {
      "image/png": "[encoded data removed]",
      "text/plain": [
       "<Figure size 432x288 with 1 Axes>"
      ]
     },
     "metadata": {
      "needs_background": "light"
     },
     "output_type": "display_data"
    }
   ],
   "source": [
    "ax = sns.scatterplot(data=series_df, x=\"y_true\", y=\"y_pred\", hue=\"mae\")\n",
    "\n",
    "ax.set_title(\"Visualização do Erro no Conjunto de Treinamento\")"
   ]
  },
  {
   "cell_type": "markdown",
   "id": "69182d67-7149-4a12-a9a9-f825b6cb5020",
   "metadata": {},
   "source": [
    "#### Predição do Conjunto de Teste\n",
    "\n",
    "Aqui vamos verificar a performance do modelo treinado no conjunto de Teste"
   ]
  },
  {
   "cell_type": "code",
   "execution_count": 77,
   "id": "2f7ce42a-3135-4945-853c-46410bfb5dc5",
   "metadata": {},
   "outputs": [],
   "source": [
    "# Aplicar a transformação no conjunto de teste\n",
    "X_test_scaled = scaler.transform(X_test)\n",
    "\n",
    "# Criar um dataframe X_test_scaled\n",
    "X_test_scaled = pd.DataFrame(X_test_scaled, columns=X.columns)"
   ]
  },
  {
   "cell_type": "code",
   "execution_count": 78,
   "id": "0fb58251-b41f-421d-ba9e-8e1cfed5ab60",
   "metadata": {},
   "outputs": [
    {
     "data": {
      "text/html": [
       "<div>\n",
       "<style scoped>\n",
       "    .dataframe tbody tr th:only-of-type {\n",
       "        vertical-align: middle;\n",
       "    }\n",
       "\n",
       "    .dataframe tbody tr th {\n",
       "        vertical-align: top;\n",
       "    }\n",
       "\n",
       "    .dataframe thead th {\n",
       "        text-align: right;\n",
       "    }\n",
       "</style>\n",
       "<table border=\"1\" class=\"dataframe\">\n",
       "  <thead>\n",
       "    <tr style=\"text-align: right;\">\n",
       "      <th></th>\n",
       "      <th>temperatura_media_c</th>\n",
       "      <th>temperatura_minima_c</th>\n",
       "      <th>temperatura_maxima_c</th>\n",
       "      <th>precipitacacao_mm</th>\n",
       "      <th>final_de_semana</th>\n",
       "    </tr>\n",
       "  </thead>\n",
       "  <tbody>\n",
       "    <tr>\n",
       "      <th>105</th>\n",
       "      <td>-0.057048</td>\n",
       "      <td>-0.717022</td>\n",
       "      <td>-0.003095</td>\n",
       "      <td>-0.420934</td>\n",
       "      <td>-0.590937</td>\n",
       "    </tr>\n",
       "    <tr>\n",
       "      <th>47</th>\n",
       "      <td>0.960072</td>\n",
       "      <td>0.668659</td>\n",
       "      <td>0.902176</td>\n",
       "      <td>2.561161</td>\n",
       "      <td>-0.590937</td>\n",
       "    </tr>\n",
       "    <tr>\n",
       "      <th>50</th>\n",
       "      <td>-0.929762</td>\n",
       "      <td>-1.098084</td>\n",
       "      <td>-0.049519</td>\n",
       "      <td>-0.420934</td>\n",
       "      <td>1.692228</td>\n",
       "    </tr>\n",
       "    <tr>\n",
       "      <th>33</th>\n",
       "      <td>0.847058</td>\n",
       "      <td>0.876511</td>\n",
       "      <td>1.134297</td>\n",
       "      <td>-0.308238</td>\n",
       "      <td>1.692228</td>\n",
       "    </tr>\n",
       "    <tr>\n",
       "      <th>94</th>\n",
       "      <td>-1.475994</td>\n",
       "      <td>-0.890232</td>\n",
       "      <td>-1.744001</td>\n",
       "      <td>-0.178205</td>\n",
       "      <td>-0.590937</td>\n",
       "    </tr>\n",
       "  </tbody>\n",
       "</table>\n",
       "</div>"
      ],
      "text/plain": [
       "     temperatura_media_c  temperatura_minima_c  temperatura_maxima_c  \\\n",
       "105            -0.057048             -0.717022             -0.003095   \n",
       "47              0.960072              0.668659              0.902176   \n",
       "50             -0.929762             -1.098084             -0.049519   \n",
       "33              0.847058              0.876511              1.134297   \n",
       "94             -1.475994             -0.890232             -1.744001   \n",
       "\n",
       "     precipitacacao_mm  final_de_semana  \n",
       "105          -0.420934        -0.590937  \n",
       "47            2.561161        -0.590937  \n",
       "50           -0.420934         1.692228  \n",
       "33           -0.308238         1.692228  \n",
       "94           -0.178205        -0.590937  "
      ]
     },
     "execution_count": 78,
     "metadata": {},
     "output_type": "execute_result"
    }
   ],
   "source": [
    "X_test_scaled.sample(5)"
   ]
  },
  {
   "cell_type": "code",
   "execution_count": 79,
   "id": "7883dbbe-ca7d-4444-9ced-d33f8c63a544",
   "metadata": {},
   "outputs": [],
   "source": [
    "# Predizer o resultado\n",
    "y_pred = reg.predict(X_test_scaled)"
   ]
  },
  {
   "cell_type": "code",
   "execution_count": 80,
   "id": "0fac14e1-de7a-4778-aba5-b15c073a8395",
   "metadata": {},
   "outputs": [
    {
     "data": {
      "text/plain": [
       "array([25.60041023, 26.97117725, 28.15676471, 21.63976738, 27.27893434,\n",
       "       17.9680884 , 22.52646043, 18.88477877, 18.11467917, 20.80744662])"
      ]
     },
     "execution_count": 80,
     "metadata": {},
     "output_type": "execute_result"
    }
   ],
   "source": [
    "# Resultado predito\n",
    "y_pred[0:10]"
   ]
  },
  {
   "cell_type": "code",
   "execution_count": 81,
   "id": "cde2849f-c340-4930-b2a0-c458b4999a78",
   "metadata": {},
   "outputs": [
    {
     "data": {
      "text/plain": [
       "array([25.64 , 31.655, 29.938, 20.575, 26.241, 14.94 , 20.167, 20.452,\n",
       "       20.106, 19.143])"
      ]
     },
     "execution_count": 81,
     "metadata": {},
     "output_type": "execute_result"
    }
   ],
   "source": [
    "# Resultado real\n",
    "y_test[0:10].values"
   ]
  },
  {
   "attachments": {
    "d3a1bd7e-1a06-4627-9f3f-a6ee88b8ebe7.png": {
     "image/png": "[encoded data removed]"
    }
   },
   "cell_type": "markdown",
   "id": "9dfa4c0c-db75-42b6-9eec-412a2112c6be",
   "metadata": {
    "tags": []
   },
   "source": [
    "##### Métrica\n",
    "\n",
    "Existem várias métricas de análise de erro para regressão.\n",
    "\n",
    "Para esta apresentação, utilizaremos o Mean Absolute Error:\n",
    "\n",
    "![image.png](attachment:d3a1bd7e-1a06-4627-9f3f-a6ee88b8ebe7.png)\n",
    "\n",
    "\n",
    "\n",
    "\n",
    "Referência: https://scikit-learn.org/stable/modules/model_evaluation.html#model-evaluation"
   ]
  },
  {
   "cell_type": "code",
   "execution_count": 82,
   "id": "e5f195bc-bb54-4211-9aa0-3767b92d1bf6",
   "metadata": {},
   "outputs": [
    {
     "data": {
      "text/plain": [
       "2.0111941277957928"
      ]
     },
     "execution_count": 82,
     "metadata": {},
     "output_type": "execute_result"
    }
   ],
   "source": [
    "## Performance no Conjunto de Treinamento\n",
    "mean_absolute_error(y_test, y_pred)"
   ]
  },
  {
   "cell_type": "markdown",
   "id": "840166e1-b191-4b31-8204-f336c26a9acb",
   "metadata": {},
   "source": [
    "##### Visualização do Erro"
   ]
  },
  {
   "cell_type": "code",
   "execution_count": 83,
   "id": "ef69d71d-649a-40f3-8e2a-7a3c2d0ac4f1",
   "metadata": {},
   "outputs": [
    {
     "data": {
      "text/html": [
       "<div>\n",
       "<style scoped>\n",
       "    .dataframe tbody tr th:only-of-type {\n",
       "        vertical-align: middle;\n",
       "    }\n",
       "\n",
       "    .dataframe tbody tr th {\n",
       "        vertical-align: top;\n",
       "    }\n",
       "\n",
       "    .dataframe thead th {\n",
       "        text-align: right;\n",
       "    }\n",
       "</style>\n",
       "<table border=\"1\" class=\"dataframe\">\n",
       "  <thead>\n",
       "    <tr style=\"text-align: right;\">\n",
       "      <th></th>\n",
       "      <th>y_true</th>\n",
       "      <th>y_pred</th>\n",
       "      <th>mae</th>\n",
       "    </tr>\n",
       "  </thead>\n",
       "  <tbody>\n",
       "    <tr>\n",
       "      <th>193</th>\n",
       "      <td>25.640</td>\n",
       "      <td>25.600410</td>\n",
       "      <td>0.039590</td>\n",
       "    </tr>\n",
       "    <tr>\n",
       "      <th>33</th>\n",
       "      <td>31.655</td>\n",
       "      <td>26.971177</td>\n",
       "      <td>4.683823</td>\n",
       "    </tr>\n",
       "    <tr>\n",
       "      <th>15</th>\n",
       "      <td>29.938</td>\n",
       "      <td>28.156765</td>\n",
       "      <td>1.781235</td>\n",
       "    </tr>\n",
       "    <tr>\n",
       "      <th>309</th>\n",
       "      <td>20.575</td>\n",
       "      <td>21.639767</td>\n",
       "      <td>1.064767</td>\n",
       "    </tr>\n",
       "    <tr>\n",
       "      <th>57</th>\n",
       "      <td>26.241</td>\n",
       "      <td>27.278934</td>\n",
       "      <td>1.037934</td>\n",
       "    </tr>\n",
       "  </tbody>\n",
       "</table>\n",
       "</div>"
      ],
      "text/plain": [
       "     y_true     y_pred       mae\n",
       "193  25.640  25.600410  0.039590\n",
       "33   31.655  26.971177  4.683823\n",
       "15   29.938  28.156765  1.781235\n",
       "309  20.575  21.639767  1.064767\n",
       "57   26.241  27.278934  1.037934"
      ]
     },
     "execution_count": 83,
     "metadata": {},
     "output_type": "execute_result"
    }
   ],
   "source": [
    "series = {\n",
    "    'y_true': y_test,\n",
    "    'y_pred': y_pred\n",
    "}\n",
    "series_df = pd.DataFrame(series)\n",
    "\n",
    "def calcula_erro(x):\n",
    "    return mean_absolute_error([x['y_true']], [x['y_pred']])\n",
    "\n",
    "\n",
    "series_df['mae'] = series_df.apply(calcula_erro, axis=1)\n",
    "series_df.head()"
   ]
  },
  {
   "cell_type": "code",
   "execution_count": 84,
   "id": "8a775653-efc7-4ba2-9d90-7f11a2d1ef27",
   "metadata": {},
   "outputs": [
    {
     "data": {
      "text/plain": [
       "Text(0.5, 1.0, 'Visualização do Erro no Conjunto de Teste')"
      ]
     },
     "execution_count": 84,
     "metadata": {},
     "output_type": "execute_result"
    },
    {
     "data": {
      "image/png": "[encoded data removed]",
      "text/plain": [
       "<Figure size 432x288 with 1 Axes>"
      ]
     },
     "metadata": {
      "needs_background": "light"
     },
     "output_type": "display_data"
    }
   ],
   "source": [
    "ax = sns.scatterplot(data=series_df, x=\"y_true\", y=\"y_pred\", hue=\"mae\")\n",
    "\n",
    "ax.set_title(\"Visualização do Erro no Conjunto de Teste\")"
   ]
  },
  {
   "cell_type": "markdown",
   "id": "38588408-cdd5-4711-bafc-e328cf9a2b02",
   "metadata": {},
   "source": [
    "#### Teste Aleatório"
   ]
  },
  {
   "cell_type": "code",
   "execution_count": 85,
   "id": "b4685eb3-e927-4b42-9a51-1441f396dac4",
   "metadata": {},
   "outputs": [],
   "source": [
    "def predict_test(index):\n",
    "    \n",
    "    X_exemplo = pd.DataFrame(X_test.iloc[index]).T\n",
    "    \n",
    "    print(\"Exemplo:\")\n",
    "    print(X_exemplo.iloc[0])\n",
    "    \n",
    "    y_true_exemplo = y_test.iloc[index]\n",
    "    \n",
    "    Resultado = namedtuple('Resultado', ['y_true', 'y_pred'])\n",
    "        \n",
    "    X_exemplo_scaled = pd.DataFrame(scaler.transform(X_exemplo), columns=X.columns)\n",
    "    \n",
    "    y_pred_exemplo = reg.predict(X_exemplo_scaled)[0]\n",
    "    \n",
    "    print(\"\\n\" + str(Resultado(y_true_exemplo, round(y_pred_exemplo,3))))"
   ]
  },
  {
   "cell_type": "code",
   "execution_count": 90,
   "id": "a6e2776e-643f-4534-b4bf-d8320bfbc9a8",
   "metadata": {},
   "outputs": [
    {
     "name": "stdout",
     "output_type": "stream",
     "text": [
      "Exemplo:\n",
      "temperatura_media_c     17.8\n",
      "temperatura_minima_c    15.8\n",
      "temperatura_maxima_c    21.7\n",
      "precipitacacao_mm        0.0\n",
      "final_de_semana          0.0\n",
      "Name: 126, dtype: float64\n",
      "\n",
      "Resultado(y_true=19.143, y_pred=20.807)\n"
     ]
    }
   ],
   "source": [
    "predict_test(9)"
   ]
  },
  {
   "cell_type": "code",
   "execution_count": null,
   "id": "39baded6-52e9-4b58-acab-6526c20d479f",
   "metadata": {},
   "outputs": [],
   "source": []
  }
 ],
 "metadata": {
  "kernelspec": {
   "display_name": "Python 3 (ipykernel)",
   "language": "python",
   "name": "python3"
  },
  "language_info": {
   "codemirror_mode": {
    "name": "ipython",
    "version": 3
   },
   "file_extension": ".py",
   "mimetype": "text/x-python",
   "name": "python",
   "nbconvert_exporter": "python",
   "pygments_lexer": "ipython3",
   "version": "3.10.4"
  }
 },
 "nbformat": 4,
 "nbformat_minor": 5
}
