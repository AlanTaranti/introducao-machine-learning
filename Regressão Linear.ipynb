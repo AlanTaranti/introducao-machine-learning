{
 "cells": [
  {
   "cell_type": "code",
   "execution_count": null,
   "id": "3d736a0e-b36c-4b2f-bf0e-aedeb2927c95",
   "metadata": {},
   "outputs": [],
   "source": [
    "from sklearn import datasets\n",
    "import pandas as pd\n",
    "import seaborn as sns\n",
    "from sklearn.model_selection import train_test_split\n",
    "from sklearn.linear_model import LinearRegression\n",
    "from sklearn.metrics import mean_absolute_error\n",
    "from sklearn.preprocessing import StandardScaler\n",
    "from collections import namedtuple\n",
    "import warnings\n",
    "import matplotlib as mpl\n",
    "import numpy as np"
   ]
  },
  {
   "cell_type": "code",
   "execution_count": null,
   "id": "72dce54d-42e8-48f2-aa53-8dc437e8f70f",
   "metadata": {},
   "outputs": [],
   "source": [
    "mpl.rcParams[\"figure.figsize\"] = (12,6)"
   ]
  },
  {
   "cell_type": "markdown",
   "id": "b2c000cf-b811-400f-8b4c-9ac64db5ec1e",
   "metadata": {},
   "source": [
    "# Consumo Cerveja - São Paulo\n",
    "\n",
    "Os dados (amostra) foram coletados em São Paulo, em uma área universitária, onde existem algumas festas com grupos de alunos de 18 a 28 anos (média).\n",
    "\n",
    "O conjunto de dados utilizado para esta atividade possui 7 atributos, sendo um Alvo, durante o período de um ano.\n",
    "\n",
    "Atributos:\n",
    "\n",
    "    - Data: Dia da Coleta\n",
    "    - Temperatura Media (C): Temperatura Média do Dia em Celsius\n",
    "    - Temperatura Minima (C): Temperatura Mínima do Dia em Celsius\n",
    "    - Temperatura Maxima (C): Temperatura Máxima do Dia em Celsius\n",
    "    - Precipitacao (mm): Precipitação do Dia em Milímetros\n",
    "    - Final de Semana: Identificação se é fim de semana ou não\n",
    "    - Consumo de cerveja (litros): Quantidade de cerveja em livros\n",
    "\n",
    "\n",
    "Fonte: https://www.kaggle.com/datasets/dongeorge/beer-consumption-sao-paulo"
   ]
  },
  {
   "cell_type": "markdown",
   "id": "45d17c68-a4bd-4120-bd13-c95faed35736",
   "metadata": {},
   "source": [
    "## Carregamento de Dados"
   ]
  },
  {
   "cell_type": "code",
   "execution_count": null,
   "id": "6d2a9cf0-ded1-4c93-b8ce-c078f45d9f8d",
   "metadata": {},
   "outputs": [],
   "source": [
    "df = pd.read_csv('data/consumo_cerveja.csv')"
   ]
  },
  {
   "cell_type": "code",
   "execution_count": null,
   "id": "c34fb13b-5902-43de-8a05-d5e9f31384c5",
   "metadata": {},
   "outputs": [],
   "source": [
    "df.head()"
   ]
  },
  {
   "cell_type": "markdown",
   "id": "53aaaceb-09ac-4c17-b0ed-6c7baae29e99",
   "metadata": {},
   "source": [
    "## Limpeza Dados"
   ]
  },
  {
   "cell_type": "markdown",
   "id": "a55f7057-5fe4-4a77-98bc-8128a6964139",
   "metadata": {},
   "source": [
    "Objetivo: Tratar os dados de forma que consigamos usá-los para algoritmo de ML\n",
    "\n",
    "Possíveis técnicas:\n",
    " - Remoção de Dados Inválidos\n",
    " - Remoção de Outliers (Valores muito fora do esperado para o conjunto. Normalmente são erros de coleta)\n",
    " - Imputação de Valores em Campos Nulos\n",
    " - Transformação de tipos de variáveis"
   ]
  },
  {
   "cell_type": "markdown",
   "id": "79536102-559f-42cc-9442-391a007c2a6d",
   "metadata": {
    "tags": []
   },
   "source": [
    "### Visualização Básica"
   ]
  },
  {
   "cell_type": "markdown",
   "id": "f8614f9b-8a44-4459-be7e-8f87d879e885",
   "metadata": {},
   "source": [
    "#### Quantidade de Linhas e Colunas"
   ]
  },
  {
   "cell_type": "code",
   "execution_count": null,
   "id": "4585992e-fe12-4134-9a64-95864e1d4e52",
   "metadata": {},
   "outputs": [],
   "source": [
    "linhas, colunas = df.shape\n",
    "\n",
    "print(\"O Dataset possui {} linhas e {} colunas\".format(linhas, colunas))"
   ]
  },
  {
   "cell_type": "markdown",
   "id": "d94be5b7-710b-4f82-aae2-0d858245817c",
   "metadata": {
    "tags": []
   },
   "source": [
    "#### Informações Básicas\n",
    "\n",
    "Aqui é possivel visualizar as colunas, os tipos de dados, e se o dataset possui valores nulos"
   ]
  },
  {
   "cell_type": "code",
   "execution_count": null,
   "id": "6570aacb-5e12-4d42-9258-dea7fa6dc207",
   "metadata": {},
   "outputs": [],
   "source": [
    "df.info()"
   ]
  },
  {
   "cell_type": "markdown",
   "id": "3d0e0546-465c-4bc2-97b7-d9c638a55bca",
   "metadata": {
    "tags": []
   },
   "source": [
    "### Renomear Colunas\n",
    "\n",
    "Para fins de facilidade de uso, deixamos tudo em _snake_case_, padrão do Python"
   ]
  },
  {
   "cell_type": "code",
   "execution_count": null,
   "id": "25b5496f-18d4-4750-a349-451be41dfb65",
   "metadata": {},
   "outputs": [],
   "source": [
    "# Colunas Existentes\n",
    "df.columns"
   ]
  },
  {
   "cell_type": "code",
   "execution_count": null,
   "id": "d6db0cca-1e0c-49cb-b0c0-a8957749a255",
   "metadata": {},
   "outputs": [],
   "source": [
    "df = df.rename(columns={\n",
    "    \"Data\": \"data\",\n",
    "    \"Temperatura Media (C)\": \"temperatura_media_c\",\n",
    "    \"Temperatura Minima (C)\": \"temperatura_minima_c\",\n",
    "    \"Temperatura Maxima (C)\": \"temperatura_maxima_c\",\n",
    "    \"Precipitacao (mm)\": \"precipitacacao_mm\",\n",
    "    \"Final de Semana\": \"final_de_semana\",\n",
    "    \"Consumo de cerveja (litros)\": \"consumo_cerveja_litros\",\n",
    "})"
   ]
  },
  {
   "cell_type": "code",
   "execution_count": null,
   "id": "57f96d0d-afbe-491e-b696-6a401f139a99",
   "metadata": {},
   "outputs": [],
   "source": [
    "# Colunas Renomeadas\n",
    "df.columns"
   ]
  },
  {
   "cell_type": "code",
   "execution_count": null,
   "id": "3e51b058-09de-41e3-821a-43c865002468",
   "metadata": {},
   "outputs": [],
   "source": [
    "df.head()"
   ]
  },
  {
   "cell_type": "markdown",
   "id": "99a7073b-dd2a-4b59-bc9c-252725e8b013",
   "metadata": {},
   "source": [
    "### Tratar Dados Nulos"
   ]
  },
  {
   "cell_type": "markdown",
   "id": "b281340c-87af-4af8-a46f-3bc4d0b5d3cf",
   "metadata": {},
   "source": [
    "#### Inspecionar Dados Nulos"
   ]
  },
  {
   "cell_type": "code",
   "execution_count": null,
   "id": "410cb412-b114-4fb1-9044-d9bf1a46c5c9",
   "metadata": {},
   "outputs": [],
   "source": [
    "# Mostrar dados Nulos\n",
    "df[df.isna().any(axis=1)]"
   ]
  },
  {
   "cell_type": "markdown",
   "id": "74893be3-c522-48f5-9436-830238a9b623",
   "metadata": {},
   "source": [
    "#### Remover dados nulos"
   ]
  },
  {
   "cell_type": "code",
   "execution_count": null,
   "id": "6622caf7-a97e-4080-a464-7320dc349964",
   "metadata": {},
   "outputs": [],
   "source": [
    "# Remover dados nulos\n",
    "df = df[df.notna().any(axis=1)]"
   ]
  },
  {
   "cell_type": "code",
   "execution_count": null,
   "id": "98dc4678-4afb-415f-a9d6-7ac9fc9fec9d",
   "metadata": {},
   "outputs": [],
   "source": [
    "# Mostrar dados nulos\n",
    "df[df.isna().any(axis=1)]"
   ]
  },
  {
   "cell_type": "markdown",
   "id": "b0c45904-e562-4e44-877d-9b553fecd01a",
   "metadata": {},
   "source": [
    "#### Informações Básicas do Dataset após a Remoção de Dados Nulos"
   ]
  },
  {
   "cell_type": "code",
   "execution_count": null,
   "id": "53e4f891-7943-496f-8a1e-b73dad3ecd58",
   "metadata": {},
   "outputs": [],
   "source": [
    "df.info()"
   ]
  },
  {
   "cell_type": "markdown",
   "id": "e424d226-75bc-4a07-a37b-8b4028c5bbd9",
   "metadata": {},
   "source": [
    "### Tratar Tipos de Variáveis"
   ]
  },
  {
   "cell_type": "markdown",
   "id": "08e6a006-39cd-4c6a-af3e-bf7e0696e6c7",
   "metadata": {},
   "source": [
    "#### Mostrar tipos existentes"
   ]
  },
  {
   "cell_type": "code",
   "execution_count": null,
   "id": "68179a25-36f8-4aaf-a948-5c051ec8715f",
   "metadata": {},
   "outputs": [],
   "source": [
    "df.dtypes"
   ]
  },
  {
   "cell_type": "code",
   "execution_count": null,
   "id": "24f581eb-f4b4-41e8-90e0-9f1b1bb79e44",
   "metadata": {},
   "outputs": [],
   "source": [
    "df.sample(5)"
   ]
  },
  {
   "cell_type": "markdown",
   "id": "572015c0-433f-4f1b-988a-7753374f83e6",
   "metadata": {},
   "source": [
    "#### Converter Strings para Float"
   ]
  },
  {
   "cell_type": "code",
   "execution_count": null,
   "id": "20ea9fe7-3acd-4970-b259-7cc926db6e88",
   "metadata": {},
   "outputs": [],
   "source": [
    "def substituir_virgula_por_ponto(x):\n",
    "    return x.replace(',', '.')\n",
    "\n",
    "df['temperatura_media_c'] = df['temperatura_media_c'].apply(substituir_virgula_por_ponto)\n",
    "df['temperatura_minima_c'] = df['temperatura_minima_c'].apply(substituir_virgula_por_ponto)\n",
    "df['temperatura_maxima_c'] = df['temperatura_maxima_c'].apply(substituir_virgula_por_ponto)\n",
    "df['precipitacacao_mm'] = df['precipitacacao_mm'].apply(substituir_virgula_por_ponto)\n",
    "\n",
    "df['temperatura_media_c'] = df['temperatura_media_c'].astype(float)\n",
    "df['temperatura_minima_c'] = df['temperatura_minima_c'].astype(float)\n",
    "df['temperatura_maxima_c'] = df['temperatura_maxima_c'].astype(float)\n",
    "df['precipitacacao_mm'] = df['precipitacacao_mm'].astype(float)"
   ]
  },
  {
   "cell_type": "code",
   "execution_count": null,
   "id": "417c1019-1d01-4d86-ac69-baf9b4c891d6",
   "metadata": {},
   "outputs": [],
   "source": [
    "df.dtypes"
   ]
  },
  {
   "cell_type": "code",
   "execution_count": null,
   "id": "53a55a8e-580e-4e4e-9401-9ab806f7555c",
   "metadata": {},
   "outputs": [],
   "source": [
    "df.sample(5)"
   ]
  },
  {
   "cell_type": "markdown",
   "id": "d99a5733-3138-4b3b-877d-57b7ab53ca3b",
   "metadata": {},
   "source": [
    "## Visualização de Varáveis"
   ]
  },
  {
   "cell_type": "markdown",
   "id": "995b97be-4a89-4be0-a45f-821a2d71baf6",
   "metadata": {},
   "source": [
    "### Temperatura Média"
   ]
  },
  {
   "cell_type": "markdown",
   "id": "12b048f6-77a0-459e-bb9c-53b90694e564",
   "metadata": {},
   "source": [
    "#### Estatística Descritiva"
   ]
  },
  {
   "cell_type": "code",
   "execution_count": null,
   "id": "57b3f536-ed06-4f7a-be3e-4c709bd9d188",
   "metadata": {},
   "outputs": [],
   "source": [
    "df[\"temperatura_media_c\"].describe()"
   ]
  },
  {
   "cell_type": "markdown",
   "id": "662d278b-0592-4011-aa77-3e37ecc8c16d",
   "metadata": {},
   "source": [
    "#### Histograma"
   ]
  },
  {
   "cell_type": "code",
   "execution_count": null,
   "id": "ef1f71fe-af99-4945-96f8-07376200c9ea",
   "metadata": {},
   "outputs": [],
   "source": [
    "ax = sns.histplot(data=df, x=\"temperatura_media_c\", kde=True, bins=20, color=\"green\")\n",
    "\n",
    "ax.set_title(\"Histograma de Temperatura Média\")"
   ]
  },
  {
   "cell_type": "markdown",
   "id": "a50bfca2-f265-4951-ba27-a5c0ccf75f6f",
   "metadata": {},
   "source": [
    "#### Temperatura Média Ambiente vs Consumo de Cerveja"
   ]
  },
  {
   "cell_type": "code",
   "execution_count": null,
   "id": "2d841179-1add-4fc2-841f-00c8edcd558f",
   "metadata": {},
   "outputs": [],
   "source": [
    "ax = sns.regplot(data=df, x='temperatura_media_c', y='consumo_cerveja_litros', color=\"green\")\n",
    "\n",
    "ax.set_title(\"Temperatura Média Ambiente vs Consumo de Cerveja\")"
   ]
  },
  {
   "cell_type": "markdown",
   "id": "de0b861d-b205-44e7-b7f3-591eb65a1cf5",
   "metadata": {},
   "source": [
    "### Temperatura Mínima"
   ]
  },
  {
   "cell_type": "markdown",
   "id": "b0401d88-6ec7-487c-a1f5-a9e20302f7b5",
   "metadata": {},
   "source": [
    "#### Estatística Descritiva"
   ]
  },
  {
   "cell_type": "code",
   "execution_count": null,
   "id": "e2d9742c-be54-4b8e-966e-3bb7e1e32ec2",
   "metadata": {},
   "outputs": [],
   "source": [
    "df[\"temperatura_minima_c\"].describe()"
   ]
  },
  {
   "cell_type": "markdown",
   "id": "7fe64ba2-1577-4fe8-acd8-295caccd7b7d",
   "metadata": {},
   "source": [
    "#### Histograma"
   ]
  },
  {
   "cell_type": "code",
   "execution_count": null,
   "id": "de06a80e-ab00-48e6-92e8-7697a849d939",
   "metadata": {},
   "outputs": [],
   "source": [
    "ax = sns.histplot(data=df, x=\"temperatura_minima_c\", kde=True, bins=20, color=\"blue\")\n",
    "\n",
    "ax.set_title(\"Histograma de Temperatura Mínima\")"
   ]
  },
  {
   "cell_type": "markdown",
   "id": "3186566f-8513-4b75-9814-45566cd9d0f2",
   "metadata": {},
   "source": [
    "#### Temperatura Média Ambiente vs Consumo de Cerveja"
   ]
  },
  {
   "cell_type": "code",
   "execution_count": null,
   "id": "a471ddd3-9ee8-470f-9f96-157530632927",
   "metadata": {},
   "outputs": [],
   "source": [
    "ax = sns.regplot(data=df, x='temperatura_minima_c', y='consumo_cerveja_litros', color=\"blue\")\n",
    "\n",
    "ax.set_title(\"Temperatura Mínima Ambiente vs Consumo de Cerveja\")"
   ]
  },
  {
   "cell_type": "markdown",
   "id": "41c55523-5a89-4af8-a36a-d54ba057805d",
   "metadata": {},
   "source": [
    "### Temperatura Máxima"
   ]
  },
  {
   "cell_type": "markdown",
   "id": "8f06e212-7d67-4851-99e9-0a2261482281",
   "metadata": {},
   "source": [
    "#### Estatística Descritiva"
   ]
  },
  {
   "cell_type": "code",
   "execution_count": null,
   "id": "e1860753-4c10-401a-a107-8f6bb239adf3",
   "metadata": {},
   "outputs": [],
   "source": [
    "df[\"temperatura_maxima_c\"].describe()"
   ]
  },
  {
   "cell_type": "markdown",
   "id": "160367c3-dca7-4219-93a6-91ad446000c3",
   "metadata": {},
   "source": [
    "#### Histograma"
   ]
  },
  {
   "cell_type": "code",
   "execution_count": null,
   "id": "d2cfd83a-6858-468b-8d64-f72e250fa397",
   "metadata": {},
   "outputs": [],
   "source": [
    "ax = sns.histplot(data=df, x=\"temperatura_maxima_c\", kde=True, bins=20, color=\"red\")\n",
    "\n",
    "ax.set_title(\"Histograma de Temperatura Máxima\")"
   ]
  },
  {
   "cell_type": "markdown",
   "id": "9629c80c-6861-4752-9f7d-ea9ff3540618",
   "metadata": {},
   "source": [
    "#### Temperatura Máxima Ambiente vs Consumo de Cerveja"
   ]
  },
  {
   "cell_type": "code",
   "execution_count": null,
   "id": "47205f87-e34b-46ae-8833-54f327d6ff89",
   "metadata": {},
   "outputs": [],
   "source": [
    "ax = sns.regplot(data=df, x='temperatura_maxima_c', y='consumo_cerveja_litros', color=\"red\")\n",
    "\n",
    "ax.set_title(\"Temperatura Máxima Ambiente vs Consumo de Cerveja\")"
   ]
  },
  {
   "cell_type": "markdown",
   "id": "1eea0635-5cd8-425e-b4c6-180415786a23",
   "metadata": {},
   "source": [
    "### Precipitação"
   ]
  },
  {
   "cell_type": "markdown",
   "id": "93cd69cc-124f-43e3-afcc-28814268b609",
   "metadata": {},
   "source": [
    "#### Estatística Descritiva"
   ]
  },
  {
   "cell_type": "code",
   "execution_count": null,
   "id": "300108e1-cda3-4301-8055-e0cdf614481c",
   "metadata": {},
   "outputs": [],
   "source": [
    "df[\"precipitacacao_mm\"].describe()"
   ]
  },
  {
   "cell_type": "markdown",
   "id": "6ba9d734-981d-417e-b5a3-fcddbdddfb2e",
   "metadata": {},
   "source": [
    "#### Histograma"
   ]
  },
  {
   "cell_type": "code",
   "execution_count": null,
   "id": "485cdf0c-b9f8-44c8-98c8-83247f5ac9d3",
   "metadata": {},
   "outputs": [],
   "source": [
    "ax = sns.histplot(data=df, x=\"precipitacacao_mm\", kde=True, bins=5, color=\"#0bc\")\n",
    "\n",
    "ax.set_title(\"Histograma de Precipitação\")"
   ]
  },
  {
   "cell_type": "markdown",
   "id": "fc268a4f-aea2-47cd-b101-43124c65cfd1",
   "metadata": {},
   "source": [
    "#### Precipitação vs Consumo de Cerveja"
   ]
  },
  {
   "cell_type": "code",
   "execution_count": null,
   "id": "9a4261de-e767-414e-abc2-86493a00821d",
   "metadata": {},
   "outputs": [],
   "source": [
    "ax = sns.regplot(data=df, x='precipitacacao_mm', y='consumo_cerveja_litros', color=\"#0bc\")\n",
    "\n",
    "ax.set_title(\"Precipitação (mm) vs Consumo de Cerveja\")"
   ]
  },
  {
   "cell_type": "markdown",
   "id": "1882336a-9f6f-4172-b7cf-08b6d47a75ed",
   "metadata": {},
   "source": [
    "### Fim de Semana"
   ]
  },
  {
   "cell_type": "markdown",
   "id": "6f63300e-ea25-4d5e-8488-2f39115ec7e4",
   "metadata": {},
   "source": [
    "#### Estatística Descritiva"
   ]
  },
  {
   "cell_type": "code",
   "execution_count": null,
   "id": "f169d7b8-b4cf-4998-9426-41650ee721a5",
   "metadata": {},
   "outputs": [],
   "source": [
    "df[\"final_de_semana\"].describe()"
   ]
  },
  {
   "cell_type": "markdown",
   "id": "608887c2-eca5-4a21-ba73-aa9b81d06bea",
   "metadata": {},
   "source": [
    "#### Fim de Semana vs Consumo de Cerveja"
   ]
  },
  {
   "cell_type": "code",
   "execution_count": null,
   "id": "9d230eb0-4af5-415f-ab16-8097d349659e",
   "metadata": {},
   "outputs": [],
   "source": [
    "g = sns.catplot(data=df, x='final_de_semana', y='consumo_cerveja_litros', color=\"#0bc\")\n",
    "\n",
    "axes = g.axes.flatten()\n",
    "axes[0].set_title(\"Fim de Semana vs Consumo de Cerveja\")"
   ]
  },
  {
   "cell_type": "markdown",
   "id": "f58679ac-4890-401e-b6dc-6160991c201e",
   "metadata": {},
   "source": [
    "##### Consumo Diário em Dia de Semana e Dia de Fim de Semana"
   ]
  },
  {
   "cell_type": "code",
   "execution_count": null,
   "id": "51a1e445-830a-4a59-b93d-8c14b367184b",
   "metadata": {},
   "outputs": [],
   "source": [
    "consumo_por_dia = {\n",
    "    'dia_de_semana': df[df['final_de_semana'] == 0]['consumo_cerveja_litros'].sum()/5,\n",
    "    'dia_de_fim_de_semana': df[df['final_de_semana'] == 1]['consumo_cerveja_litros'].sum()/2,\n",
    "}\n",
    "\n",
    "ax = pd.Series(consumo_por_dia).plot.bar()\n",
    "\n",
    "\n",
    "ax.set_title(\"Consumo de Cerveja Diário Durante a Semana e Fim de Semana\")\n",
    "ax.set_xticklabels(labels=consumo_por_dia.keys(),rotation=0);"
   ]
  },
  {
   "cell_type": "markdown",
   "id": "01aa32df-6707-4e3b-8980-18aec16f92e9",
   "metadata": {},
   "source": [
    "## Machine Learning"
   ]
  },
  {
   "cell_type": "markdown",
   "id": "9c62433c-8318-4d27-b6fb-6a0a4c440e0a",
   "metadata": {},
   "source": [
    "### Visualização dos Dados"
   ]
  },
  {
   "cell_type": "markdown",
   "id": "60207f26-e210-44c0-a12b-898341272380",
   "metadata": {},
   "source": [
    "### Separação Conjunto Treinamento e Teste\n",
    "\n",
    "- Treino: Utilizado no treinamento do modelo de Machine Learning\n",
    "- Teste: Utilizado para verificar se o modelo generaliza o que aprendeu para exemplos não vistos no treinamento"
   ]
  },
  {
   "cell_type": "markdown",
   "id": "9b224d8e-acb5-4503-94a9-fa0e71df7d64",
   "metadata": {},
   "source": [
    "#### Separar X e y\n",
    "\n",
    "- X: Contém os atributos que serão utilizados para treinar/testar o modelo de ML\n",
    "- y: Contém a variável alvo, que desejamos prever"
   ]
  },
  {
   "cell_type": "code",
   "execution_count": null,
   "id": "5793a0a6-5a6d-4516-b565-fad1c0b61393",
   "metadata": {},
   "outputs": [],
   "source": [
    "X = df.drop(['data', 'consumo_cerveja_litros'], axis=1)\n",
    "X.sample(5)"
   ]
  },
  {
   "cell_type": "code",
   "execution_count": null,
   "id": "4ca54782-a66e-461a-a32b-afcb6777c456",
   "metadata": {},
   "outputs": [],
   "source": [
    "y = df['consumo_cerveja_litros']\n",
    "y.sample(5)"
   ]
  },
  {
   "cell_type": "markdown",
   "id": "a28a51d9-3eeb-426d-a577-be3b7c1135bc",
   "metadata": {},
   "source": [
    "#### Separar Conjuntos de Treino e de Teste\n",
    "- Treino: 70%\n",
    "- Teste: 30%"
   ]
  },
  {
   "cell_type": "code",
   "execution_count": null,
   "id": "b95a1845-a756-48b7-8a5a-6df344cd6128",
   "metadata": {},
   "outputs": [],
   "source": [
    "# Separação de Conjuntos\n",
    "X_train, X_test, y_train, y_test = train_test_split(X, y, test_size=0.3, random_state=42)"
   ]
  },
  {
   "cell_type": "code",
   "execution_count": null,
   "id": "a9f6c414-166f-49fd-9fa2-df17f79292e8",
   "metadata": {},
   "outputs": [],
   "source": [
    "# Quantidade de elementos em cada conjunto\n",
    "quantidade_conjunto_treino = X_train.shape[0]\n",
    "quantidade_conjunto_teste = X_test.shape[0]\n",
    "\n",
    "print(\"O conjunto de Treino ficou com {} elementos, e o conjunto de Teste ficou com {} elementos\".format(quantidade_conjunto_treino, quantidade_conjunto_teste))"
   ]
  },
  {
   "cell_type": "markdown",
   "id": "2f40f87f-320d-4d87-9caf-17a831a017ac",
   "metadata": {},
   "source": [
    "### Pré-Processamento"
   ]
  },
  {
   "attachments": {
    "18bc2c0f-cc1b-4d7b-8939-e1cb2800c79e.png": {
     "image/png": "[encoded data removed]"
    }
   },
   "cell_type": "markdown",
   "id": "d1d206da-0b0b-41f6-a5a1-0ef7a8cf4429",
   "metadata": {},
   "source": [
    "#### Normalização\n",
    "\n",
    "A Normalização é um processo que busca tratar os dados para facilitar o processamento por algoritmos de ML e eliminar o efeito de escalas entre as variáveis.\n",
    "\n",
    "Existem várias ténicas de normalização, porém, no nosso caso utilizaremos o Standardization.\n",
    "\n",
    "\n",
    "Standardization Formula:\n",
    "\n",
    "![image.png](attachment:18bc2c0f-cc1b-4d7b-8939-e1cb2800c79e.png)"
   ]
  },
  {
   "cell_type": "markdown",
   "id": "9bc21cf9-7cc3-408e-a810-07f6f4877342",
   "metadata": {},
   "source": [
    "##### Dados antes da normalização"
   ]
  },
  {
   "cell_type": "code",
   "execution_count": null,
   "id": "61f6e07b-a0c9-444f-a4e7-ff4bd4f9b953",
   "metadata": {},
   "outputs": [],
   "source": [
    "X_train.sample(5)"
   ]
  },
  {
   "cell_type": "markdown",
   "id": "67e1d542-3f6d-4901-867e-b6eb019adddf",
   "metadata": {},
   "source": [
    "##### Visualização da variável Temperatura Média Antes da Normalização"
   ]
  },
  {
   "cell_type": "code",
   "execution_count": null,
   "id": "1a2a71b2-bcaa-4b75-bdd5-21bbe5673705",
   "metadata": {},
   "outputs": [],
   "source": [
    "ax = sns.histplot(data=df, x=\"temperatura_media_c\", kde=True, bins=40, color=\"green\")\n",
    "\n",
    "ax.set_title(\"Histograma de Temperatura Média\")"
   ]
  },
  {
   "cell_type": "markdown",
   "id": "7e8fba6d-a21c-4bd9-8df5-001d5fdeacb5",
   "metadata": {},
   "source": [
    "##### A Normalização em si"
   ]
  },
  {
   "cell_type": "code",
   "execution_count": null,
   "id": "723f3b4c-2d2e-49f4-a2e9-6463f63ef618",
   "metadata": {},
   "outputs": [],
   "source": [
    "# Inicializar o Normalizador\n",
    "scaler = StandardScaler()"
   ]
  },
  {
   "cell_type": "code",
   "execution_count": null,
   "id": "e1e09408-fe49-48e3-8717-563f698b1ec2",
   "metadata": {},
   "outputs": [],
   "source": [
    "# Treinar o Normalizador\n",
    "scaler.fit(X_train)"
   ]
  },
  {
   "cell_type": "code",
   "execution_count": null,
   "id": "d900c3c5-3d7c-456e-b921-4dd7fdd751bc",
   "metadata": {},
   "outputs": [],
   "source": [
    "# Gerar um X_train normalizado\n",
    "X_train_scaled = scaler.transform(X_train)"
   ]
  },
  {
   "cell_type": "code",
   "execution_count": null,
   "id": "32018775-eb86-4a3a-917f-ebf11a34c674",
   "metadata": {},
   "outputs": [],
   "source": [
    "# Criar um dataframe X_train_scaled\n",
    "X_train_scaled = pd.DataFrame(X_train_scaled, columns=X.columns)\n",
    "\n",
    "# Mostrar o X_train normalizado\n",
    "X_train_scaled.sample(5)"
   ]
  },
  {
   "cell_type": "markdown",
   "id": "6399511f-8e66-4322-8e72-4eb040972260",
   "metadata": {},
   "source": [
    "##### Visualização da variável Temperatura Média Após a Normalização"
   ]
  },
  {
   "cell_type": "code",
   "execution_count": null,
   "id": "6759c85b-4afa-4ca6-9dd8-400d83794b15",
   "metadata": {},
   "outputs": [],
   "source": [
    "ax = sns.histplot(data=X_train_scaled, x=\"temperatura_media_c\", kde=True, bins=40, color=\"green\")\n",
    "\n",
    "ax.set_title(\"Histograma de Temperatura Média\")"
   ]
  },
  {
   "cell_type": "markdown",
   "id": "925bc3ff-47cb-47ae-a94a-5e2723792e98",
   "metadata": {},
   "source": [
    "### Aprendizado\n",
    "\n",
    "Treinamento do modelo utilizando Regressão Linear no conjunto de dados de Treino"
   ]
  },
  {
   "cell_type": "code",
   "execution_count": null,
   "id": "c92581b9-d3b7-436a-9b55-a3ebd2b323a8",
   "metadata": {},
   "outputs": [],
   "source": [
    "# Inicialização da Regressão Linear\n",
    "reg = LinearRegression()"
   ]
  },
  {
   "cell_type": "code",
   "execution_count": null,
   "id": "64fff208-0d34-416a-a922-2624c3fd09ce",
   "metadata": {},
   "outputs": [],
   "source": [
    "# Modelagem\n",
    "reg.fit(X_train_scaled, y_train)"
   ]
  },
  {
   "cell_type": "markdown",
   "id": "c2f0de19-a909-4423-bf1d-c9d51df6b208",
   "metadata": {
    "tags": []
   },
   "source": [
    "#### Visualização do Modelo Treinado"
   ]
  },
  {
   "cell_type": "markdown",
   "id": "afcdf9dd-add4-41b9-9719-9f3f27f96571",
   "metadata": {
    "tags": []
   },
   "source": [
    "##### Função Preditora"
   ]
  },
  {
   "cell_type": "code",
   "execution_count": null,
   "id": "77ff439d-dcf3-4e11-8398-b2bffb6c09ed",
   "metadata": {},
   "outputs": [],
   "source": [
    "# Variável Independente\n",
    "interceptador = reg.intercept_\n",
    "\n",
    "# Coeficientes\n",
    "coeficientes = reg.coef_\n",
    "\n",
    "funcao = \"predição = {:.2f} + ({:.2f} * temperatura_media_c) + ({:.2f} * temperatura_minima_c) + ({:.2f} * temperatura_maxima_c) + ({:.2f} * precipitacacao_mm) + ({:.2f} * final_de_semana)\".format(interceptador, *coeficientes)\n",
    "print(funcao)"
   ]
  },
  {
   "cell_type": "code",
   "execution_count": null,
   "id": "51d5a8b1-4915-4157-ae32-9dcae955d9e0",
   "metadata": {},
   "outputs": [],
   "source": [
    "def predict(X_sample):\n",
    "    # Variável Independente\n",
    "    interceptador = reg.intercept_\n",
    "    \n",
    "    # Coeficientes\n",
    "    coeficientes = reg.coef_\n",
    "    \n",
    "    return interceptador + (reg.coef_ * X_sample).sum()"
   ]
  },
  {
   "cell_type": "code",
   "execution_count": null,
   "id": "8715c501-f23a-4406-9781-862709a4c9ec",
   "metadata": {},
   "outputs": [],
   "source": [
    "# Index\n",
    "index = 1\n",
    "\n",
    "# Predição com nossa função home-made\n",
    "resultado_predito = predict(X_train_scaled.iloc[index])\n",
    "\n",
    "# Resultado Real\n",
    "resultado_real = y_train.iloc[index]\n",
    "\n",
    "# Diferença\n",
    "diferenca_entre_predito_e_real = np.abs(resultado_predito - resultado_real)\n",
    "\n",
    "print(\"O resultado predito foi {:.2f} e o real é {:.2f}\".format(resultado_predito, resultado_real))\n",
    "print(\"A diferença absoluta entre os dois é {:.2f} litros\".format(diferenca_entre_predito_e_real))"
   ]
  },
  {
   "cell_type": "markdown",
   "id": "d398b81d-4390-4286-90f6-0770401a785c",
   "metadata": {},
   "source": [
    "#### Predição do Conjunto de Treinamento\n",
    "\n",
    "Aqui vamos verificar a performance do modelo treinado no conjunto de Treinamento"
   ]
  },
  {
   "cell_type": "code",
   "execution_count": null,
   "id": "1fff6e4c-6049-4bbd-bb7c-fc07607146b8",
   "metadata": {},
   "outputs": [],
   "source": [
    "# Predizer o resultado\n",
    "y_pred = reg.predict(X_train_scaled)"
   ]
  },
  {
   "cell_type": "code",
   "execution_count": null,
   "id": "d3d963d0-1fe4-4bd5-833b-29083e53cbae",
   "metadata": {},
   "outputs": [],
   "source": [
    "# Resultado predito\n",
    "y_pred[0:10]"
   ]
  },
  {
   "cell_type": "code",
   "execution_count": null,
   "id": "243fc8ec-b33a-4a3b-9b28-a74d4c1c34b4",
   "metadata": {},
   "outputs": [],
   "source": [
    "# Resultado real\n",
    "y_train[0:10].values"
   ]
  },
  {
   "attachments": {
    "d3a1bd7e-1a06-4627-9f3f-a6ee88b8ebe7.png": {
     "image/png": "[encoded data removed]"
    }
   },
   "cell_type": "markdown",
   "id": "df575aca-fe7d-483d-863a-6c846d67613b",
   "metadata": {
    "tags": []
   },
   "source": [
    "##### Métrica\n",
    "\n",
    "Existem várias métricas de análise de erro para regressão.\n",
    "\n",
    "Para esta apresentação, utilizaremos o Mean Absolute Error:\n",
    "\n",
    "![image.png](attachment:d3a1bd7e-1a06-4627-9f3f-a6ee88b8ebe7.png)\n",
    "\n",
    "\n",
    "\n",
    "\n",
    "Referência: https://scikit-learn.org/stable/modules/model_evaluation.html#model-evaluation"
   ]
  },
  {
   "cell_type": "code",
   "execution_count": null,
   "id": "9b2cde18-2c38-4f52-ab36-406a1fdb1cb0",
   "metadata": {},
   "outputs": [],
   "source": [
    "## Performance no Conjunto de Treinamento\n",
    "mean_absolute_error(y_train, y_pred)"
   ]
  },
  {
   "cell_type": "markdown",
   "id": "e6ea7d5e-49a8-4420-b2c8-41cf2ce5fbcc",
   "metadata": {},
   "source": [
    "##### Visualização do Erro"
   ]
  },
  {
   "cell_type": "code",
   "execution_count": null,
   "id": "c519125d-15fb-49df-b9e0-3f58438e13ee",
   "metadata": {},
   "outputs": [],
   "source": [
    "series = {\n",
    "    'y_true': y_train,\n",
    "    'y_pred': y_pred\n",
    "}\n",
    "series_df = pd.DataFrame(series)\n",
    "\n",
    "def calcula_erro(x):\n",
    "    return mean_absolute_error([x['y_true']], [x['y_pred']])\n",
    "\n",
    "\n",
    "series_df['mae'] = series_df.apply(calcula_erro, axis=1)\n",
    "series_df.head()"
   ]
  },
  {
   "cell_type": "code",
   "execution_count": null,
   "id": "293f6dc8-2ee5-4314-8908-cc12469b6bb0",
   "metadata": {},
   "outputs": [],
   "source": [
    "ax = sns.scatterplot(data=series_df, x=\"y_true\", y=\"y_pred\", hue=\"mae\")\n",
    "\n",
    "ax.set_title(\"Visualização do Erro no Conjunto de Treinamento\")"
   ]
  },
  {
   "cell_type": "markdown",
   "id": "69182d67-7149-4a12-a9a9-f825b6cb5020",
   "metadata": {},
   "source": [
    "#### Predição do Conjunto de Teste\n",
    "\n",
    "Aqui vamos verificar a performance do modelo treinado no conjunto de Teste"
   ]
  },
  {
   "cell_type": "code",
   "execution_count": null,
   "id": "2f7ce42a-3135-4945-853c-46410bfb5dc5",
   "metadata": {},
   "outputs": [],
   "source": [
    "# Aplicar a transformação no conjunto de teste\n",
    "X_test_scaled = scaler.transform(X_test)\n",
    "\n",
    "# Criar um dataframe X_test_scaled\n",
    "X_test_scaled = pd.DataFrame(X_test_scaled, columns=X.columns)"
   ]
  },
  {
   "cell_type": "code",
   "execution_count": null,
   "id": "0fb58251-b41f-421d-ba9e-8e1cfed5ab60",
   "metadata": {},
   "outputs": [],
   "source": [
    "X_test_scaled.sample(5)"
   ]
  },
  {
   "cell_type": "code",
   "execution_count": null,
   "id": "7883dbbe-ca7d-4444-9ced-d33f8c63a544",
   "metadata": {},
   "outputs": [],
   "source": [
    "# Predizer o resultado\n",
    "y_pred = reg.predict(X_test_scaled)"
   ]
  },
  {
   "cell_type": "code",
   "execution_count": null,
   "id": "0fac14e1-de7a-4778-aba5-b15c073a8395",
   "metadata": {},
   "outputs": [],
   "source": [
    "# Resultado predito\n",
    "y_pred[0:10]"
   ]
  },
  {
   "cell_type": "code",
   "execution_count": null,
   "id": "cde2849f-c340-4930-b2a0-c458b4999a78",
   "metadata": {},
   "outputs": [],
   "source": [
    "# Resultado real\n",
    "y_test[0:10].values"
   ]
  },
  {
   "attachments": {
    "d3a1bd7e-1a06-4627-9f3f-a6ee88b8ebe7.png": {
     "image/png": "[encoded data removed]"
    }
   },
   "cell_type": "markdown",
   "id": "9dfa4c0c-db75-42b6-9eec-412a2112c6be",
   "metadata": {
    "tags": []
   },
   "source": [
    "##### Métrica\n",
    "\n",
    "Existem várias métricas de análise de erro para regressão.\n",
    "\n",
    "Para esta apresentação, utilizaremos o Mean Absolute Error:\n",
    "\n",
    "![image.png](attachment:d3a1bd7e-1a06-4627-9f3f-a6ee88b8ebe7.png)\n",
    "\n",
    "\n",
    "\n",
    "\n",
    "Referência: https://scikit-learn.org/stable/modules/model_evaluation.html#model-evaluation"
   ]
  },
  {
   "cell_type": "code",
   "execution_count": null,
   "id": "e5f195bc-bb54-4211-9aa0-3767b92d1bf6",
   "metadata": {},
   "outputs": [],
   "source": [
    "## Performance no Conjunto de Treinamento\n",
    "mean_absolute_error(y_test, y_pred)"
   ]
  },
  {
   "cell_type": "markdown",
   "id": "840166e1-b191-4b31-8204-f336c26a9acb",
   "metadata": {},
   "source": [
    "##### Visualização do Erro"
   ]
  },
  {
   "cell_type": "code",
   "execution_count": null,
   "id": "ef69d71d-649a-40f3-8e2a-7a3c2d0ac4f1",
   "metadata": {},
   "outputs": [],
   "source": [
    "series = {\n",
    "    'y_true': y_test,\n",
    "    'y_pred': y_pred\n",
    "}\n",
    "series_df = pd.DataFrame(series)\n",
    "\n",
    "def calcula_erro(x):\n",
    "    return mean_absolute_error([x['y_true']], [x['y_pred']])\n",
    "\n",
    "\n",
    "series_df['mae'] = series_df.apply(calcula_erro, axis=1)\n",
    "series_df.head()"
   ]
  },
  {
   "cell_type": "code",
   "execution_count": null,
   "id": "8a775653-efc7-4ba2-9d90-7f11a2d1ef27",
   "metadata": {},
   "outputs": [],
   "source": [
    "ax = sns.scatterplot(data=series_df, x=\"y_true\", y=\"y_pred\", hue=\"mae\")\n",
    "\n",
    "ax.set_title(\"Visualização do Erro no Conjunto de Teste\")"
   ]
  },
  {
   "cell_type": "markdown",
   "id": "38588408-cdd5-4711-bafc-e328cf9a2b02",
   "metadata": {},
   "source": [
    "#### Teste Aleatório"
   ]
  },
  {
   "cell_type": "code",
   "execution_count": null,
   "id": "b4685eb3-e927-4b42-9a51-1441f396dac4",
   "metadata": {},
   "outputs": [],
   "source": [
    "def predict_test(index):\n",
    "    \n",
    "    X_exemplo = pd.DataFrame(X_test.iloc[index]).T\n",
    "    \n",
    "    print(\"Exemplo:\")\n",
    "    print(X_exemplo.iloc[0])\n",
    "    \n",
    "    y_true_exemplo = y_test.iloc[index]\n",
    "    \n",
    "    Resultado = namedtuple('Resultado', ['y_true', 'y_pred'])\n",
    "        \n",
    "    X_exemplo_scaled = pd.DataFrame(scaler.transform(X_exemplo), columns=X.columns)\n",
    "    \n",
    "    y_pred_exemplo = reg.predict(X_exemplo_scaled)[0]\n",
    "    \n",
    "    print(\"\\n\" + str(Resultado(y_true_exemplo, round(y_pred_exemplo,3))))"
   ]
  },
  {
   "cell_type": "code",
   "execution_count": null,
   "id": "a6e2776e-643f-4534-b4bf-d8320bfbc9a8",
   "metadata": {},
   "outputs": [],
   "source": [
    "predict_test(3)"
   ]
  },
  {
   "cell_type": "code",
   "execution_count": null,
   "id": "39baded6-52e9-4b58-acab-6526c20d479f",
   "metadata": {},
   "outputs": [],
   "source": []
  }
 ],
 "metadata": {
  "kernelspec": {
   "display_name": "Python 3 (ipykernel)",
   "language": "python",
   "name": "python3"
  },
  "language_info": {
   "codemirror_mode": {
    "name": "ipython",
    "version": 3
   },
   "file_extension": ".py",
   "mimetype": "text/x-python",
   "name": "python",
   "nbconvert_exporter": "python",
   "pygments_lexer": "ipython3",
   "version": "3.10.4"
  }
 },
 "nbformat": 4,
 "nbformat_minor": 5
}
