{
 "cells": [
  {
   "cell_type": "code",
   "execution_count": 79,
   "id": "3d736a0e-b36c-4b2f-bf0e-aedeb2927c95",
   "metadata": {},
   "outputs": [],
   "source": [
    "from sklearn import datasets\n",
    "import pandas as pd\n",
    "import seaborn as sns\n",
    "from sklearn.model_selection import train_test_split\n",
    "from sklearn.linear_model import LinearRegression\n",
    "from sklearn.metrics import mean_squared_error\n",
    "from sklearn.preprocessing import StandardScaler\n",
    "from collections import namedtuple\n",
    "import warnings"
   ]
  },
  {
   "cell_type": "markdown",
   "id": "b2c000cf-b811-400f-8b4c-9ac64db5ec1e",
   "metadata": {},
   "source": [
    "# Consumo Cerveja - São Paulo\n",
    "\n",
    "Os dados (amostra) foram coletados em São Paulo, em uma área universitária, onde existem algumas festas com grupos de alunos de 18 a 28 anos (média).\n",
    "\n",
    "O conjunto de dados utilizado para esta atividade possui 7 atributos, sendo um Alvo, durante o período de um ano.\n",
    "\n",
    "Atributos:\n",
    "\n",
    "    - Data: Dia da Coleta\n",
    "    - Temperatura Media (C): Temperatura Média do Dia em Celsius\n",
    "    - Temperatura Minima (C): Temperatura Mínima do Dia em Celsius\n",
    "    - Temperatura Maxima (C): Temperatura Máxima do Dia em Celsius\n",
    "    - Precipitacao (mm): Precipitação do Dia em Milímetros\n",
    "    - Final de Semana: Identificação se é fim de semana ou não\n",
    "    - Consumo de cerveja (litros): Quantidade de cerveja em livros\n",
    "\n",
    "\n",
    "Fonte: https://www.kaggle.com/datasets/dongeorge/beer-consumption-sao-paulo"
   ]
  },
  {
   "cell_type": "markdown",
   "id": "45d17c68-a4bd-4120-bd13-c95faed35736",
   "metadata": {},
   "source": [
    "## Carregamento de Dados"
   ]
  },
  {
   "cell_type": "code",
   "execution_count": 2,
   "id": "6d2a9cf0-ded1-4c93-b8ce-c078f45d9f8d",
   "metadata": {},
   "outputs": [],
   "source": [
    "df = pd.read_csv('data/consumo_cerveja.csv')"
   ]
  },
  {
   "cell_type": "code",
   "execution_count": 3,
   "id": "c34fb13b-5902-43de-8a05-d5e9f31384c5",
   "metadata": {},
   "outputs": [
    {
     "data": {
      "text/html": [
       "<div>\n",
       "<style scoped>\n",
       "    .dataframe tbody tr th:only-of-type {\n",
       "        vertical-align: middle;\n",
       "    }\n",
       "\n",
       "    .dataframe tbody tr th {\n",
       "        vertical-align: top;\n",
       "    }\n",
       "\n",
       "    .dataframe thead th {\n",
       "        text-align: right;\n",
       "    }\n",
       "</style>\n",
       "<table border=\"1\" class=\"dataframe\">\n",
       "  <thead>\n",
       "    <tr style=\"text-align: right;\">\n",
       "      <th></th>\n",
       "      <th>Data</th>\n",
       "      <th>Temperatura Media (C)</th>\n",
       "      <th>Temperatura Minima (C)</th>\n",
       "      <th>Temperatura Maxima (C)</th>\n",
       "      <th>Precipitacao (mm)</th>\n",
       "      <th>Final de Semana</th>\n",
       "      <th>Consumo de cerveja (litros)</th>\n",
       "    </tr>\n",
       "  </thead>\n",
       "  <tbody>\n",
       "    <tr>\n",
       "      <th>0</th>\n",
       "      <td>2015-01-01</td>\n",
       "      <td>27,3</td>\n",
       "      <td>23,9</td>\n",
       "      <td>32,5</td>\n",
       "      <td>0</td>\n",
       "      <td>0.0</td>\n",
       "      <td>25.461</td>\n",
       "    </tr>\n",
       "    <tr>\n",
       "      <th>1</th>\n",
       "      <td>2015-01-02</td>\n",
       "      <td>27,02</td>\n",
       "      <td>24,5</td>\n",
       "      <td>33,5</td>\n",
       "      <td>0</td>\n",
       "      <td>0.0</td>\n",
       "      <td>28.972</td>\n",
       "    </tr>\n",
       "    <tr>\n",
       "      <th>2</th>\n",
       "      <td>2015-01-03</td>\n",
       "      <td>24,82</td>\n",
       "      <td>22,4</td>\n",
       "      <td>29,9</td>\n",
       "      <td>0</td>\n",
       "      <td>1.0</td>\n",
       "      <td>30.814</td>\n",
       "    </tr>\n",
       "    <tr>\n",
       "      <th>3</th>\n",
       "      <td>2015-01-04</td>\n",
       "      <td>23,98</td>\n",
       "      <td>21,5</td>\n",
       "      <td>28,6</td>\n",
       "      <td>1,2</td>\n",
       "      <td>1.0</td>\n",
       "      <td>29.799</td>\n",
       "    </tr>\n",
       "    <tr>\n",
       "      <th>4</th>\n",
       "      <td>2015-01-05</td>\n",
       "      <td>23,82</td>\n",
       "      <td>21</td>\n",
       "      <td>28,3</td>\n",
       "      <td>0</td>\n",
       "      <td>0.0</td>\n",
       "      <td>28.900</td>\n",
       "    </tr>\n",
       "  </tbody>\n",
       "</table>\n",
       "</div>"
      ],
      "text/plain": [
       "         Data Temperatura Media (C) Temperatura Minima (C)  \\\n",
       "0  2015-01-01                  27,3                   23,9   \n",
       "1  2015-01-02                 27,02                   24,5   \n",
       "2  2015-01-03                 24,82                   22,4   \n",
       "3  2015-01-04                 23,98                   21,5   \n",
       "4  2015-01-05                 23,82                     21   \n",
       "\n",
       "  Temperatura Maxima (C) Precipitacao (mm)  Final de Semana  \\\n",
       "0                   32,5                 0              0.0   \n",
       "1                   33,5                 0              0.0   \n",
       "2                   29,9                 0              1.0   \n",
       "3                   28,6               1,2              1.0   \n",
       "4                   28,3                 0              0.0   \n",
       "\n",
       "   Consumo de cerveja (litros)  \n",
       "0                       25.461  \n",
       "1                       28.972  \n",
       "2                       30.814  \n",
       "3                       29.799  \n",
       "4                       28.900  "
      ]
     },
     "execution_count": 3,
     "metadata": {},
     "output_type": "execute_result"
    }
   ],
   "source": [
    "df.head()"
   ]
  },
  {
   "cell_type": "markdown",
   "id": "53aaaceb-09ac-4c17-b0ed-6c7baae29e99",
   "metadata": {},
   "source": [
    "## Limpeza Inicial de Dados"
   ]
  },
  {
   "cell_type": "code",
   "execution_count": 4,
   "id": "165c3047-b390-4cbb-b014-c468327b6935",
   "metadata": {},
   "outputs": [
    {
     "data": {
      "text/html": [
       "<div>\n",
       "<style scoped>\n",
       "    .dataframe tbody tr th:only-of-type {\n",
       "        vertical-align: middle;\n",
       "    }\n",
       "\n",
       "    .dataframe tbody tr th {\n",
       "        vertical-align: top;\n",
       "    }\n",
       "\n",
       "    .dataframe thead th {\n",
       "        text-align: right;\n",
       "    }\n",
       "</style>\n",
       "<table border=\"1\" class=\"dataframe\">\n",
       "  <thead>\n",
       "    <tr style=\"text-align: right;\">\n",
       "      <th></th>\n",
       "      <th>Data</th>\n",
       "      <th>Temperatura Media (C)</th>\n",
       "      <th>Temperatura Minima (C)</th>\n",
       "      <th>Temperatura Maxima (C)</th>\n",
       "      <th>Precipitacao (mm)</th>\n",
       "      <th>Final de Semana</th>\n",
       "      <th>Consumo de cerveja (litros)</th>\n",
       "    </tr>\n",
       "  </thead>\n",
       "  <tbody>\n",
       "    <tr>\n",
       "      <th>936</th>\n",
       "      <td>NaN</td>\n",
       "      <td>NaN</td>\n",
       "      <td>NaN</td>\n",
       "      <td>NaN</td>\n",
       "      <td>NaN</td>\n",
       "      <td>NaN</td>\n",
       "      <td>NaN</td>\n",
       "    </tr>\n",
       "    <tr>\n",
       "      <th>937</th>\n",
       "      <td>NaN</td>\n",
       "      <td>NaN</td>\n",
       "      <td>NaN</td>\n",
       "      <td>NaN</td>\n",
       "      <td>NaN</td>\n",
       "      <td>NaN</td>\n",
       "      <td>NaN</td>\n",
       "    </tr>\n",
       "    <tr>\n",
       "      <th>938</th>\n",
       "      <td>NaN</td>\n",
       "      <td>NaN</td>\n",
       "      <td>NaN</td>\n",
       "      <td>NaN</td>\n",
       "      <td>NaN</td>\n",
       "      <td>NaN</td>\n",
       "      <td>NaN</td>\n",
       "    </tr>\n",
       "    <tr>\n",
       "      <th>939</th>\n",
       "      <td>NaN</td>\n",
       "      <td>NaN</td>\n",
       "      <td>NaN</td>\n",
       "      <td>NaN</td>\n",
       "      <td>NaN</td>\n",
       "      <td>NaN</td>\n",
       "      <td>NaN</td>\n",
       "    </tr>\n",
       "    <tr>\n",
       "      <th>940</th>\n",
       "      <td>NaN</td>\n",
       "      <td>NaN</td>\n",
       "      <td>NaN</td>\n",
       "      <td>NaN</td>\n",
       "      <td>NaN</td>\n",
       "      <td>NaN</td>\n",
       "      <td>NaN</td>\n",
       "    </tr>\n",
       "  </tbody>\n",
       "</table>\n",
       "</div>"
      ],
      "text/plain": [
       "    Data Temperatura Media (C) Temperatura Minima (C) Temperatura Maxima (C)  \\\n",
       "936  NaN                   NaN                    NaN                    NaN   \n",
       "937  NaN                   NaN                    NaN                    NaN   \n",
       "938  NaN                   NaN                    NaN                    NaN   \n",
       "939  NaN                   NaN                    NaN                    NaN   \n",
       "940  NaN                   NaN                    NaN                    NaN   \n",
       "\n",
       "    Precipitacao (mm)  Final de Semana  Consumo de cerveja (litros)  \n",
       "936               NaN              NaN                          NaN  \n",
       "937               NaN              NaN                          NaN  \n",
       "938               NaN              NaN                          NaN  \n",
       "939               NaN              NaN                          NaN  \n",
       "940               NaN              NaN                          NaN  "
      ]
     },
     "execution_count": 4,
     "metadata": {},
     "output_type": "execute_result"
    }
   ],
   "source": [
    "df.tail()"
   ]
  },
  {
   "cell_type": "code",
   "execution_count": 5,
   "id": "6622caf7-a97e-4080-a464-7320dc349964",
   "metadata": {},
   "outputs": [],
   "source": [
    "# Remover dados nulos\n",
    "df = df[df.notna().any(axis=1)]"
   ]
  },
  {
   "cell_type": "code",
   "execution_count": 6,
   "id": "98dc4678-4afb-415f-a9d6-7ac9fc9fec9d",
   "metadata": {},
   "outputs": [
    {
     "data": {
      "text/html": [
       "<div>\n",
       "<style scoped>\n",
       "    .dataframe tbody tr th:only-of-type {\n",
       "        vertical-align: middle;\n",
       "    }\n",
       "\n",
       "    .dataframe tbody tr th {\n",
       "        vertical-align: top;\n",
       "    }\n",
       "\n",
       "    .dataframe thead th {\n",
       "        text-align: right;\n",
       "    }\n",
       "</style>\n",
       "<table border=\"1\" class=\"dataframe\">\n",
       "  <thead>\n",
       "    <tr style=\"text-align: right;\">\n",
       "      <th></th>\n",
       "      <th>Data</th>\n",
       "      <th>Temperatura Media (C)</th>\n",
       "      <th>Temperatura Minima (C)</th>\n",
       "      <th>Temperatura Maxima (C)</th>\n",
       "      <th>Precipitacao (mm)</th>\n",
       "      <th>Final de Semana</th>\n",
       "      <th>Consumo de cerveja (litros)</th>\n",
       "    </tr>\n",
       "  </thead>\n",
       "  <tbody>\n",
       "    <tr>\n",
       "      <th>360</th>\n",
       "      <td>2015-12-27</td>\n",
       "      <td>24</td>\n",
       "      <td>21,1</td>\n",
       "      <td>28,2</td>\n",
       "      <td>13,6</td>\n",
       "      <td>1.0</td>\n",
       "      <td>32.307</td>\n",
       "    </tr>\n",
       "    <tr>\n",
       "      <th>361</th>\n",
       "      <td>2015-12-28</td>\n",
       "      <td>22,64</td>\n",
       "      <td>21,1</td>\n",
       "      <td>26,7</td>\n",
       "      <td>0</td>\n",
       "      <td>0.0</td>\n",
       "      <td>26.095</td>\n",
       "    </tr>\n",
       "    <tr>\n",
       "      <th>362</th>\n",
       "      <td>2015-12-29</td>\n",
       "      <td>21,68</td>\n",
       "      <td>20,3</td>\n",
       "      <td>24,1</td>\n",
       "      <td>10,3</td>\n",
       "      <td>0.0</td>\n",
       "      <td>22.309</td>\n",
       "    </tr>\n",
       "    <tr>\n",
       "      <th>363</th>\n",
       "      <td>2015-12-30</td>\n",
       "      <td>21,38</td>\n",
       "      <td>19,3</td>\n",
       "      <td>22,4</td>\n",
       "      <td>6,3</td>\n",
       "      <td>0.0</td>\n",
       "      <td>20.467</td>\n",
       "    </tr>\n",
       "    <tr>\n",
       "      <th>364</th>\n",
       "      <td>2015-12-31</td>\n",
       "      <td>24,76</td>\n",
       "      <td>20,2</td>\n",
       "      <td>29</td>\n",
       "      <td>0</td>\n",
       "      <td>0.0</td>\n",
       "      <td>22.446</td>\n",
       "    </tr>\n",
       "  </tbody>\n",
       "</table>\n",
       "</div>"
      ],
      "text/plain": [
       "           Data Temperatura Media (C) Temperatura Minima (C)  \\\n",
       "360  2015-12-27                    24                   21,1   \n",
       "361  2015-12-28                 22,64                   21,1   \n",
       "362  2015-12-29                 21,68                   20,3   \n",
       "363  2015-12-30                 21,38                   19,3   \n",
       "364  2015-12-31                 24,76                   20,2   \n",
       "\n",
       "    Temperatura Maxima (C) Precipitacao (mm)  Final de Semana  \\\n",
       "360                   28,2              13,6              1.0   \n",
       "361                   26,7                 0              0.0   \n",
       "362                   24,1              10,3              0.0   \n",
       "363                   22,4               6,3              0.0   \n",
       "364                     29                 0              0.0   \n",
       "\n",
       "     Consumo de cerveja (litros)  \n",
       "360                       32.307  \n",
       "361                       26.095  \n",
       "362                       22.309  \n",
       "363                       20.467  \n",
       "364                       22.446  "
      ]
     },
     "execution_count": 6,
     "metadata": {},
     "output_type": "execute_result"
    }
   ],
   "source": [
    "df.tail()"
   ]
  },
  {
   "cell_type": "markdown",
   "id": "22a95210-7c4a-430c-8e56-9274e2eb5616",
   "metadata": {},
   "source": [
    "## Tratamentos Dados"
   ]
  },
  {
   "cell_type": "code",
   "execution_count": 7,
   "id": "83519981-d3dd-4f46-bae4-fc0abfc2466a",
   "metadata": {},
   "outputs": [
    {
     "data": {
      "text/plain": [
       "Index(['Data', 'Temperatura Media (C)', 'Temperatura Minima (C)',\n",
       "       'Temperatura Maxima (C)', 'Precipitacao (mm)', 'Final de Semana',\n",
       "       'Consumo de cerveja (litros)'],\n",
       "      dtype='object')"
      ]
     },
     "execution_count": 7,
     "metadata": {},
     "output_type": "execute_result"
    }
   ],
   "source": [
    "df.columns"
   ]
  },
  {
   "cell_type": "markdown",
   "id": "47ea481d-e004-42fe-bd33-109cc4c0aaf2",
   "metadata": {},
   "source": [
    "### Renomear colunas"
   ]
  },
  {
   "cell_type": "code",
   "execution_count": 8,
   "id": "d1e586ca-7490-4d70-bc6e-11d68c4dc2b4",
   "metadata": {},
   "outputs": [],
   "source": [
    "df = df.rename(columns={\n",
    "    \"Data\": \"data\",\n",
    "    \"Temperatura Media (C)\": \"temperatura_media_c\",\n",
    "    \"Temperatura Minima (C)\": \"temperatura_minima_c\",\n",
    "    \"Temperatura Maxima (C)\": \"temperatura_maxima_c\",\n",
    "    \"Precipitacao (mm)\": \"precipitacacao_mm\",\n",
    "    \"Final de Semana\": \"final_de_semana\",\n",
    "    \"Consumo de cerveja (litros)\": \"consumo_cerveja_litros\",\n",
    "})"
   ]
  },
  {
   "cell_type": "code",
   "execution_count": 9,
   "id": "25dd1933-ef32-44d0-a1ba-2d1db54bbde9",
   "metadata": {},
   "outputs": [
    {
     "data": {
      "text/plain": [
       "data                       object\n",
       "temperatura_media_c        object\n",
       "temperatura_minima_c       object\n",
       "temperatura_maxima_c       object\n",
       "precipitacacao_mm          object\n",
       "final_de_semana           float64\n",
       "consumo_cerveja_litros    float64\n",
       "dtype: object"
      ]
     },
     "execution_count": 9,
     "metadata": {},
     "output_type": "execute_result"
    }
   ],
   "source": [
    "df.dtypes"
   ]
  },
  {
   "cell_type": "markdown",
   "id": "572015c0-433f-4f1b-988a-7753374f83e6",
   "metadata": {},
   "source": [
    "### Converter Strings para Float"
   ]
  },
  {
   "cell_type": "code",
   "execution_count": 10,
   "id": "1c7f90f0-c7ef-4f95-bf49-26928df35f20",
   "metadata": {},
   "outputs": [
    {
     "data": {
      "text/html": [
       "<div>\n",
       "<style scoped>\n",
       "    .dataframe tbody tr th:only-of-type {\n",
       "        vertical-align: middle;\n",
       "    }\n",
       "\n",
       "    .dataframe tbody tr th {\n",
       "        vertical-align: top;\n",
       "    }\n",
       "\n",
       "    .dataframe thead th {\n",
       "        text-align: right;\n",
       "    }\n",
       "</style>\n",
       "<table border=\"1\" class=\"dataframe\">\n",
       "  <thead>\n",
       "    <tr style=\"text-align: right;\">\n",
       "      <th></th>\n",
       "      <th>data</th>\n",
       "      <th>temperatura_media_c</th>\n",
       "      <th>temperatura_minima_c</th>\n",
       "      <th>temperatura_maxima_c</th>\n",
       "      <th>precipitacacao_mm</th>\n",
       "      <th>final_de_semana</th>\n",
       "      <th>consumo_cerveja_litros</th>\n",
       "    </tr>\n",
       "  </thead>\n",
       "  <tbody>\n",
       "    <tr>\n",
       "      <th>0</th>\n",
       "      <td>2015-01-01</td>\n",
       "      <td>27,3</td>\n",
       "      <td>23,9</td>\n",
       "      <td>32,5</td>\n",
       "      <td>0</td>\n",
       "      <td>0.0</td>\n",
       "      <td>25.461</td>\n",
       "    </tr>\n",
       "    <tr>\n",
       "      <th>1</th>\n",
       "      <td>2015-01-02</td>\n",
       "      <td>27,02</td>\n",
       "      <td>24,5</td>\n",
       "      <td>33,5</td>\n",
       "      <td>0</td>\n",
       "      <td>0.0</td>\n",
       "      <td>28.972</td>\n",
       "    </tr>\n",
       "    <tr>\n",
       "      <th>2</th>\n",
       "      <td>2015-01-03</td>\n",
       "      <td>24,82</td>\n",
       "      <td>22,4</td>\n",
       "      <td>29,9</td>\n",
       "      <td>0</td>\n",
       "      <td>1.0</td>\n",
       "      <td>30.814</td>\n",
       "    </tr>\n",
       "    <tr>\n",
       "      <th>3</th>\n",
       "      <td>2015-01-04</td>\n",
       "      <td>23,98</td>\n",
       "      <td>21,5</td>\n",
       "      <td>28,6</td>\n",
       "      <td>1,2</td>\n",
       "      <td>1.0</td>\n",
       "      <td>29.799</td>\n",
       "    </tr>\n",
       "    <tr>\n",
       "      <th>4</th>\n",
       "      <td>2015-01-05</td>\n",
       "      <td>23,82</td>\n",
       "      <td>21</td>\n",
       "      <td>28,3</td>\n",
       "      <td>0</td>\n",
       "      <td>0.0</td>\n",
       "      <td>28.900</td>\n",
       "    </tr>\n",
       "  </tbody>\n",
       "</table>\n",
       "</div>"
      ],
      "text/plain": [
       "         data temperatura_media_c temperatura_minima_c temperatura_maxima_c  \\\n",
       "0  2015-01-01                27,3                 23,9                 32,5   \n",
       "1  2015-01-02               27,02                 24,5                 33,5   \n",
       "2  2015-01-03               24,82                 22,4                 29,9   \n",
       "3  2015-01-04               23,98                 21,5                 28,6   \n",
       "4  2015-01-05               23,82                   21                 28,3   \n",
       "\n",
       "  precipitacacao_mm  final_de_semana  consumo_cerveja_litros  \n",
       "0                 0              0.0                  25.461  \n",
       "1                 0              0.0                  28.972  \n",
       "2                 0              1.0                  30.814  \n",
       "3               1,2              1.0                  29.799  \n",
       "4                 0              0.0                  28.900  "
      ]
     },
     "execution_count": 10,
     "metadata": {},
     "output_type": "execute_result"
    }
   ],
   "source": [
    "df.head()"
   ]
  },
  {
   "cell_type": "code",
   "execution_count": 11,
   "id": "20ea9fe7-3acd-4970-b259-7cc926db6e88",
   "metadata": {},
   "outputs": [],
   "source": [
    "def substituir_virgula_por_ponto(x):\n",
    "    return x.replace(',', '.')\n",
    "\n",
    "df['temperatura_media_c'] = df['temperatura_media_c'].apply(substituir_virgula_por_ponto)\n",
    "df['temperatura_minima_c'] = df['temperatura_minima_c'].apply(substituir_virgula_por_ponto)\n",
    "df['temperatura_maxima_c'] = df['temperatura_maxima_c'].apply(substituir_virgula_por_ponto)\n",
    "df['precipitacacao_mm'] = df['precipitacacao_mm'].apply(substituir_virgula_por_ponto)\n",
    "\n",
    "df['temperatura_media_c'] = df['temperatura_media_c'].astype(float)\n",
    "df['temperatura_minima_c'] = df['temperatura_minima_c'].astype(float)\n",
    "df['temperatura_maxima_c'] = df['temperatura_maxima_c'].astype(float)\n",
    "df['precipitacacao_mm'] = df['precipitacacao_mm'].astype(float)"
   ]
  },
  {
   "cell_type": "code",
   "execution_count": 12,
   "id": "417c1019-1d01-4d86-ac69-baf9b4c891d6",
   "metadata": {},
   "outputs": [
    {
     "data": {
      "text/plain": [
       "data                       object\n",
       "temperatura_media_c       float64\n",
       "temperatura_minima_c      float64\n",
       "temperatura_maxima_c      float64\n",
       "precipitacacao_mm         float64\n",
       "final_de_semana           float64\n",
       "consumo_cerveja_litros    float64\n",
       "dtype: object"
      ]
     },
     "execution_count": 12,
     "metadata": {},
     "output_type": "execute_result"
    }
   ],
   "source": [
    "df.dtypes"
   ]
  },
  {
   "cell_type": "code",
   "execution_count": 13,
   "id": "53a55a8e-580e-4e4e-9401-9ab806f7555c",
   "metadata": {},
   "outputs": [
    {
     "data": {
      "text/html": [
       "<div>\n",
       "<style scoped>\n",
       "    .dataframe tbody tr th:only-of-type {\n",
       "        vertical-align: middle;\n",
       "    }\n",
       "\n",
       "    .dataframe tbody tr th {\n",
       "        vertical-align: top;\n",
       "    }\n",
       "\n",
       "    .dataframe thead th {\n",
       "        text-align: right;\n",
       "    }\n",
       "</style>\n",
       "<table border=\"1\" class=\"dataframe\">\n",
       "  <thead>\n",
       "    <tr style=\"text-align: right;\">\n",
       "      <th></th>\n",
       "      <th>data</th>\n",
       "      <th>temperatura_media_c</th>\n",
       "      <th>temperatura_minima_c</th>\n",
       "      <th>temperatura_maxima_c</th>\n",
       "      <th>precipitacacao_mm</th>\n",
       "      <th>final_de_semana</th>\n",
       "      <th>consumo_cerveja_litros</th>\n",
       "    </tr>\n",
       "  </thead>\n",
       "  <tbody>\n",
       "    <tr>\n",
       "      <th>0</th>\n",
       "      <td>2015-01-01</td>\n",
       "      <td>27.30</td>\n",
       "      <td>23.9</td>\n",
       "      <td>32.5</td>\n",
       "      <td>0.0</td>\n",
       "      <td>0.0</td>\n",
       "      <td>25.461</td>\n",
       "    </tr>\n",
       "    <tr>\n",
       "      <th>1</th>\n",
       "      <td>2015-01-02</td>\n",
       "      <td>27.02</td>\n",
       "      <td>24.5</td>\n",
       "      <td>33.5</td>\n",
       "      <td>0.0</td>\n",
       "      <td>0.0</td>\n",
       "      <td>28.972</td>\n",
       "    </tr>\n",
       "    <tr>\n",
       "      <th>2</th>\n",
       "      <td>2015-01-03</td>\n",
       "      <td>24.82</td>\n",
       "      <td>22.4</td>\n",
       "      <td>29.9</td>\n",
       "      <td>0.0</td>\n",
       "      <td>1.0</td>\n",
       "      <td>30.814</td>\n",
       "    </tr>\n",
       "    <tr>\n",
       "      <th>3</th>\n",
       "      <td>2015-01-04</td>\n",
       "      <td>23.98</td>\n",
       "      <td>21.5</td>\n",
       "      <td>28.6</td>\n",
       "      <td>1.2</td>\n",
       "      <td>1.0</td>\n",
       "      <td>29.799</td>\n",
       "    </tr>\n",
       "    <tr>\n",
       "      <th>4</th>\n",
       "      <td>2015-01-05</td>\n",
       "      <td>23.82</td>\n",
       "      <td>21.0</td>\n",
       "      <td>28.3</td>\n",
       "      <td>0.0</td>\n",
       "      <td>0.0</td>\n",
       "      <td>28.900</td>\n",
       "    </tr>\n",
       "  </tbody>\n",
       "</table>\n",
       "</div>"
      ],
      "text/plain": [
       "         data  temperatura_media_c  temperatura_minima_c  \\\n",
       "0  2015-01-01                27.30                  23.9   \n",
       "1  2015-01-02                27.02                  24.5   \n",
       "2  2015-01-03                24.82                  22.4   \n",
       "3  2015-01-04                23.98                  21.5   \n",
       "4  2015-01-05                23.82                  21.0   \n",
       "\n",
       "   temperatura_maxima_c  precipitacacao_mm  final_de_semana  \\\n",
       "0                  32.5                0.0              0.0   \n",
       "1                  33.5                0.0              0.0   \n",
       "2                  29.9                0.0              1.0   \n",
       "3                  28.6                1.2              1.0   \n",
       "4                  28.3                0.0              0.0   \n",
       "\n",
       "   consumo_cerveja_litros  \n",
       "0                  25.461  \n",
       "1                  28.972  \n",
       "2                  30.814  \n",
       "3                  29.799  \n",
       "4                  28.900  "
      ]
     },
     "execution_count": 13,
     "metadata": {},
     "output_type": "execute_result"
    }
   ],
   "source": [
    "df.head()"
   ]
  },
  {
   "cell_type": "markdown",
   "id": "d99a5733-3138-4b3b-877d-57b7ab53ca3b",
   "metadata": {},
   "source": [
    "## Visualização de Varáveis"
   ]
  },
  {
   "cell_type": "code",
   "execution_count": 14,
   "id": "2d841179-1add-4fc2-841f-00c8edcd558f",
   "metadata": {},
   "outputs": [
    {
     "data": {
      "text/plain": [
       "Text(0.5, 1.0, 'Temperatura Média Ambiente vs Consumo de Cerveja')"
      ]
     },
     "execution_count": 14,
     "metadata": {},
     "output_type": "execute_result"
    },
    {
     "data": {
      "image/png": "[encoded data removed]",
      "text/plain": [
       "<Figure size 432x288 with 1 Axes>"
      ]
     },
     "metadata": {
      "needs_background": "light"
     },
     "output_type": "display_data"
    }
   ],
   "source": [
    "ax = sns.regplot(data=df, x='temperatura_media_c', y='consumo_cerveja_litros', color=\"green\")\n",
    "\n",
    "ax.set_title(\"Temperatura Média Ambiente vs Consumo de Cerveja\")"
   ]
  },
  {
   "cell_type": "code",
   "execution_count": 15,
   "id": "a471ddd3-9ee8-470f-9f96-157530632927",
   "metadata": {},
   "outputs": [
    {
     "data": {
      "text/plain": [
       "Text(0.5, 1.0, 'Temperatura Mínima Ambiente vs Consumo de Cerveja')"
      ]
     },
     "execution_count": 15,
     "metadata": {},
     "output_type": "execute_result"
    },
    {
     "data": {
      "image/png": "[encoded data removed]",
      "text/plain": [
       "<Figure size 432x288 with 1 Axes>"
      ]
     },
     "metadata": {
      "needs_background": "light"
     },
     "output_type": "display_data"
    }
   ],
   "source": [
    "ax = sns.regplot(data=df, x='temperatura_minima_c', y='consumo_cerveja_litros', color=\"blue\")\n",
    "\n",
    "ax.set_title(\"Temperatura Mínima Ambiente vs Consumo de Cerveja\")"
   ]
  },
  {
   "cell_type": "code",
   "execution_count": 16,
   "id": "47205f87-e34b-46ae-8833-54f327d6ff89",
   "metadata": {},
   "outputs": [
    {
     "data": {
      "text/plain": [
       "Text(0.5, 1.0, 'Temperatura Máxima Ambiente vs Consumo de Cerveja')"
      ]
     },
     "execution_count": 16,
     "metadata": {},
     "output_type": "execute_result"
    },
    {
     "data": {
      "image/png": "[encoded data removed]",
      "text/plain": [
       "<Figure size 432x288 with 1 Axes>"
      ]
     },
     "metadata": {
      "needs_background": "light"
     },
     "output_type": "display_data"
    }
   ],
   "source": [
    "ax = sns.regplot(data=df, x='temperatura_maxima_c', y='consumo_cerveja_litros', color=\"red\")\n",
    "\n",
    "ax.set_title(\"Temperatura Máxima Ambiente vs Consumo de Cerveja\")"
   ]
  },
  {
   "cell_type": "code",
   "execution_count": 17,
   "id": "9a4261de-e767-414e-abc2-86493a00821d",
   "metadata": {},
   "outputs": [
    {
     "data": {
      "text/plain": [
       "Text(0.5, 1.0, 'Precipitação (mm) vs Consumo de Cerveja')"
      ]
     },
     "execution_count": 17,
     "metadata": {},
     "output_type": "execute_result"
    },
    {
     "data": {
      "image/png": "[encoded data removed]",
      "text/plain": [
       "<Figure size 432x288 with 1 Axes>"
      ]
     },
     "metadata": {
      "needs_background": "light"
     },
     "output_type": "display_data"
    }
   ],
   "source": [
    "ax = sns.regplot(data=df, x='precipitacacao_mm', y='consumo_cerveja_litros', color=\"#0bc\")\n",
    "\n",
    "ax.set_title(\"Precipitação (mm) vs Consumo de Cerveja\")"
   ]
  },
  {
   "cell_type": "code",
   "execution_count": 18,
   "id": "9d230eb0-4af5-415f-ab16-8097d349659e",
   "metadata": {},
   "outputs": [
    {
     "data": {
      "text/plain": [
       "Text(0.5, 1.0, 'Fim de Semana vs Consumo de Cerveja')"
      ]
     },
     "execution_count": 18,
     "metadata": {},
     "output_type": "execute_result"
    },
    {
     "data": {
      "image/png": "[encoded data removed]",
      "text/plain": [
       "<Figure size 360x360 with 1 Axes>"
      ]
     },
     "metadata": {
      "needs_background": "light"
     },
     "output_type": "display_data"
    }
   ],
   "source": [
    "g = sns.catplot(data=df, x='final_de_semana', y='consumo_cerveja_litros', color=\"#0bc\")\n",
    "\n",
    "axes = g.axes.flatten()\n",
    "axes[0].set_title(\"Fim de Semana vs Consumo de Cerveja\")"
   ]
  },
  {
   "cell_type": "code",
   "execution_count": 19,
   "id": "51a1e445-830a-4a59-b93d-8c14b367184b",
   "metadata": {},
   "outputs": [
    {
     "data": {
      "image/png": "[encoded data removed]",
      "text/plain": [
       "<Figure size 432x288 with 1 Axes>"
      ]
     },
     "metadata": {
      "needs_background": "light"
     },
     "output_type": "display_data"
    }
   ],
   "source": [
    "consumo_por_dia = {\n",
    "    'dia_de_semana': df[df['final_de_semana'] == 0]['consumo_cerveja_litros'].sum()/5,\n",
    "    'dia_de_fim_de_semana': df[df['final_de_semana'] == 1]['consumo_cerveja_litros'].sum()/2,\n",
    "}\n",
    "\n",
    "ax = pd.Series(consumo_por_dia).plot.bar()\n",
    "\n",
    "\n",
    "ax.set_title(\"Consumo de Cerveja Diário Durante a Semana e Fim de Semana\")\n",
    "ax.set_xticklabels(labels=consumo_por_dia.keys(),rotation=0);"
   ]
  },
  {
   "cell_type": "markdown",
   "id": "01aa32df-6707-4e3b-8980-18aec16f92e9",
   "metadata": {},
   "source": [
    "## Machine Learning"
   ]
  },
  {
   "cell_type": "code",
   "execution_count": 20,
   "id": "205a738a-1e08-48c7-8b05-3a2005df0b3e",
   "metadata": {},
   "outputs": [
    {
     "data": {
      "text/html": [
       "<div>\n",
       "<style scoped>\n",
       "    .dataframe tbody tr th:only-of-type {\n",
       "        vertical-align: middle;\n",
       "    }\n",
       "\n",
       "    .dataframe tbody tr th {\n",
       "        vertical-align: top;\n",
       "    }\n",
       "\n",
       "    .dataframe thead th {\n",
       "        text-align: right;\n",
       "    }\n",
       "</style>\n",
       "<table border=\"1\" class=\"dataframe\">\n",
       "  <thead>\n",
       "    <tr style=\"text-align: right;\">\n",
       "      <th></th>\n",
       "      <th>temperatura_media_c</th>\n",
       "      <th>temperatura_minima_c</th>\n",
       "      <th>temperatura_maxima_c</th>\n",
       "      <th>precipitacacao_mm</th>\n",
       "      <th>final_de_semana</th>\n",
       "      <th>consumo_cerveja_litros</th>\n",
       "    </tr>\n",
       "  </thead>\n",
       "  <tbody>\n",
       "    <tr>\n",
       "      <th>0</th>\n",
       "      <td>27.30</td>\n",
       "      <td>23.9</td>\n",
       "      <td>32.5</td>\n",
       "      <td>0.0</td>\n",
       "      <td>0.0</td>\n",
       "      <td>25.461</td>\n",
       "    </tr>\n",
       "    <tr>\n",
       "      <th>1</th>\n",
       "      <td>27.02</td>\n",
       "      <td>24.5</td>\n",
       "      <td>33.5</td>\n",
       "      <td>0.0</td>\n",
       "      <td>0.0</td>\n",
       "      <td>28.972</td>\n",
       "    </tr>\n",
       "    <tr>\n",
       "      <th>2</th>\n",
       "      <td>24.82</td>\n",
       "      <td>22.4</td>\n",
       "      <td>29.9</td>\n",
       "      <td>0.0</td>\n",
       "      <td>1.0</td>\n",
       "      <td>30.814</td>\n",
       "    </tr>\n",
       "    <tr>\n",
       "      <th>3</th>\n",
       "      <td>23.98</td>\n",
       "      <td>21.5</td>\n",
       "      <td>28.6</td>\n",
       "      <td>1.2</td>\n",
       "      <td>1.0</td>\n",
       "      <td>29.799</td>\n",
       "    </tr>\n",
       "    <tr>\n",
       "      <th>4</th>\n",
       "      <td>23.82</td>\n",
       "      <td>21.0</td>\n",
       "      <td>28.3</td>\n",
       "      <td>0.0</td>\n",
       "      <td>0.0</td>\n",
       "      <td>28.900</td>\n",
       "    </tr>\n",
       "  </tbody>\n",
       "</table>\n",
       "</div>"
      ],
      "text/plain": [
       "   temperatura_media_c  temperatura_minima_c  temperatura_maxima_c  \\\n",
       "0                27.30                  23.9                  32.5   \n",
       "1                27.02                  24.5                  33.5   \n",
       "2                24.82                  22.4                  29.9   \n",
       "3                23.98                  21.5                  28.6   \n",
       "4                23.82                  21.0                  28.3   \n",
       "\n",
       "   precipitacacao_mm  final_de_semana  consumo_cerveja_litros  \n",
       "0                0.0              0.0                  25.461  \n",
       "1                0.0              0.0                  28.972  \n",
       "2                0.0              1.0                  30.814  \n",
       "3                1.2              1.0                  29.799  \n",
       "4                0.0              0.0                  28.900  "
      ]
     },
     "execution_count": 20,
     "metadata": {},
     "output_type": "execute_result"
    }
   ],
   "source": [
    "dataset = df.drop('data', axis=1)\n",
    "dataset.head()"
   ]
  },
  {
   "cell_type": "markdown",
   "id": "6640f2e8-e0c6-4ae2-92c2-e81881da117d",
   "metadata": {},
   "source": [
    "### Separação Conjunto Treinamento e Teste"
   ]
  },
  {
   "cell_type": "code",
   "execution_count": 21,
   "id": "aea179df-74e1-4370-9658-f0d137aa5749",
   "metadata": {},
   "outputs": [
    {
     "data": {
      "text/html": [
       "<div>\n",
       "<style scoped>\n",
       "    .dataframe tbody tr th:only-of-type {\n",
       "        vertical-align: middle;\n",
       "    }\n",
       "\n",
       "    .dataframe tbody tr th {\n",
       "        vertical-align: top;\n",
       "    }\n",
       "\n",
       "    .dataframe thead th {\n",
       "        text-align: right;\n",
       "    }\n",
       "</style>\n",
       "<table border=\"1\" class=\"dataframe\">\n",
       "  <thead>\n",
       "    <tr style=\"text-align: right;\">\n",
       "      <th></th>\n",
       "      <th>temperatura_media_c</th>\n",
       "      <th>temperatura_minima_c</th>\n",
       "      <th>temperatura_maxima_c</th>\n",
       "      <th>precipitacacao_mm</th>\n",
       "      <th>final_de_semana</th>\n",
       "    </tr>\n",
       "  </thead>\n",
       "  <tbody>\n",
       "    <tr>\n",
       "      <th>0</th>\n",
       "      <td>27.30</td>\n",
       "      <td>23.9</td>\n",
       "      <td>32.5</td>\n",
       "      <td>0.0</td>\n",
       "      <td>0.0</td>\n",
       "    </tr>\n",
       "    <tr>\n",
       "      <th>1</th>\n",
       "      <td>27.02</td>\n",
       "      <td>24.5</td>\n",
       "      <td>33.5</td>\n",
       "      <td>0.0</td>\n",
       "      <td>0.0</td>\n",
       "    </tr>\n",
       "    <tr>\n",
       "      <th>2</th>\n",
       "      <td>24.82</td>\n",
       "      <td>22.4</td>\n",
       "      <td>29.9</td>\n",
       "      <td>0.0</td>\n",
       "      <td>1.0</td>\n",
       "    </tr>\n",
       "    <tr>\n",
       "      <th>3</th>\n",
       "      <td>23.98</td>\n",
       "      <td>21.5</td>\n",
       "      <td>28.6</td>\n",
       "      <td>1.2</td>\n",
       "      <td>1.0</td>\n",
       "    </tr>\n",
       "    <tr>\n",
       "      <th>4</th>\n",
       "      <td>23.82</td>\n",
       "      <td>21.0</td>\n",
       "      <td>28.3</td>\n",
       "      <td>0.0</td>\n",
       "      <td>0.0</td>\n",
       "    </tr>\n",
       "  </tbody>\n",
       "</table>\n",
       "</div>"
      ],
      "text/plain": [
       "   temperatura_media_c  temperatura_minima_c  temperatura_maxima_c  \\\n",
       "0                27.30                  23.9                  32.5   \n",
       "1                27.02                  24.5                  33.5   \n",
       "2                24.82                  22.4                  29.9   \n",
       "3                23.98                  21.5                  28.6   \n",
       "4                23.82                  21.0                  28.3   \n",
       "\n",
       "   precipitacacao_mm  final_de_semana  \n",
       "0                0.0              0.0  \n",
       "1                0.0              0.0  \n",
       "2                0.0              1.0  \n",
       "3                1.2              1.0  \n",
       "4                0.0              0.0  "
      ]
     },
     "execution_count": 21,
     "metadata": {},
     "output_type": "execute_result"
    }
   ],
   "source": [
    "X = dataset.drop('consumo_cerveja_litros', axis=1)\n",
    "X.head()"
   ]
  },
  {
   "cell_type": "code",
   "execution_count": 22,
   "id": "ca8ad50f-b97d-41db-a44f-c5cb37851e0c",
   "metadata": {},
   "outputs": [
    {
     "data": {
      "text/plain": [
       "0    25.461\n",
       "1    28.972\n",
       "2    30.814\n",
       "3    29.799\n",
       "4    28.900\n",
       "Name: consumo_cerveja_litros, dtype: float64"
      ]
     },
     "execution_count": 22,
     "metadata": {},
     "output_type": "execute_result"
    }
   ],
   "source": [
    "y = dataset['consumo_cerveja_litros']\n",
    "y.head()"
   ]
  },
  {
   "cell_type": "code",
   "execution_count": 23,
   "id": "63fdb3bd-ae79-4405-ac36-bf2bfd958de4",
   "metadata": {},
   "outputs": [],
   "source": [
    "X_train, X_test, y_train, y_test = train_test_split(X, y, test_size=0.3, random_state=42)"
   ]
  },
  {
   "cell_type": "code",
   "execution_count": 24,
   "id": "250cc4aa-9d52-4cde-83c9-b8ce65ad0f65",
   "metadata": {},
   "outputs": [
    {
     "data": {
      "text/plain": [
       "(255, 5)"
      ]
     },
     "execution_count": 24,
     "metadata": {},
     "output_type": "execute_result"
    }
   ],
   "source": [
    "X_train.shape"
   ]
  },
  {
   "cell_type": "code",
   "execution_count": 25,
   "id": "4a7c24f1-2d9f-4f70-a5e5-0fc7dcd322c2",
   "metadata": {},
   "outputs": [
    {
     "data": {
      "text/plain": [
       "(110, 5)"
      ]
     },
     "execution_count": 25,
     "metadata": {},
     "output_type": "execute_result"
    }
   ],
   "source": [
    "X_test.shape"
   ]
  },
  {
   "cell_type": "code",
   "execution_count": 27,
   "id": "260dd2da-db0a-4a42-90fc-138e75e867c2",
   "metadata": {},
   "outputs": [
    {
     "data": {
      "text/html": [
       "<div>\n",
       "<style scoped>\n",
       "    .dataframe tbody tr th:only-of-type {\n",
       "        vertical-align: middle;\n",
       "    }\n",
       "\n",
       "    .dataframe tbody tr th {\n",
       "        vertical-align: top;\n",
       "    }\n",
       "\n",
       "    .dataframe thead th {\n",
       "        text-align: right;\n",
       "    }\n",
       "</style>\n",
       "<table border=\"1\" class=\"dataframe\">\n",
       "  <thead>\n",
       "    <tr style=\"text-align: right;\">\n",
       "      <th></th>\n",
       "      <th>temperatura_media_c</th>\n",
       "      <th>temperatura_minima_c</th>\n",
       "      <th>temperatura_maxima_c</th>\n",
       "      <th>precipitacacao_mm</th>\n",
       "      <th>final_de_semana</th>\n",
       "    </tr>\n",
       "  </thead>\n",
       "  <tbody>\n",
       "    <tr>\n",
       "      <th>268</th>\n",
       "      <td>20.58</td>\n",
       "      <td>18.2</td>\n",
       "      <td>24.9</td>\n",
       "      <td>28.6</td>\n",
       "      <td>1.0</td>\n",
       "    </tr>\n",
       "    <tr>\n",
       "      <th>231</th>\n",
       "      <td>16.20</td>\n",
       "      <td>14.8</td>\n",
       "      <td>19.6</td>\n",
       "      <td>0.0</td>\n",
       "      <td>0.0</td>\n",
       "    </tr>\n",
       "    <tr>\n",
       "      <th>157</th>\n",
       "      <td>20.62</td>\n",
       "      <td>15.9</td>\n",
       "      <td>26.2</td>\n",
       "      <td>0.0</td>\n",
       "      <td>1.0</td>\n",
       "    </tr>\n",
       "    <tr>\n",
       "      <th>19</th>\n",
       "      <td>27.68</td>\n",
       "      <td>23.3</td>\n",
       "      <td>35.6</td>\n",
       "      <td>0.6</td>\n",
       "      <td>0.0</td>\n",
       "    </tr>\n",
       "    <tr>\n",
       "      <th>147</th>\n",
       "      <td>18.56</td>\n",
       "      <td>16.8</td>\n",
       "      <td>23.2</td>\n",
       "      <td>1.8</td>\n",
       "      <td>0.0</td>\n",
       "    </tr>\n",
       "  </tbody>\n",
       "</table>\n",
       "</div>"
      ],
      "text/plain": [
       "     temperatura_media_c  temperatura_minima_c  temperatura_maxima_c  \\\n",
       "268                20.58                  18.2                  24.9   \n",
       "231                16.20                  14.8                  19.6   \n",
       "157                20.62                  15.9                  26.2   \n",
       "19                 27.68                  23.3                  35.6   \n",
       "147                18.56                  16.8                  23.2   \n",
       "\n",
       "     precipitacacao_mm  final_de_semana  \n",
       "268               28.6              1.0  \n",
       "231                0.0              0.0  \n",
       "157                0.0              1.0  \n",
       "19                 0.6              0.0  \n",
       "147                1.8              0.0  "
      ]
     },
     "execution_count": 27,
     "metadata": {},
     "output_type": "execute_result"
    }
   ],
   "source": [
    "X_train.head()"
   ]
  },
  {
   "cell_type": "markdown",
   "id": "fb61c6c2-b6c7-464a-82cf-97a1806a9647",
   "metadata": {},
   "source": [
    "### Preprocessamento"
   ]
  },
  {
   "cell_type": "code",
   "execution_count": 28,
   "id": "e3156d5b-4eb2-405d-a4fd-f4722577f883",
   "metadata": {},
   "outputs": [],
   "source": [
    "scaler = StandardScaler()"
   ]
  },
  {
   "cell_type": "code",
   "execution_count": 29,
   "id": "c7902887-bb97-4a21-b285-a4dc8d372ef3",
   "metadata": {},
   "outputs": [
    {
     "data": {
      "text/html": [
       "<style>#sk-container-id-1 {color: black;background-color: white;}#sk-container-id-1 pre{padding: 0;}#sk-container-id-1 div.sk-toggleable {background-color: white;}#sk-container-id-1 label.sk-toggleable__label {cursor: pointer;display: block;width: 100%;margin-bottom: 0;padding: 0.3em;box-sizing: border-box;text-align: center;}#sk-container-id-1 label.sk-toggleable__label-arrow:before {content: \"▸\";float: left;margin-right: 0.25em;color: #696969;}#sk-container-id-1 label.sk-toggleable__label-arrow:hover:before {color: black;}#sk-container-id-1 div.sk-estimator:hover label.sk-toggleable__label-arrow:before {color: black;}#sk-container-id-1 div.sk-toggleable__content {max-height: 0;max-width: 0;overflow: hidden;text-align: left;background-color: #f0f8ff;}#sk-container-id-1 div.sk-toggleable__content pre {margin: 0.2em;color: black;border-radius: 0.25em;background-color: #f0f8ff;}#sk-container-id-1 input.sk-toggleable__control:checked~div.sk-toggleable__content {max-height: 200px;max-width: 100%;overflow: auto;}#sk-container-id-1 input.sk-toggleable__control:checked~label.sk-toggleable__label-arrow:before {content: \"▾\";}#sk-container-id-1 div.sk-estimator input.sk-toggleable__control:checked~label.sk-toggleable__label {background-color: #d4ebff;}#sk-container-id-1 div.sk-label input.sk-toggleable__control:checked~label.sk-toggleable__label {background-color: #d4ebff;}#sk-container-id-1 input.sk-hidden--visually {border: 0;clip: rect(1px 1px 1px 1px);clip: rect(1px, 1px, 1px, 1px);height: 1px;margin: -1px;overflow: hidden;padding: 0;position: absolute;width: 1px;}#sk-container-id-1 div.sk-estimator {font-family: monospace;background-color: #f0f8ff;border: 1px dotted black;border-radius: 0.25em;box-sizing: border-box;margin-bottom: 0.5em;}#sk-container-id-1 div.sk-estimator:hover {background-color: #d4ebff;}#sk-container-id-1 div.sk-parallel-item::after {content: \"\";width: 100%;border-bottom: 1px solid gray;flex-grow: 1;}#sk-container-id-1 div.sk-label:hover label.sk-toggleable__label {background-color: #d4ebff;}#sk-container-id-1 div.sk-serial::before {content: \"\";position: absolute;border-left: 1px solid gray;box-sizing: border-box;top: 0;bottom: 0;left: 50%;z-index: 0;}#sk-container-id-1 div.sk-serial {display: flex;flex-direction: column;align-items: center;background-color: white;padding-right: 0.2em;padding-left: 0.2em;position: relative;}#sk-container-id-1 div.sk-item {position: relative;z-index: 1;}#sk-container-id-1 div.sk-parallel {display: flex;align-items: stretch;justify-content: center;background-color: white;position: relative;}#sk-container-id-1 div.sk-item::before, #sk-container-id-1 div.sk-parallel-item::before {content: \"\";position: absolute;border-left: 1px solid gray;box-sizing: border-box;top: 0;bottom: 0;left: 50%;z-index: -1;}#sk-container-id-1 div.sk-parallel-item {display: flex;flex-direction: column;z-index: 1;position: relative;background-color: white;}#sk-container-id-1 div.sk-parallel-item:first-child::after {align-self: flex-end;width: 50%;}#sk-container-id-1 div.sk-parallel-item:last-child::after {align-self: flex-start;width: 50%;}#sk-container-id-1 div.sk-parallel-item:only-child::after {width: 0;}#sk-container-id-1 div.sk-dashed-wrapped {border: 1px dashed gray;margin: 0 0.4em 0.5em 0.4em;box-sizing: border-box;padding-bottom: 0.4em;background-color: white;}#sk-container-id-1 div.sk-label label {font-family: monospace;font-weight: bold;display: inline-block;line-height: 1.2em;}#sk-container-id-1 div.sk-label-container {text-align: center;}#sk-container-id-1 div.sk-container {/* jupyter's `normalize.less` sets `[hidden] { display: none; }` but bootstrap.min.css set `[hidden] { display: none !important; }` so we also need the `!important` here to be able to override the default hidden behavior on the sphinx rendered scikit-learn.org. See: https://github.com/scikit-learn/scikit-learn/issues/21755 */display: inline-block !important;position: relative;}#sk-container-id-1 div.sk-text-repr-fallback {display: none;}</style><div id=\"sk-container-id-1\" class=\"sk-top-container\"><div class=\"sk-text-repr-fallback\"><pre>StandardScaler()</pre><b>In a Jupyter environment, please rerun this cell to show the HTML representation or trust the notebook. <br />On GitHub, the HTML representation is unable to render, please try loading this page with nbviewer.org.</b></div><div class=\"sk-container\" hidden><div class=\"sk-item\"><div class=\"sk-estimator sk-toggleable\"><input class=\"sk-toggleable__control sk-hidden--visually\" id=\"sk-estimator-id-1\" type=\"checkbox\" checked><label for=\"sk-estimator-id-1\" class=\"sk-toggleable__label sk-toggleable__label-arrow\">StandardScaler</label><div class=\"sk-toggleable__content\"><pre>StandardScaler()</pre></div></div></div></div></div>"
      ],
      "text/plain": [
       "StandardScaler()"
      ]
     },
     "execution_count": 29,
     "metadata": {},
     "output_type": "execute_result"
    }
   ],
   "source": [
    "scaler.fit(X_train)"
   ]
  },
  {
   "cell_type": "code",
   "execution_count": 30,
   "id": "7256b072-4e43-4f64-921f-e6d50bba6738",
   "metadata": {},
   "outputs": [],
   "source": [
    "X_train_scaled = scaler.transform(X_train)"
   ]
  },
  {
   "cell_type": "code",
   "execution_count": 31,
   "id": "10ae3be9-dadf-4da0-ad2d-23d5e4378203",
   "metadata": {},
   "outputs": [
    {
     "data": {
      "text/html": [
       "<div>\n",
       "<style scoped>\n",
       "    .dataframe tbody tr th:only-of-type {\n",
       "        vertical-align: middle;\n",
       "    }\n",
       "\n",
       "    .dataframe tbody tr th {\n",
       "        vertical-align: top;\n",
       "    }\n",
       "\n",
       "    .dataframe thead th {\n",
       "        text-align: right;\n",
       "    }\n",
       "</style>\n",
       "<table border=\"1\" class=\"dataframe\">\n",
       "  <thead>\n",
       "    <tr style=\"text-align: right;\">\n",
       "      <th></th>\n",
       "      <th>0</th>\n",
       "      <th>1</th>\n",
       "      <th>2</th>\n",
       "      <th>3</th>\n",
       "      <th>4</th>\n",
       "    </tr>\n",
       "  </thead>\n",
       "  <tbody>\n",
       "    <tr>\n",
       "      <th>0</th>\n",
       "      <td>-0.144948</td>\n",
       "      <td>0.322239</td>\n",
       "      <td>-0.351276</td>\n",
       "      <td>2.058366</td>\n",
       "      <td>1.692228</td>\n",
       "    </tr>\n",
       "    <tr>\n",
       "      <th>1</th>\n",
       "      <td>-1.519943</td>\n",
       "      <td>-0.855590</td>\n",
       "      <td>-1.581516</td>\n",
       "      <td>-0.420934</td>\n",
       "      <td>-0.590937</td>\n",
       "    </tr>\n",
       "    <tr>\n",
       "      <th>2</th>\n",
       "      <td>-0.132391</td>\n",
       "      <td>-0.474528</td>\n",
       "      <td>-0.049519</td>\n",
       "      <td>-0.420934</td>\n",
       "      <td>1.692228</td>\n",
       "    </tr>\n",
       "    <tr>\n",
       "      <th>3</th>\n",
       "      <td>2.083927</td>\n",
       "      <td>2.088981</td>\n",
       "      <td>2.132416</td>\n",
       "      <td>-0.368920</td>\n",
       "      <td>-0.590937</td>\n",
       "    </tr>\n",
       "    <tr>\n",
       "      <th>4</th>\n",
       "      <td>-0.779078</td>\n",
       "      <td>-0.162750</td>\n",
       "      <td>-0.745881</td>\n",
       "      <td>-0.264894</td>\n",
       "      <td>-0.590937</td>\n",
       "    </tr>\n",
       "  </tbody>\n",
       "</table>\n",
       "</div>"
      ],
      "text/plain": [
       "          0         1         2         3         4\n",
       "0 -0.144948  0.322239 -0.351276  2.058366  1.692228\n",
       "1 -1.519943 -0.855590 -1.581516 -0.420934 -0.590937\n",
       "2 -0.132391 -0.474528 -0.049519 -0.420934  1.692228\n",
       "3  2.083927  2.088981  2.132416 -0.368920 -0.590937\n",
       "4 -0.779078 -0.162750 -0.745881 -0.264894 -0.590937"
      ]
     },
     "execution_count": 31,
     "metadata": {},
     "output_type": "execute_result"
    }
   ],
   "source": [
    "pd.DataFrame(X_train_scaled).head()"
   ]
  },
  {
   "cell_type": "markdown",
   "id": "ee70060f-801f-49f0-ab98-24939f74f903",
   "metadata": {},
   "source": [
    "### Aprendizado"
   ]
  },
  {
   "cell_type": "code",
   "execution_count": 32,
   "id": "c92581b9-d3b7-436a-9b55-a3ebd2b323a8",
   "metadata": {},
   "outputs": [],
   "source": [
    "reg = LinearRegression()"
   ]
  },
  {
   "cell_type": "code",
   "execution_count": 33,
   "id": "64fff208-0d34-416a-a922-2624c3fd09ce",
   "metadata": {},
   "outputs": [
    {
     "data": {
      "text/html": [
       "<style>#sk-container-id-2 {color: black;background-color: white;}#sk-container-id-2 pre{padding: 0;}#sk-container-id-2 div.sk-toggleable {background-color: white;}#sk-container-id-2 label.sk-toggleable__label {cursor: pointer;display: block;width: 100%;margin-bottom: 0;padding: 0.3em;box-sizing: border-box;text-align: center;}#sk-container-id-2 label.sk-toggleable__label-arrow:before {content: \"▸\";float: left;margin-right: 0.25em;color: #696969;}#sk-container-id-2 label.sk-toggleable__label-arrow:hover:before {color: black;}#sk-container-id-2 div.sk-estimator:hover label.sk-toggleable__label-arrow:before {color: black;}#sk-container-id-2 div.sk-toggleable__content {max-height: 0;max-width: 0;overflow: hidden;text-align: left;background-color: #f0f8ff;}#sk-container-id-2 div.sk-toggleable__content pre {margin: 0.2em;color: black;border-radius: 0.25em;background-color: #f0f8ff;}#sk-container-id-2 input.sk-toggleable__control:checked~div.sk-toggleable__content {max-height: 200px;max-width: 100%;overflow: auto;}#sk-container-id-2 input.sk-toggleable__control:checked~label.sk-toggleable__label-arrow:before {content: \"▾\";}#sk-container-id-2 div.sk-estimator input.sk-toggleable__control:checked~label.sk-toggleable__label {background-color: #d4ebff;}#sk-container-id-2 div.sk-label input.sk-toggleable__control:checked~label.sk-toggleable__label {background-color: #d4ebff;}#sk-container-id-2 input.sk-hidden--visually {border: 0;clip: rect(1px 1px 1px 1px);clip: rect(1px, 1px, 1px, 1px);height: 1px;margin: -1px;overflow: hidden;padding: 0;position: absolute;width: 1px;}#sk-container-id-2 div.sk-estimator {font-family: monospace;background-color: #f0f8ff;border: 1px dotted black;border-radius: 0.25em;box-sizing: border-box;margin-bottom: 0.5em;}#sk-container-id-2 div.sk-estimator:hover {background-color: #d4ebff;}#sk-container-id-2 div.sk-parallel-item::after {content: \"\";width: 100%;border-bottom: 1px solid gray;flex-grow: 1;}#sk-container-id-2 div.sk-label:hover label.sk-toggleable__label {background-color: #d4ebff;}#sk-container-id-2 div.sk-serial::before {content: \"\";position: absolute;border-left: 1px solid gray;box-sizing: border-box;top: 0;bottom: 0;left: 50%;z-index: 0;}#sk-container-id-2 div.sk-serial {display: flex;flex-direction: column;align-items: center;background-color: white;padding-right: 0.2em;padding-left: 0.2em;position: relative;}#sk-container-id-2 div.sk-item {position: relative;z-index: 1;}#sk-container-id-2 div.sk-parallel {display: flex;align-items: stretch;justify-content: center;background-color: white;position: relative;}#sk-container-id-2 div.sk-item::before, #sk-container-id-2 div.sk-parallel-item::before {content: \"\";position: absolute;border-left: 1px solid gray;box-sizing: border-box;top: 0;bottom: 0;left: 50%;z-index: -1;}#sk-container-id-2 div.sk-parallel-item {display: flex;flex-direction: column;z-index: 1;position: relative;background-color: white;}#sk-container-id-2 div.sk-parallel-item:first-child::after {align-self: flex-end;width: 50%;}#sk-container-id-2 div.sk-parallel-item:last-child::after {align-self: flex-start;width: 50%;}#sk-container-id-2 div.sk-parallel-item:only-child::after {width: 0;}#sk-container-id-2 div.sk-dashed-wrapped {border: 1px dashed gray;margin: 0 0.4em 0.5em 0.4em;box-sizing: border-box;padding-bottom: 0.4em;background-color: white;}#sk-container-id-2 div.sk-label label {font-family: monospace;font-weight: bold;display: inline-block;line-height: 1.2em;}#sk-container-id-2 div.sk-label-container {text-align: center;}#sk-container-id-2 div.sk-container {/* jupyter's `normalize.less` sets `[hidden] { display: none; }` but bootstrap.min.css set `[hidden] { display: none !important; }` so we also need the `!important` here to be able to override the default hidden behavior on the sphinx rendered scikit-learn.org. See: https://github.com/scikit-learn/scikit-learn/issues/21755 */display: inline-block !important;position: relative;}#sk-container-id-2 div.sk-text-repr-fallback {display: none;}</style><div id=\"sk-container-id-2\" class=\"sk-top-container\"><div class=\"sk-text-repr-fallback\"><pre>LinearRegression()</pre><b>In a Jupyter environment, please rerun this cell to show the HTML representation or trust the notebook. <br />On GitHub, the HTML representation is unable to render, please try loading this page with nbviewer.org.</b></div><div class=\"sk-container\" hidden><div class=\"sk-item\"><div class=\"sk-estimator sk-toggleable\"><input class=\"sk-toggleable__control sk-hidden--visually\" id=\"sk-estimator-id-2\" type=\"checkbox\" checked><label for=\"sk-estimator-id-2\" class=\"sk-toggleable__label sk-toggleable__label-arrow\">LinearRegression</label><div class=\"sk-toggleable__content\"><pre>LinearRegression()</pre></div></div></div></div></div>"
      ],
      "text/plain": [
       "LinearRegression()"
      ]
     },
     "execution_count": 33,
     "metadata": {},
     "output_type": "execute_result"
    }
   ],
   "source": [
    "reg.fit(X_train_scaled, y_train)"
   ]
  },
  {
   "cell_type": "markdown",
   "id": "cde20471-7d31-4ab3-a355-5cea7144dd24",
   "metadata": {},
   "source": [
    "#### Função Preditora"
   ]
  },
  {
   "cell_type": "code",
   "execution_count": 34,
   "id": "77ff439d-dcf3-4e11-8398-b2bffb6c09ed",
   "metadata": {},
   "outputs": [
    {
     "name": "stdout",
     "output_type": "stream",
     "text": [
      "predição = 25.15 + (0.73 * temperatura_media_c) + (-0.30 * temperatura_minima_c) + (2.41 * temperatura_maxima_c) + (-0.62 * precipitacacao_mm) + (2.34 * final_de_semana)\n"
     ]
    }
   ],
   "source": [
    "interceptador = reg.intercept_\n",
    "coeficientes = reg.coef_\n",
    "funcao = \"predição = {:.2f} + ({:.2f} * temperatura_media_c) + ({:.2f} * temperatura_minima_c) + ({:.2f} * temperatura_maxima_c) + ({:.2f} * precipitacacao_mm) + ({:.2f} * final_de_semana)\".format(interceptador, *coeficientes)\n",
    "print(funcao)"
   ]
  },
  {
   "cell_type": "code",
   "execution_count": 35,
   "id": "51d5a8b1-4915-4157-ae32-9dcae955d9e0",
   "metadata": {},
   "outputs": [],
   "source": [
    "def predict(X_sample):\n",
    "    interceptador = reg.intercept_\n",
    "    coeficientes = reg.coef_\n",
    "    \n",
    "    return interceptador + (reg.coef_ * X_sample).sum()"
   ]
  },
  {
   "cell_type": "code",
   "execution_count": 36,
   "id": "59bef99f-5e9c-43d9-bed3-10f46a98852c",
   "metadata": {},
   "outputs": [
    {
     "data": {
      "text/plain": [
       "26.78695182412431"
      ]
     },
     "execution_count": 36,
     "metadata": {},
     "output_type": "execute_result"
    }
   ],
   "source": [
    "predict(X_train_scaled[0])"
   ]
  },
  {
   "cell_type": "code",
   "execution_count": 91,
   "id": "d870b21e-c0f2-4e09-b73e-961f9b22317e",
   "metadata": {},
   "outputs": [
    {
     "data": {
      "text/plain": [
       "29.637"
      ]
     },
     "execution_count": 91,
     "metadata": {},
     "output_type": "execute_result"
    }
   ],
   "source": [
    "y_train.iloc[0]"
   ]
  },
  {
   "cell_type": "markdown",
   "id": "d398b81d-4390-4286-90f6-0770401a785c",
   "metadata": {},
   "source": [
    "#### Predição do Conjunto de Treinamento"
   ]
  },
  {
   "cell_type": "code",
   "execution_count": 37,
   "id": "1fff6e4c-6049-4bbd-bb7c-fc07607146b8",
   "metadata": {},
   "outputs": [],
   "source": [
    "y_pred = reg.predict(X_train_scaled)"
   ]
  },
  {
   "cell_type": "code",
   "execution_count": 38,
   "id": "9b2cde18-2c38-4f52-ab36-406a1fdb1cb0",
   "metadata": {},
   "outputs": [
    {
     "data": {
      "text/plain": [
       "5.287330352851246"
      ]
     },
     "execution_count": 38,
     "metadata": {},
     "output_type": "execute_result"
    }
   ],
   "source": [
    "## Performance no Conjunto de Treinamento\n",
    "mean_squared_error(y_train, y_pred)"
   ]
  },
  {
   "cell_type": "code",
   "execution_count": 39,
   "id": "c519125d-15fb-49df-b9e0-3f58438e13ee",
   "metadata": {},
   "outputs": [
    {
     "data": {
      "text/html": [
       "<div>\n",
       "<style scoped>\n",
       "    .dataframe tbody tr th:only-of-type {\n",
       "        vertical-align: middle;\n",
       "    }\n",
       "\n",
       "    .dataframe tbody tr th {\n",
       "        vertical-align: top;\n",
       "    }\n",
       "\n",
       "    .dataframe thead th {\n",
       "        text-align: right;\n",
       "    }\n",
       "</style>\n",
       "<table border=\"1\" class=\"dataframe\">\n",
       "  <thead>\n",
       "    <tr style=\"text-align: right;\">\n",
       "      <th></th>\n",
       "      <th>y_true</th>\n",
       "      <th>y_pred</th>\n",
       "      <th>rmse</th>\n",
       "    </tr>\n",
       "  </thead>\n",
       "  <tbody>\n",
       "    <tr>\n",
       "      <th>268</th>\n",
       "      <td>29.637</td>\n",
       "      <td>26.786952</td>\n",
       "      <td>8.122775</td>\n",
       "    </tr>\n",
       "    <tr>\n",
       "      <th>231</th>\n",
       "      <td>17.655</td>\n",
       "      <td>19.372579</td>\n",
       "      <td>2.950076</td>\n",
       "    </tr>\n",
       "    <tr>\n",
       "      <th>157</th>\n",
       "      <td>30.498</td>\n",
       "      <td>29.294561</td>\n",
       "      <td>1.448264</td>\n",
       "    </tr>\n",
       "    <tr>\n",
       "      <th>19</th>\n",
       "      <td>35.127</td>\n",
       "      <td>30.017312</td>\n",
       "      <td>26.108907</td>\n",
       "    </tr>\n",
       "    <tr>\n",
       "      <th>147</th>\n",
       "      <td>24.683</td>\n",
       "      <td>21.618263</td>\n",
       "      <td>9.392610</td>\n",
       "    </tr>\n",
       "  </tbody>\n",
       "</table>\n",
       "</div>"
      ],
      "text/plain": [
       "     y_true     y_pred       rmse\n",
       "268  29.637  26.786952   8.122775\n",
       "231  17.655  19.372579   2.950076\n",
       "157  30.498  29.294561   1.448264\n",
       "19   35.127  30.017312  26.108907\n",
       "147  24.683  21.618263   9.392610"
      ]
     },
     "execution_count": 39,
     "metadata": {},
     "output_type": "execute_result"
    }
   ],
   "source": [
    "series = {\n",
    "    'y_true': y_train,\n",
    "    'y_pred': y_pred\n",
    "}\n",
    "series_df = pd.DataFrame(series)\n",
    "\n",
    "def calcula_erro(x):\n",
    "    return mean_squared_error([x['y_true']], [x['y_pred']])\n",
    "\n",
    "\n",
    "series_df['rmse'] = series_df.apply(calcula_erro, axis=1)\n",
    "series_df.head()"
   ]
  },
  {
   "cell_type": "code",
   "execution_count": 40,
   "id": "293f6dc8-2ee5-4314-8908-cc12469b6bb0",
   "metadata": {},
   "outputs": [
    {
     "data": {
      "text/plain": [
       "<AxesSubplot:xlabel='y_true', ylabel='y_pred'>"
      ]
     },
     "execution_count": 40,
     "metadata": {},
     "output_type": "execute_result"
    },
    {
     "data": {
      "image/png": "[encoded data removed]",
      "text/plain": [
       "<Figure size 432x288 with 1 Axes>"
      ]
     },
     "metadata": {
      "needs_background": "light"
     },
     "output_type": "display_data"
    }
   ],
   "source": [
    "sns.scatterplot(data=series_df, x=\"y_true\", y=\"y_pred\", hue=\"rmse\")"
   ]
  },
  {
   "cell_type": "markdown",
   "id": "69182d67-7149-4a12-a9a9-f825b6cb5020",
   "metadata": {},
   "source": [
    "#### Predição do Conjunto de Teste"
   ]
  },
  {
   "cell_type": "code",
   "execution_count": 41,
   "id": "2f7ce42a-3135-4945-853c-46410bfb5dc5",
   "metadata": {},
   "outputs": [],
   "source": [
    "X_test_scaled = scaler.transform(X_test)"
   ]
  },
  {
   "cell_type": "code",
   "execution_count": 42,
   "id": "0509341b-7e43-4c48-b716-25b5b99e60b8",
   "metadata": {},
   "outputs": [],
   "source": [
    "y_pred = reg.predict(X_test_scaled)"
   ]
  },
  {
   "cell_type": "code",
   "execution_count": 46,
   "id": "dbfcacd8-e758-4c18-8390-842d07ef01b7",
   "metadata": {},
   "outputs": [
    {
     "data": {
      "text/plain": [
       "5.589532075363932"
      ]
     },
     "execution_count": 46,
     "metadata": {},
     "output_type": "execute_result"
    }
   ],
   "source": [
    "## Performance no Conjunto de Teste\n",
    "mean_squared_error(y_test, y_pred)"
   ]
  },
  {
   "cell_type": "code",
   "execution_count": 44,
   "id": "4939fabb-fa08-4749-bc08-a75d18fe3226",
   "metadata": {},
   "outputs": [
    {
     "data": {
      "text/html": [
       "<div>\n",
       "<style scoped>\n",
       "    .dataframe tbody tr th:only-of-type {\n",
       "        vertical-align: middle;\n",
       "    }\n",
       "\n",
       "    .dataframe tbody tr th {\n",
       "        vertical-align: top;\n",
       "    }\n",
       "\n",
       "    .dataframe thead th {\n",
       "        text-align: right;\n",
       "    }\n",
       "</style>\n",
       "<table border=\"1\" class=\"dataframe\">\n",
       "  <thead>\n",
       "    <tr style=\"text-align: right;\">\n",
       "      <th></th>\n",
       "      <th>y_true</th>\n",
       "      <th>y_pred</th>\n",
       "      <th>rmse</th>\n",
       "    </tr>\n",
       "  </thead>\n",
       "  <tbody>\n",
       "    <tr>\n",
       "      <th>193</th>\n",
       "      <td>25.640</td>\n",
       "      <td>25.600410</td>\n",
       "      <td>0.001567</td>\n",
       "    </tr>\n",
       "    <tr>\n",
       "      <th>33</th>\n",
       "      <td>31.655</td>\n",
       "      <td>26.971177</td>\n",
       "      <td>21.938196</td>\n",
       "    </tr>\n",
       "    <tr>\n",
       "      <th>15</th>\n",
       "      <td>29.938</td>\n",
       "      <td>28.156765</td>\n",
       "      <td>3.172799</td>\n",
       "    </tr>\n",
       "    <tr>\n",
       "      <th>309</th>\n",
       "      <td>20.575</td>\n",
       "      <td>21.639767</td>\n",
       "      <td>1.133730</td>\n",
       "    </tr>\n",
       "    <tr>\n",
       "      <th>57</th>\n",
       "      <td>26.241</td>\n",
       "      <td>27.278934</td>\n",
       "      <td>1.077308</td>\n",
       "    </tr>\n",
       "  </tbody>\n",
       "</table>\n",
       "</div>"
      ],
      "text/plain": [
       "     y_true     y_pred       rmse\n",
       "193  25.640  25.600410   0.001567\n",
       "33   31.655  26.971177  21.938196\n",
       "15   29.938  28.156765   3.172799\n",
       "309  20.575  21.639767   1.133730\n",
       "57   26.241  27.278934   1.077308"
      ]
     },
     "execution_count": 44,
     "metadata": {},
     "output_type": "execute_result"
    }
   ],
   "source": [
    "series = {\n",
    "    'y_true': y_test,\n",
    "    'y_pred': y_pred\n",
    "}\n",
    "series_df = pd.DataFrame(series)\n",
    "\n",
    "def calcula_erro(x):\n",
    "    return mean_squared_error([x['y_true']], [x['y_pred']])\n",
    "\n",
    "\n",
    "series_df['rmse'] = series_df.apply(calcula_erro, axis=1)\n",
    "series_df.head()"
   ]
  },
  {
   "cell_type": "code",
   "execution_count": 45,
   "id": "7ba3fc06-19f7-401e-b98d-f4b95eeaaf49",
   "metadata": {},
   "outputs": [
    {
     "data": {
      "text/plain": [
       "<AxesSubplot:xlabel='y_true', ylabel='y_pred'>"
      ]
     },
     "execution_count": 45,
     "metadata": {},
     "output_type": "execute_result"
    },
    {
     "data": {
      "image/png": "[encoded data removed]",
      "text/plain": [
       "<Figure size 432x288 with 1 Axes>"
      ]
     },
     "metadata": {
      "needs_background": "light"
     },
     "output_type": "display_data"
    }
   ],
   "source": [
    "sns.scatterplot(data=series_df, x=\"y_true\", y=\"y_pred\", hue=\"rmse\")"
   ]
  },
  {
   "cell_type": "markdown",
   "id": "38588408-cdd5-4711-bafc-e328cf9a2b02",
   "metadata": {},
   "source": [
    "#### Teste Aleatório"
   ]
  },
  {
   "cell_type": "code",
   "execution_count": 86,
   "id": "b4685eb3-e927-4b42-9a51-1441f396dac4",
   "metadata": {},
   "outputs": [],
   "source": [
    "def predict_test(index):\n",
    "    \n",
    "    exemplo = X_test.iloc[index]\n",
    "    \n",
    "    print(\"Exemplo:\")\n",
    "    print(exemplo)\n",
    "    print('')\n",
    "    \n",
    "    y_true_exemplo = y_test.iloc[index]\n",
    "    \n",
    "    Resultado = namedtuple('Resultado', ['y_true', 'y_pred'])\n",
    "    \n",
    "    with warnings.catch_warnings():\n",
    "        warnings.simplefilter(\"ignore\")\n",
    "        X_exemplo_scaled = scaler.transform([exemplo])\n",
    "    \n",
    "    y_pred_exemplo = reg.predict(X_exemplo_scaled)[0]\n",
    "    \n",
    "    print(\"Resultado:\")\n",
    "    return Resultado(y_true_exemplo, round(y_pred_exemplo,3))"
   ]
  },
  {
   "cell_type": "code",
   "execution_count": 94,
   "id": "a6e2776e-643f-4534-b4bf-d8320bfbc9a8",
   "metadata": {},
   "outputs": [
    {
     "name": "stdout",
     "output_type": "stream",
     "text": [
      "Exemplo:\n",
      "temperatura_media_c     18.08\n",
      "temperatura_minima_c    14.10\n",
      "temperatura_maxima_c    26.20\n",
      "precipitacacao_mm        0.00\n",
      "final_de_semana          1.00\n",
      "Name: 233, dtype: float64\n",
      "\n",
      "Resultado:\n"
     ]
    },
    {
     "data": {
      "text/plain": [
       "Resultado(y_true=30.177, y_pred=28.902)"
      ]
     },
     "execution_count": 94,
     "metadata": {},
     "output_type": "execute_result"
    }
   ],
   "source": [
    "predict_test(50)"
   ]
  },
  {
   "cell_type": "code",
   "execution_count": null,
   "id": "39baded6-52e9-4b58-acab-6526c20d479f",
   "metadata": {},
   "outputs": [],
   "source": []
  }
 ],
 "metadata": {
  "kernelspec": {
   "display_name": "Python 3 (ipykernel)",
   "language": "python",
   "name": "python3"
  },
  "language_info": {
   "codemirror_mode": {
    "name": "ipython",
    "version": 3
   },
   "file_extension": ".py",
   "mimetype": "text/x-python",
   "name": "python",
   "nbconvert_exporter": "python",
   "pygments_lexer": "ipython3",
   "version": "3.10.4"
  }
 },
 "nbformat": 4,
 "nbformat_minor": 5
}
