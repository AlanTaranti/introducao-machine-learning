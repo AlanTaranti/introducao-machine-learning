{
 "cells": [
  {
   "cell_type": "code",
   "execution_count": null,
   "id": "b23eeca4",
   "metadata": {},
   "outputs": [],
   "source": [
    "pip install sklearn pandas seaborn numpy matplotlib  graphviz"
   ]
  },
  {
   "cell_type": "code",
   "execution_count": null,
   "id": "c38a6d43-a249-46a0-92da-c090c702ca89",
   "metadata": {},
   "outputs": [],
   "source": [
    "from sklearn import datasets\n",
    "import pandas as pd\n",
    "import seaborn as sns\n",
    "from sklearn.model_selection import train_test_split\n",
    "from sklearn.tree import DecisionTreeClassifier\n",
    "from sklearn.metrics import accuracy_score, f1_score, confusion_matrix, ConfusionMatrixDisplay\n",
    "from sklearn.preprocessing import StandardScaler\n",
    "from collections import namedtuple\n",
    "import warnings\n",
    "import numpy as np\n",
    "\n",
    "import matplotlib as mpl"
   ]
  },
  {
   "cell_type": "code",
   "execution_count": null,
   "id": "a402d757-5ecf-4ecb-bae0-7d6f3608ab8b",
   "metadata": {},
   "outputs": [],
   "source": [
    "mpl.rcParams[\"figure.figsize\"] = (10,5)"
   ]
  },
  {
   "cell_type": "markdown",
   "id": "b209fa35-65cc-404f-a231-4c309fecbeb5",
   "metadata": {},
   "source": [
    "# Qualidade de Água\n",
    "\n",
    "O acesso à água potável é essencial para a saúde, um direito humano básico e um componente de uma política efetiva de proteção à saúde.\n",
    "\n",
    "Isto é importante como uma questão de saúde e desenvolvimento a nível nacional, regional e local.\n",
    "\n",
    "Em algumas regiões, foi demonstrado que os investimentos em abastecimento de água e saneamento podem gerar um benefício econômico líquido, uma vez que as reduções nos efeitos adversos à saúde e nos custos de saúde superam os custos de realização das intervenções.\n",
    "\n",
    "Atributos:\n",
    "\n",
    "    - PH: O pH é um parâmetro importante na avaliação do equilíbrio ácido-base da água.\n",
    "    \n",
    "    - Hardness: A dureza é causada principalmente por sais de cálcio e magnésio.\n",
    "    \n",
    "    - Solids: A água tem a capacidade de dissolver uma ampla gama de minerais ou sais inorgânicos e alguns orgânicos, como potássio, cálcio, sódio, bicarbonatos, cloretos, magnésio, sulfatos, etc. Esses minerais produziram sabor indesejado e cor diluída na aparência da água.\n",
    "    \n",
    "    - Chloramines: Cloro e cloramina são os principais desinfetantes usados em sistemas públicos de água. As cloraminas são mais comumente formadas quando a amônia é adicionada ao cloro para tratar a água potável.\n",
    "    \n",
    "    - Sulfate: Os sulfatos são substâncias naturais encontradas em minerais, solo e rochas. Eles estão presentes no ar ambiente, águas subterrâneas, plantas e alimentos.\n",
    "    \n",
    "    - Conductivity: A condutividade elétrica mede o processo iônico de uma solução que lhe permite transmitir corrente. De acordo com os padrões da OMS, o valor EC não deve exceder 400 μS/cm.\n",
    "    \n",
    "    - Organic Carbon: O Carbono Orgânico Total nas águas de nascente vem de matéria orgânica natural em decomposição, bem como de fontes sintéticas. O Carbono Orgânico Total é uma medida da quantidade total de carbono em compostos orgânicos em água pura.\n",
    "    \n",
    "    - Trihalomethanes: THMs são produtos químicos que podem ser encontrados em água tratada com cloro. A concentração de THMs na água potável varia de acordo com o nível de matéria orgânica na água, a quantidade de cloro necessária para tratar a água e a temperatura da água que está sendo tratada.\n",
    "    \n",
    "    - Turbidity: A turbidez da água depende da quantidade de matéria sólida presente no estado suspenso. É uma medida das propriedades de emissão de luz da água e o teste é usado para indicar a qualidade da descarga de resíduos em relação à matéria coloidal.\n",
    "    \n",
    "    - Potability: Indica se a água é segura para consumo humano onde 1 significa Potável e 0 significa Não potável.\n",
    "\n",
    "\n",
    "\n",
    "Fonte: https://www.kaggle.com/datasets/adityakadiwal/water-potability"
   ]
  },
  {
   "cell_type": "markdown",
   "id": "6f15b087-c91b-4dc9-b19b-e73af6c88a2c",
   "metadata": {},
   "source": [
    "## Carregamento de Dados"
   ]
  },
  {
   "cell_type": "code",
   "execution_count": null,
   "id": "49b8ec6e-f754-4e1b-a5e2-11ccd0b4ad97",
   "metadata": {},
   "outputs": [],
   "source": [
    "df = pd.read_csv('data/water_potability.csv')"
   ]
  },
  {
   "cell_type": "code",
   "execution_count": null,
   "id": "4c6cdb13-07a6-4567-81a9-64c2c1a68e14",
   "metadata": {},
   "outputs": [],
   "source": [
    "# Mostra 5 primeiros elementos do DataFrame(df)\n",
    "df.head()"
   ]
  },
  {
   "cell_type": "markdown",
   "id": "8ba038aa-39cb-4908-9353-6458f3e00995",
   "metadata": {},
   "source": [
    "## Limpeza Dados\n",
    "\n",
    "Objetivo: Tratar os dados de forma que consigamos usá-los para algoritmo de ML\n",
    "\n",
    "Possíveis técnicas:\n",
    " - Remoção de Dados Inválidos\n",
    " - Remoção de Outliers (Valores muito fora do esperado para o conjunto. Normalmente são erros de coleta)\n",
    " - Imputação de Valores em Campos Nulos\n",
    " - Transformação de tipos de variáveis"
   ]
  },
  {
   "cell_type": "markdown",
   "id": "4a597729-3cc8-43fa-a1a1-16d297f1db24",
   "metadata": {
    "tags": []
   },
   "source": [
    "### Visualização Básica"
   ]
  },
  {
   "cell_type": "markdown",
   "id": "4610a848-5c31-4a0c-8b97-6b58532051df",
   "metadata": {},
   "source": [
    "#### Quantidade de Linhas e Colunas"
   ]
  },
  {
   "cell_type": "code",
   "execution_count": null,
   "id": "4cacbd06-6a7a-4568-8980-cd42f257050b",
   "metadata": {},
   "outputs": [],
   "source": [
    "linhas, colunas = df.shape\n",
    "\n",
    "print(\"O Dataset possui {} linhas e {} colunas\".format(linhas, colunas))"
   ]
  },
  {
   "cell_type": "markdown",
   "id": "dd52ba6d-6436-492d-96b2-89fd4c9cc832",
   "metadata": {
    "tags": []
   },
   "source": [
    "#### Informações Básicas\n",
    "\n",
    "Aqui é possivel visualizar as colunas, os tipos de dados, e se o dataset possui valores nulos"
   ]
  },
  {
   "cell_type": "code",
   "execution_count": null,
   "id": "a26d5c49-48bc-4e21-9f0f-6ed94c217bdb",
   "metadata": {},
   "outputs": [],
   "source": [
    "df.info()"
   ]
  },
  {
   "cell_type": "markdown",
   "id": "6e7876c3-ca28-43c9-884c-668508ec4810",
   "metadata": {
    "jp-MarkdownHeadingCollapsed": true,
    "tags": []
   },
   "source": [
    "### Renomear Colunas\n",
    "\n",
    "Para fins de facilidade de uso, deixamos tudo em _snake_case_, padrão do Python"
   ]
  },
  {
   "cell_type": "code",
   "execution_count": null,
   "id": "25b5496f-18d4-4750-a349-451be41dfb65",
   "metadata": {},
   "outputs": [],
   "source": [
    "# Colunas Existes\n",
    "df.columns"
   ]
  },
  {
   "cell_type": "code",
   "execution_count": null,
   "id": "d6db0cca-1e0c-49cb-b0c0-a8957749a255",
   "metadata": {},
   "outputs": [],
   "source": [
    "df = df.rename(columns={\n",
    "    \"ph\": \"ph\",\n",
    "    \"Hardness\": \"hardness\",\n",
    "    \"Solids\": \"solids\",\n",
    "    \"Chloramines\": \"chloramines\",\n",
    "    \"Sulfate\": \"sulfate\",\n",
    "    \"Conductivity\": \"conductivity\",\n",
    "    \"Organic_carbon\": \"organic_carbon\",\n",
    "    \"Trihalomethanes\": \"trihalomethanes\",\n",
    "    \"Turbidity\": \"turbidity\",\n",
    "    \"Potability\": \"potability\",\n",
    "})"
   ]
  },
  {
   "cell_type": "code",
   "execution_count": null,
   "id": "6929e769-405b-49da-b28a-a792c709952c",
   "metadata": {},
   "outputs": [],
   "source": [
    "# Colunas Renomeadas\n",
    "df.columns"
   ]
  },
  {
   "cell_type": "markdown",
   "id": "f5b18c17-9479-42ce-882b-99ef3b132d92",
   "metadata": {},
   "source": [
    "##### Dataset Renomeado"
   ]
  },
  {
   "cell_type": "code",
   "execution_count": null,
   "id": "fe73b631-d1d4-45b6-b5ef-04f8c3fc1503",
   "metadata": {},
   "outputs": [],
   "source": [
    "df.head()"
   ]
  },
  {
   "cell_type": "markdown",
   "id": "38cfd4d5-ff83-4f5a-8ddb-c16305bd8dda",
   "metadata": {},
   "source": [
    "### Imputação de dados\n",
    "\n",
    "Para modelar o Machine Learning precisamos de dados não nulos.\n",
    "\n",
    "Por isso, precisamos tratar os dados nulos deste dataset.\n",
    "\n",
    "Existes duas técnicas bastante utilizadas:\n",
    "\n",
    "    - Remoção de linhas com valores nulos\n",
    "    - Imputação de dados\n",
    "        - Consiste em inserir valores fictícios, porém factíveis."
   ]
  },
  {
   "cell_type": "code",
   "execution_count": null,
   "id": "af8445fb-6f01-4e59-b769-91da81a058de",
   "metadata": {},
   "outputs": [],
   "source": [
    "quantidade_linhas_com_valores_nulo = df.isna().any(axis=1).sum()\n",
    "quantidade_linhas = df.shape[0]\n",
    "porcentagem_nulos = quantidade_linhas_com_valores_nulo / quantidade_linhas\n",
    "\n",
    "print(\"O Dataset possui {} linhas, sendo que {} delas possui campos nulos.\".format(quantidade_linhas, quantidade_linhas_com_valores_nulo))\n",
    "print(\"Porcentagem de linhas com valores nulos: {:.1f}%.\".format(porcentagem_nulos*100))"
   ]
  },
  {
   "cell_type": "markdown",
   "id": "568e3e0e-b2aa-4347-ad5f-16d3c81e1d57",
   "metadata": {
    "tags": []
   },
   "source": [
    "#### PH"
   ]
  },
  {
   "cell_type": "markdown",
   "id": "1b054bc1-fa67-42fa-ab3b-9646097adcb0",
   "metadata": {
    "tags": []
   },
   "source": [
    "##### Analise descritiva antes da imputação"
   ]
  },
  {
   "cell_type": "code",
   "execution_count": null,
   "id": "e3751e63-3e25-4dc6-b24f-150435053e39",
   "metadata": {},
   "outputs": [],
   "source": [
    "df[\"ph\"].describe()"
   ]
  },
  {
   "cell_type": "markdown",
   "id": "153e2e0a-db01-4eaa-9d43-5a807965a620",
   "metadata": {},
   "source": [
    "##### Atribui a Mediana nos campos nulos"
   ]
  },
  {
   "cell_type": "code",
   "execution_count": null,
   "id": "9124a538-c098-45b5-b1a1-4fdcd7cbb95d",
   "metadata": {},
   "outputs": [],
   "source": [
    "# Calcula a Mediana\n",
    "mediana = df[\"ph\"].median()\n",
    "\n",
    "print(\"Mediana Calculada: {:.2f}\".format(mediana))\n",
    "\n",
    "# Atribuição da Mediana nos campos nulos\n",
    "df[\"ph\"] = df[\"ph\"].fillna(mediana)"
   ]
  },
  {
   "cell_type": "markdown",
   "id": "bce9e980-822f-4ce7-a574-1e2688e509f4",
   "metadata": {
    "tags": []
   },
   "source": [
    "##### Analise descritiva depois da imputação"
   ]
  },
  {
   "cell_type": "code",
   "execution_count": null,
   "id": "2707198c-26dd-4a85-8249-2ae5c675e3a7",
   "metadata": {},
   "outputs": [],
   "source": [
    "df[\"ph\"].describe()"
   ]
  },
  {
   "cell_type": "markdown",
   "id": "14c4a002-685d-48b9-b5dd-f5eff96760a5",
   "metadata": {
    "tags": []
   },
   "source": [
    "#### Sulfato"
   ]
  },
  {
   "cell_type": "markdown",
   "id": "dba519db-3288-40c7-a5de-856fa2825ae3",
   "metadata": {
    "tags": []
   },
   "source": [
    "##### Analise descritiva antes da imputação"
   ]
  },
  {
   "cell_type": "code",
   "execution_count": null,
   "id": "c1ac9910-0655-4bc6-a3b0-03de8832ac3c",
   "metadata": {},
   "outputs": [],
   "source": [
    "df[\"sulfate\"].describe()"
   ]
  },
  {
   "cell_type": "markdown",
   "id": "52bbc60a-9a99-469a-9374-5ce6a02e5dc4",
   "metadata": {},
   "source": [
    "##### Atribui a Mediana nos campos nulos"
   ]
  },
  {
   "cell_type": "code",
   "execution_count": null,
   "id": "fa905d12-4e61-4439-bd12-6fd77a3a13ab",
   "metadata": {},
   "outputs": [],
   "source": [
    "# Calcula a Mediana\n",
    "mediana = df[\"sulfate\"].median()\n",
    "\n",
    "print(\"Mediana Calculada: {:.2f}\".format(mediana))\n",
    "\n",
    "# Atribuição da Mediana nos campos nulos\n",
    "df[\"sulfate\"] = df[\"sulfate\"].fillna(mediana)"
   ]
  },
  {
   "cell_type": "markdown",
   "id": "d76a30cf-b917-4233-b619-8e975de7b8a4",
   "metadata": {
    "tags": []
   },
   "source": [
    "##### Analise descritiva depois da imputação"
   ]
  },
  {
   "cell_type": "code",
   "execution_count": null,
   "id": "d6b14891-2ffb-4e5d-9233-fa447b330054",
   "metadata": {},
   "outputs": [],
   "source": [
    "df[\"sulfate\"].describe()"
   ]
  },
  {
   "cell_type": "markdown",
   "id": "75a894b6-d519-4437-a73d-9874c22aa099",
   "metadata": {
    "tags": []
   },
   "source": [
    "#### Trihalomethanes"
   ]
  },
  {
   "cell_type": "markdown",
   "id": "ade136ac-2511-4cd1-9d57-c34388971906",
   "metadata": {
    "tags": []
   },
   "source": [
    "##### Analise descritiva antes da imputação"
   ]
  },
  {
   "cell_type": "code",
   "execution_count": null,
   "id": "0dccdbed-3ddd-4354-b5d4-a7664b8735af",
   "metadata": {},
   "outputs": [],
   "source": [
    "df[\"trihalomethanes\"].describe()"
   ]
  },
  {
   "cell_type": "markdown",
   "id": "1cdeeeb1-2ddc-4264-b87b-15e85b4fa3fb",
   "metadata": {},
   "source": [
    "##### Atribui a Mediana nos campos nulos"
   ]
  },
  {
   "cell_type": "code",
   "execution_count": null,
   "id": "d9876692-5a3a-4c12-8955-ae3a6e9f4651",
   "metadata": {},
   "outputs": [],
   "source": [
    "# Calcula a Mediana\n",
    "mediana = df[\"trihalomethanes\"].median()\n",
    "\n",
    "print(\"Mediana Calculada: {:.2f}\".format(mediana))\n",
    "\n",
    "# Atribuição da Mediana nos campos nulos\n",
    "df[\"trihalomethanes\"] = df[\"trihalomethanes\"].fillna(mediana)"
   ]
  },
  {
   "cell_type": "markdown",
   "id": "3a2a0b85-518a-43f4-868a-ec68ab931783",
   "metadata": {
    "tags": []
   },
   "source": [
    "##### Analise descritiva depois da imputação"
   ]
  },
  {
   "cell_type": "code",
   "execution_count": null,
   "id": "8b27e755-fb49-40d5-adf3-c242728c8561",
   "metadata": {},
   "outputs": [],
   "source": [
    "df[\"trihalomethanes\"].describe()"
   ]
  },
  {
   "cell_type": "markdown",
   "id": "bb7ea4d8-d3b0-4192-b4bd-7f6dff7b35a1",
   "metadata": {},
   "source": [
    "#### Informações Básicas do Dataset após a Imputação de Dados"
   ]
  },
  {
   "cell_type": "code",
   "execution_count": null,
   "id": "e8f1ba37-5644-415c-8cfe-c4d3f6ecabb0",
   "metadata": {},
   "outputs": [],
   "source": [
    "df.info()"
   ]
  },
  {
   "cell_type": "markdown",
   "id": "5350c1dd-e48c-48a5-a27a-21f9583748b5",
   "metadata": {},
   "source": [
    "## Visualização de Varáveis"
   ]
  },
  {
   "cell_type": "markdown",
   "id": "3eae2459-27bf-42e1-a21b-51d1b93f6e4b",
   "metadata": {},
   "source": [
    "### PH"
   ]
  },
  {
   "cell_type": "markdown",
   "id": "180ec4ff-55ae-4b4d-b1f7-dc25b8c53921",
   "metadata": {},
   "source": [
    "#### Estatística Descritiva"
   ]
  },
  {
   "cell_type": "code",
   "execution_count": null,
   "id": "7dcaae62-4635-456e-9fdd-5f292c6f7203",
   "metadata": {},
   "outputs": [],
   "source": [
    "df[\"ph\"].describe()"
   ]
  },
  {
   "cell_type": "markdown",
   "id": "8decfdf4-bf1d-4cc1-9e71-ecbe7fe15780",
   "metadata": {},
   "source": [
    "#### Histograma"
   ]
  },
  {
   "cell_type": "code",
   "execution_count": null,
   "id": "085b60de-f30e-47d9-9ed1-5a66b00b73f0",
   "metadata": {},
   "outputs": [],
   "source": [
    "ax = sns.histplot(data=df, x=\"ph\", kde=True, bins=20, color=\"green\")\n",
    "\n",
    "ax.set_title(\"Histograma de PH\")"
   ]
  },
  {
   "cell_type": "markdown",
   "id": "5e030fc9-1f6b-47cb-b5e1-f5e7533a7f36",
   "metadata": {},
   "source": [
    "#### BoxPlot PH vs Potabilidade"
   ]
  },
  {
   "cell_type": "code",
   "execution_count": null,
   "id": "13060f1d-c6cd-4cfb-91d5-afedc9fb9f20",
   "metadata": {},
   "outputs": [],
   "source": [
    "ax = sns.boxplot(data=df, y='potability', x='ph', color=\"green\", orient=\"h\")\n",
    "\n",
    "ax.set_title(\"PH vs Potabilidade\")"
   ]
  },
  {
   "cell_type": "code",
   "execution_count": null,
   "id": "4dadf035",
   "metadata": {},
   "outputs": [],
   "source": [
    "# Estatistica descritiva  a respeito do gráfico acima\n",
    "df[df[\"potability\"] == 0][\"ph\"].describe()"
   ]
  },
  {
   "cell_type": "markdown",
   "id": "adb44f2b-5bee-43c9-92ff-bdbe3b3f80f4",
   "metadata": {
    "tags": []
   },
   "source": [
    "### Hardness"
   ]
  },
  {
   "cell_type": "markdown",
   "id": "20f56068-9f9a-4ca0-9419-32d52f78a9fe",
   "metadata": {},
   "source": [
    "#### Estatística Descritiva"
   ]
  },
  {
   "cell_type": "code",
   "execution_count": null,
   "id": "936fd99b-cf23-48e7-8603-545680f6fa21",
   "metadata": {},
   "outputs": [],
   "source": [
    "df[\"hardness\"].describe()"
   ]
  },
  {
   "cell_type": "markdown",
   "id": "3853c73a-7749-4802-8c8b-c342affccc71",
   "metadata": {},
   "source": [
    "#### Histograma"
   ]
  },
  {
   "cell_type": "code",
   "execution_count": null,
   "id": "8753ca06-e630-4961-8c24-f63b21bb0e05",
   "metadata": {},
   "outputs": [],
   "source": [
    "ax = sns.histplot(data=df, x=\"hardness\", kde=True, bins=20, color=\"blue\")\n",
    "\n",
    "ax.set_title(\"Histograma de Hardness\")"
   ]
  },
  {
   "cell_type": "markdown",
   "id": "96a514b7-140a-4b0f-90f5-79865e9e8adc",
   "metadata": {},
   "source": [
    "#### BoxPlot Hardness vs Potabilidade"
   ]
  },
  {
   "cell_type": "code",
   "execution_count": null,
   "id": "1e3af63c-b37a-4bfe-9c66-2eec67929524",
   "metadata": {},
   "outputs": [],
   "source": [
    "ax = sns.boxplot(data=df, y='potability', x='hardness', color=\"blue\", orient=\"h\")\n",
    "\n",
    "ax.set_title(\"Hardness vs Potabilidade\")"
   ]
  },
  {
   "cell_type": "markdown",
   "id": "7ed3a91b-90e1-499e-a215-e927f281524b",
   "metadata": {
    "tags": []
   },
   "source": [
    "### Solids"
   ]
  },
  {
   "cell_type": "markdown",
   "id": "7c3f27eb-a5b3-44f7-8306-b1e65dd03956",
   "metadata": {},
   "source": [
    "#### Estatística Descritiva"
   ]
  },
  {
   "cell_type": "code",
   "execution_count": null,
   "id": "de2c0e1a-819a-402e-9a0d-b405d8dc85b4",
   "metadata": {},
   "outputs": [],
   "source": [
    "df[\"solids\"].describe()"
   ]
  },
  {
   "cell_type": "markdown",
   "id": "8cccc616-b381-4d82-9bc5-d26b4090cf4d",
   "metadata": {},
   "source": [
    "#### Histograma"
   ]
  },
  {
   "cell_type": "code",
   "execution_count": null,
   "id": "c6310250-aebd-4a76-bfcb-eef9c954c431",
   "metadata": {},
   "outputs": [],
   "source": [
    "ax = sns.histplot(data=df, x=\"solids\", kde=True, bins=20, color=\"red\")\n",
    "\n",
    "ax.set_title(\"Histograma de Solids\")"
   ]
  },
  {
   "cell_type": "markdown",
   "id": "74975719-729c-4113-ad25-622e8bbbf5dc",
   "metadata": {},
   "source": [
    "#### BoxPlot Solids vs Potabilidade"
   ]
  },
  {
   "cell_type": "code",
   "execution_count": null,
   "id": "7c50fedb-9b8d-4a10-84d3-2a566dbd485d",
   "metadata": {},
   "outputs": [],
   "source": [
    "ax = sns.boxplot(data=df, y='potability', x='solids', color=\"red\", orient=\"h\")\n",
    "\n",
    "ax.set_title(\"Solids vs Potabilidade\")"
   ]
  },
  {
   "cell_type": "markdown",
   "id": "9584aa4a-1d0e-4de3-ba43-bcb8b2ccc6a9",
   "metadata": {
    "tags": []
   },
   "source": [
    "### Chloramines"
   ]
  },
  {
   "cell_type": "markdown",
   "id": "9deaa94d-2e9b-42d2-ab1f-a0d98abca304",
   "metadata": {},
   "source": [
    "#### Estatística Descritiva"
   ]
  },
  {
   "cell_type": "code",
   "execution_count": null,
   "id": "b28becca-f5d6-47dd-a228-71a379ca6b59",
   "metadata": {},
   "outputs": [],
   "source": [
    "df[\"chloramines\"].describe()"
   ]
  },
  {
   "cell_type": "markdown",
   "id": "d4deaa6c-4c88-466b-a72d-f741f2fae789",
   "metadata": {},
   "source": [
    "#### Histograma"
   ]
  },
  {
   "cell_type": "code",
   "execution_count": null,
   "id": "2ca1c09d-ca53-4313-a791-e42f238310af",
   "metadata": {},
   "outputs": [],
   "source": [
    "ax = sns.histplot(data=df, x=\"chloramines\", kde=True, bins=20, color=\"cyan\")\n",
    "\n",
    "ax.set_title(\"Histograma de Chloramines\")"
   ]
  },
  {
   "cell_type": "markdown",
   "id": "b0da8a89-528c-4741-92f6-d51343b697ef",
   "metadata": {},
   "source": [
    "#### BoxPlot Chloramines vs Potabilidade"
   ]
  },
  {
   "cell_type": "code",
   "execution_count": null,
   "id": "074d044f-d7d5-44c2-997d-6be20dc72178",
   "metadata": {},
   "outputs": [],
   "source": [
    "ax = sns.boxplot(data=df, y='potability', x='chloramines', color=\"cyan\", orient=\"h\")\n",
    "\n",
    "ax.set_title(\"Chloramines vs Potabilidade\")"
   ]
  },
  {
   "cell_type": "markdown",
   "id": "26b2e522-1057-4166-9960-fe5e39df30cb",
   "metadata": {
    "tags": []
   },
   "source": [
    "### Sulfate"
   ]
  },
  {
   "cell_type": "markdown",
   "id": "8b0c8eab-6fd3-4ad6-97a0-3b8fe23ae0c0",
   "metadata": {},
   "source": [
    "#### Estatística Descritiva"
   ]
  },
  {
   "cell_type": "code",
   "execution_count": null,
   "id": "67ed886b-6b10-42c4-9d53-44914943cb6c",
   "metadata": {},
   "outputs": [],
   "source": [
    "df[\"sulfate\"].describe()"
   ]
  },
  {
   "cell_type": "markdown",
   "id": "8df90ad3-9f24-4692-b233-6a9cb5c6d544",
   "metadata": {},
   "source": [
    "#### Histograma"
   ]
  },
  {
   "cell_type": "code",
   "execution_count": null,
   "id": "6427a1a3-33e2-45ca-a6f5-478cd7edc02b",
   "metadata": {},
   "outputs": [],
   "source": [
    "ax = sns.histplot(data=df, x=\"sulfate\", kde=True, bins=15, color=\"yellow\")\n",
    "\n",
    "ax.set_title(\"Histograma de Sulfate\")"
   ]
  },
  {
   "cell_type": "markdown",
   "id": "8b00b4a4-09a7-4387-a5d5-b182b4e2702a",
   "metadata": {},
   "source": [
    "#### BoxPlot Sulfate vs Potabilidade"
   ]
  },
  {
   "cell_type": "code",
   "execution_count": null,
   "id": "65f7d286-ac3d-40ea-a105-baa8432fa107",
   "metadata": {},
   "outputs": [],
   "source": [
    "ax = sns.boxplot(data=df, y='potability', x='sulfate', color=\"yellow\", orient=\"h\")\n",
    "\n",
    "ax.set_title(\"Sulfate vs Potabilidade\")"
   ]
  },
  {
   "cell_type": "markdown",
   "id": "aac24be7-df88-47c6-b7f2-b7c59b2614c3",
   "metadata": {
    "tags": []
   },
   "source": [
    "### Conductivity"
   ]
  },
  {
   "cell_type": "markdown",
   "id": "01bed7c7-eea7-486f-a13e-dc0f514bd32f",
   "metadata": {},
   "source": [
    "#### Estatística Descritiva"
   ]
  },
  {
   "cell_type": "code",
   "execution_count": null,
   "id": "b626a49f-7de3-4e5f-9ac3-2942158a83bb",
   "metadata": {},
   "outputs": [],
   "source": [
    "df[\"conductivity\"].describe()"
   ]
  },
  {
   "cell_type": "markdown",
   "id": "4fd9e6a1-2d5a-4b36-bd6b-f882b5eedf3a",
   "metadata": {},
   "source": [
    "#### Histograma"
   ]
  },
  {
   "cell_type": "code",
   "execution_count": null,
   "id": "e5a07b70-2b36-4007-b669-72417c9c449c",
   "metadata": {},
   "outputs": [],
   "source": [
    "ax = sns.histplot(data=df, x=\"conductivity\", kde=True, bins=20, color=\"orange\")\n",
    "\n",
    "ax.set_title(\"Histograma de Conductivity\")"
   ]
  },
  {
   "cell_type": "markdown",
   "id": "0b9952f7-2120-4e77-b894-83d1b00f0875",
   "metadata": {},
   "source": [
    "#### BoxPlot Conductivity vs Potabilidade"
   ]
  },
  {
   "cell_type": "code",
   "execution_count": null,
   "id": "9b0055f7-ffbf-4c52-bc66-fec92203f2ce",
   "metadata": {},
   "outputs": [],
   "source": [
    "ax = sns.boxplot(data=df, y='potability', x='conductivity', color=\"orange\", orient=\"h\")\n",
    "\n",
    "ax.set_title(\"Conductivity vs Potabilidade\")"
   ]
  },
  {
   "cell_type": "markdown",
   "id": "11bd0777-7794-452b-836e-02531b3a7c22",
   "metadata": {
    "tags": []
   },
   "source": [
    "### Organic Carbon"
   ]
  },
  {
   "cell_type": "markdown",
   "id": "a193778e-1000-4e40-b797-537113b764ab",
   "metadata": {},
   "source": [
    "#### Estatística Descritiva"
   ]
  },
  {
   "cell_type": "code",
   "execution_count": null,
   "id": "91afdec1-34b4-4211-bd89-14dd3c2c22e9",
   "metadata": {},
   "outputs": [],
   "source": [
    "df[\"organic_carbon\"].describe()"
   ]
  },
  {
   "cell_type": "markdown",
   "id": "3860b3c9-5251-4a17-82c4-42d7f3755432",
   "metadata": {},
   "source": [
    "#### Histograma"
   ]
  },
  {
   "cell_type": "code",
   "execution_count": null,
   "id": "ccf79950-45ee-4a09-b99f-bf8236b94188",
   "metadata": {},
   "outputs": [],
   "source": [
    "ax = sns.histplot(data=df, x=\"organic_carbon\", kde=True, bins=20, color=\"brown\")\n",
    "\n",
    "ax.set_title(\"Histograma de Organic Carbon\")"
   ]
  },
  {
   "cell_type": "markdown",
   "id": "deb980bd-a46a-4c9e-95a5-1c646a652160",
   "metadata": {},
   "source": [
    "#### BoxPlot Organic Carbon vs Potabilidade"
   ]
  },
  {
   "cell_type": "code",
   "execution_count": null,
   "id": "ca4659d0-5b33-49fe-af27-bbdbb9840374",
   "metadata": {},
   "outputs": [],
   "source": [
    "ax = sns.boxplot(data=df, y='potability', x='organic_carbon', color=\"brown\", orient=\"h\")\n",
    "\n",
    "ax.set_title(\"Organic Carbon vs Potabilidade\")"
   ]
  },
  {
   "cell_type": "markdown",
   "id": "709ba1cc-1850-4d05-859c-4cfebd83615a",
   "metadata": {
    "tags": []
   },
   "source": [
    "### Trihalomethanes"
   ]
  },
  {
   "cell_type": "markdown",
   "id": "1e8ce1d0-8c90-43d0-a673-d491cffbeb71",
   "metadata": {},
   "source": [
    "#### Estatística Descritiva"
   ]
  },
  {
   "cell_type": "code",
   "execution_count": null,
   "id": "97205e5f-79dd-4108-9b45-7be1fd0db755",
   "metadata": {},
   "outputs": [],
   "source": [
    "df[\"trihalomethanes\"].describe()"
   ]
  },
  {
   "cell_type": "markdown",
   "id": "72ecdbc4-ccce-4907-b9d7-aff98bfa62a4",
   "metadata": {},
   "source": [
    "#### Histograma"
   ]
  },
  {
   "cell_type": "code",
   "execution_count": null,
   "id": "e0fbe6be-4e31-4cb1-ac23-9a44f6c5cf49",
   "metadata": {},
   "outputs": [],
   "source": [
    "ax = sns.histplot(data=df, x=\"trihalomethanes\", kde=True, bins=20, color=\"magenta\")\n",
    "\n",
    "ax.set_title(\"Histograma de Trihalomethanes\")"
   ]
  },
  {
   "cell_type": "markdown",
   "id": "4b850184-6614-48fb-a5e1-126e8034ddf0",
   "metadata": {},
   "source": [
    "#### BoxPlot Trihalomethanes vs Potabilidade"
   ]
  },
  {
   "cell_type": "code",
   "execution_count": null,
   "id": "91745023-5f74-415c-b000-f15a5b2f85b6",
   "metadata": {},
   "outputs": [],
   "source": [
    "ax = sns.boxplot(data=df, y='potability', x='trihalomethanes', color=\"magenta\", orient=\"h\")\n",
    "\n",
    "ax.set_title(\"Trihalomethanes vs Potabilidade\")"
   ]
  },
  {
   "cell_type": "markdown",
   "id": "7c913ac5-a516-4549-938b-c5d7f078182a",
   "metadata": {
    "tags": []
   },
   "source": [
    "### Turbidity"
   ]
  },
  {
   "cell_type": "markdown",
   "id": "db12e245-711a-4107-9f96-19ac47d7175b",
   "metadata": {},
   "source": [
    "#### Estatística Descritiva"
   ]
  },
  {
   "cell_type": "code",
   "execution_count": null,
   "id": "fd444d88-4f73-4e3a-806a-8c152cc7029f",
   "metadata": {},
   "outputs": [],
   "source": [
    "df[\"turbidity\"].describe()"
   ]
  },
  {
   "cell_type": "markdown",
   "id": "c1a3658a-c8e6-489d-8635-49e46f9ffce6",
   "metadata": {},
   "source": [
    "#### Histograma"
   ]
  },
  {
   "cell_type": "code",
   "execution_count": null,
   "id": "39f40b3f-661f-4482-b183-7829e14a72f1",
   "metadata": {},
   "outputs": [],
   "source": [
    "ax = sns.histplot(data=df, x=\"turbidity\", kde=True, bins=20, color=\"purple\")\n",
    "\n",
    "ax.set_title(\"Histograma de Turbidity\")"
   ]
  },
  {
   "cell_type": "markdown",
   "id": "cb4fe1d4-4e8f-4a98-bf1e-c6fe9f85cf94",
   "metadata": {},
   "source": [
    "#### BoxPlot Turbidity vs Potabilidade"
   ]
  },
  {
   "cell_type": "code",
   "execution_count": null,
   "id": "123f51de-ac04-4682-8f9b-4e3735a1e155",
   "metadata": {},
   "outputs": [],
   "source": [
    "ax = sns.boxplot(data=df, y='potability', x='turbidity', color=\"purple\", orient=\"h\")\n",
    "\n",
    "ax.set_title(\"Turbidity vs Potabilidade\")"
   ]
  },
  {
   "cell_type": "markdown",
   "id": "7024ba68-a0c7-49eb-aff0-b9d1948b6b53",
   "metadata": {},
   "source": [
    "### Potabilidade"
   ]
  },
  {
   "cell_type": "markdown",
   "id": "2a888329-505c-4668-a66e-133d51fbc122",
   "metadata": {},
   "source": [
    "#### Estatística Descritiva"
   ]
  },
  {
   "cell_type": "code",
   "execution_count": null,
   "id": "6e96cc4d-ad85-44af-bd53-be59c09a1823",
   "metadata": {},
   "outputs": [],
   "source": [
    "df[\"potability\"].describe()"
   ]
  },
  {
   "cell_type": "markdown",
   "id": "7ca6be54-1ad8-4968-9190-27f76cc0cb73",
   "metadata": {},
   "source": [
    "#### CountPlot Potabilidade"
   ]
  },
  {
   "cell_type": "code",
   "execution_count": null,
   "id": "51fdb127-f2c7-4507-ac60-2f15e622a1f7",
   "metadata": {},
   "outputs": [],
   "source": [
    "ax = sns.countplot(data=df, x=\"potability\")\n",
    "\n",
    "ax.set_title(\"Distribuição de Potabilidade\")"
   ]
  },
  {
   "cell_type": "markdown",
   "id": "0a9216da-3c1c-4d97-b807-61029beb1c97",
   "metadata": {},
   "source": [
    "## Machine Learning"
   ]
  },
  {
   "cell_type": "markdown",
   "id": "e2198d5d-1122-47b7-8cad-25bf4b249f3f",
   "metadata": {},
   "source": [
    "### Visualização dos Dados"
   ]
  },
  {
   "cell_type": "code",
   "execution_count": null,
   "id": "c885a55c-c6e8-4c8b-9d37-9e8aeba98642",
   "metadata": {},
   "outputs": [],
   "source": [
    "df.sample(10)"
   ]
  },
  {
   "cell_type": "markdown",
   "id": "684948fe-15a3-44ad-911a-383b27b3a9cf",
   "metadata": {},
   "source": [
    "### Separação Conjunto Treinamento e Teste\n",
    "\n",
    "- Treino: Utilizado no treinamento do modelo de Machine Learning\n",
    "- Teste: Utilizado para verificar se o modelo generaliza o que aprendeu para exemplos não vistos no treinamento"
   ]
  },
  {
   "cell_type": "markdown",
   "id": "0183974e-9578-42cc-ae69-d852f8cf2deb",
   "metadata": {},
   "source": [
    "#### Separar X e y\n",
    "\n",
    "- X: Contém os atributos que serão utilizados para treinar/testar o modelo de ML\n",
    "- y: Contém a variável alvo, que desejamos prever"
   ]
  },
  {
   "cell_type": "code",
   "execution_count": null,
   "id": "037bde77-dd3c-4b79-80cd-9a7536dcd254",
   "metadata": {},
   "outputs": [],
   "source": [
    "X = df.drop('potability', axis=1)\n",
    "X.sample(5)"
   ]
  },
  {
   "cell_type": "code",
   "execution_count": null,
   "id": "ddd55e94-7067-4255-a29b-8181fb218a61",
   "metadata": {},
   "outputs": [],
   "source": [
    "y = df['potability']\n",
    "y.sample(5)"
   ]
  },
  {
   "cell_type": "markdown",
   "id": "76869a89-83f0-4d04-a633-7ef2fb0df7bc",
   "metadata": {},
   "source": [
    "#### Separar Conjuntos de Treino e de Teste\n",
    "- Treino: 70%\n",
    "- Teste: 30%"
   ]
  },
  {
   "cell_type": "code",
   "execution_count": null,
   "id": "b95a1845-a756-48b7-8a5a-6df344cd6128",
   "metadata": {},
   "outputs": [],
   "source": [
    "# Separação de Conjuntos\n",
    "X_train, X_test, y_train, y_test = train_test_split(X, y, test_size=0.3, random_state=42)"
   ]
  },
  {
   "cell_type": "code",
   "execution_count": null,
   "id": "a9f6c414-166f-49fd-9fa2-df17f79292e8",
   "metadata": {},
   "outputs": [],
   "source": [
    "# Quantidade de elementos em cada conjunto\n",
    "quantidade_conjunto_treino = X_train.shape[0]\n",
    "quantidade_conjunto_teste = X_test.shape[0]\n",
    "\n",
    "print(\"O conjunto de Treino ficou com {} elementos, e o conjunto de Teste ficou com {} elementos\".format(quantidade_conjunto_treino, quantidade_conjunto_teste))"
   ]
  },
  {
   "cell_type": "markdown",
   "id": "f3ced2bd-b82f-43fe-b08b-f0af7dd048e3",
   "metadata": {},
   "source": [
    "### Aprendizado\n",
    "\n",
    "Treinamento do modelo utilizando Árvore de Decisão no conjunto de dados de Treino"
   ]
  },
  {
   "cell_type": "code",
   "execution_count": null,
   "id": "78d3e2dc-6f15-43ca-97d2-30d2abd79e21",
   "metadata": {},
   "outputs": [],
   "source": [
    "# Inicialização da Arvore\n",
    "dt = DecisionTreeClassifier(max_depth=25, min_samples_leaf=3, min_samples_split=3, random_state=42)"
   ]
  },
  {
   "cell_type": "code",
   "execution_count": null,
   "id": "91ca789a-27d6-432b-be49-6ccdbbb04a53",
   "metadata": {},
   "outputs": [],
   "source": [
    "# Modelagem\n",
    "dt.fit(X_train, y_train)"
   ]
  },
  {
   "cell_type": "markdown",
   "id": "72cd75a7-03a4-4e19-8dc4-37a7a35898eb",
   "metadata": {},
   "source": [
    "#### Visualizando a Arvore"
   ]
  },
  {
   "cell_type": "code",
   "execution_count": null,
   "id": "6a35f4f0-05a0-468e-ac00-b8231bd4c0c4",
   "metadata": {},
   "outputs": [],
   "source": [
    "def save_tree(classificador,atributos_nomes,alvo_nomes):\n",
    "    # Import\n",
    "    from IPython.display import Image\n",
    "    from graphviz import Source\n",
    "    from sklearn.tree import export_graphviz\n",
    "\n",
    "    # Gerar a arvore\n",
    "    graph = Source(\n",
    "        export_graphviz(\n",
    "            classificador,\n",
    "            out_file=None,\n",
    "            feature_names=atributos_nomes,\n",
    "            class_names=alvo_nomes,\n",
    "            filled=True,\n",
    "            rounded=True,\n",
    "            special_characters=True\n",
    "        )\n",
    "    )\n",
    "    \n",
    "    graph.render(filename='tree', view = False, format='png')"
   ]
  },
  {
   "cell_type": "code",
   "execution_count": null,
   "id": "9042eae9-b64b-4246-979a-56587a1b2fa0",
   "metadata": {},
   "outputs": [],
   "source": [
    "save_tree(dt, X.columns, [\"Não Potável\", \"Potável\"])"
   ]
  },
  {
   "cell_type": "markdown",
   "id": "b7c2f75f-acef-4781-82ff-b65e54e68821",
   "metadata": {},
   "source": [
    "#### Predição do Conjunto de Treinamento\n",
    "\n",
    "Aqui vamos verificar a performance do modelo treinado no conjunto de Treinamento"
   ]
  },
  {
   "cell_type": "code",
   "execution_count": null,
   "id": "2e309b42-ed4e-40da-abb0-e634175e9553",
   "metadata": {},
   "outputs": [],
   "source": [
    "# Predizer o resultado\n",
    "y_pred = dt.predict(X_train)"
   ]
  },
  {
   "cell_type": "code",
   "execution_count": null,
   "id": "051735fe",
   "metadata": {},
   "outputs": [],
   "source": [
    "y_pred[0:10]"
   ]
  },
  {
   "cell_type": "code",
   "execution_count": null,
   "id": "729f0c64",
   "metadata": {},
   "outputs": [],
   "source": [
    "y_train[0:10].values"
   ]
  },
  {
   "cell_type": "markdown",
   "id": "3b8cf769-b70b-474a-b037-8994acd714f7",
   "metadata": {},
   "source": [
    "##### F1 Score\n",
    "\n",
    "Métrica para medir a performance do modelo\n",
    "\n",
    "F1_Score = (2 TP) / (2 TP + FP + FN)"
   ]
  },
  {
   "cell_type": "code",
   "execution_count": null,
   "id": "a64f1eca-ef8d-491d-b209-d7d65ca056ec",
   "metadata": {},
   "outputs": [],
   "source": [
    "# Calcular a performance\n",
    "performance = f1_score(y_train, y_pred)\n",
    "\n",
    "print(\"F1 Score: {:.2f}%\".format(performance*100))"
   ]
  },
  {
   "cell_type": "markdown",
   "id": "7add4a28-1177-49b1-9c62-a80f0aaf9281",
   "metadata": {
    "tags": []
   },
   "source": [
    "##### Matrix de Confusão"
   ]
  },
  {
   "cell_type": "code",
   "execution_count": null,
   "id": "20779ab8-25f8-4b42-a982-1ec8558d36a6",
   "metadata": {},
   "outputs": [],
   "source": [
    "cm = confusion_matrix(y_train, y_pred)\n",
    "ConfusionMatrixDisplay(cm).plot()"
   ]
  },
  {
   "cell_type": "markdown",
   "id": "d35b0f6b-4223-4966-8452-546ea8fe22fb",
   "metadata": {},
   "source": [
    "#### Predição do Conjunto de Teste\n",
    "\n",
    "Aqui vamos verificar a performance do modelo treinado no conjunto de Teste\n",
    "\n",
    "Verificamos se o modelo generalizou bem o resultado"
   ]
  },
  {
   "cell_type": "code",
   "execution_count": null,
   "id": "06b5be8c-1a2b-46de-8d35-35f730981a67",
   "metadata": {},
   "outputs": [],
   "source": [
    "# Predizer o resultado\n",
    "y_pred = dt.predict(X_test)"
   ]
  },
  {
   "cell_type": "code",
   "execution_count": null,
   "id": "265e8693",
   "metadata": {},
   "outputs": [],
   "source": [
    "y_pred[0:10]"
   ]
  },
  {
   "cell_type": "code",
   "execution_count": null,
   "id": "5ceaf7df",
   "metadata": {},
   "outputs": [],
   "source": [
    "y_test[0:10].values"
   ]
  },
  {
   "cell_type": "markdown",
   "id": "dff41045-9541-47f1-afd9-a4c7f52b83b3",
   "metadata": {},
   "source": [
    "#### Predição do Conjunto de Treinamento\n",
    "\n",
    "Aqui vamos verificar a performance do modelo treinado no conjunto de Treinamento"
   ]
  },
  {
   "cell_type": "code",
   "execution_count": null,
   "id": "e706cee6-c406-4459-96e9-02daadde286c",
   "metadata": {},
   "outputs": [],
   "source": [
    "# Calcular a performance\n",
    "performance = f1_score(y_test, y_pred)\n",
    "\n",
    "print(\"F1 Score: {:.2f}%\".format(performance*100))"
   ]
  },
  {
   "cell_type": "markdown",
   "id": "e155402c-eefb-497d-97ba-601d517380ab",
   "metadata": {
    "tags": []
   },
   "source": [
    "##### Matrix de Confusão"
   ]
  },
  {
   "cell_type": "code",
   "execution_count": null,
   "id": "01737ff8-4d9b-4565-a7f0-dbbf718b5411",
   "metadata": {},
   "outputs": [],
   "source": [
    "cm = confusion_matrix(y_test, y_pred)\n",
    "ConfusionMatrixDisplay(cm).plot()"
   ]
  },
  {
   "cell_type": "markdown",
   "id": "8e292b61-6288-4c0f-b17f-742481ed3915",
   "metadata": {},
   "source": [
    "#### Teste Aleatório"
   ]
  },
  {
   "cell_type": "code",
   "execution_count": null,
   "id": "8380ec87-941b-49ed-b54e-271d58ea57a0",
   "metadata": {},
   "outputs": [],
   "source": [
    "def predict_test(index):\n",
    "    \n",
    "    exemplo = X_test.iloc[index]\n",
    "    \n",
    "    print(\"Exemplo:\")\n",
    "    print(exemplo)\n",
    "    print('')\n",
    "    \n",
    "    y_true_exemplo = y_test.iloc[index]\n",
    "    \n",
    "    Resultado = namedtuple('Resultado', ['y_true', 'y_pred'])\n",
    "    \n",
    "    with warnings.catch_warnings():\n",
    "        warnings.simplefilter(\"ignore\")\n",
    "        y_pred_exemplo = dt.predict([exemplo])[0]\n",
    "    \n",
    "    print(\"Resultado:\")\n",
    "    return Resultado(y_true_exemplo, round(y_pred_exemplo,3))"
   ]
  },
  {
   "cell_type": "code",
   "execution_count": null,
   "id": "aaa9ad0c-fb8b-456d-86f4-955b31c4b6cb",
   "metadata": {},
   "outputs": [],
   "source": [
    "predict_test(3)"
   ]
  },
  {
   "cell_type": "code",
   "execution_count": null,
   "id": "c8f7d1e0-8da6-481e-aaac-06eb4e79ed03",
   "metadata": {},
   "outputs": [],
   "source": []
  }
 ],
 "metadata": {
  "kernelspec": {
   "display_name": "Python 3.8.10 64-bit",
   "language": "python",
   "name": "python3"
  },
  "language_info": {
   "codemirror_mode": {
    "name": "ipython",
    "version": 3
   },
   "file_extension": ".py",
   "mimetype": "text/x-python",
   "name": "python",
   "nbconvert_exporter": "python",
   "pygments_lexer": "ipython3",
   "version": "3.8.10"
  },
  "vscode": {
   "interpreter": {
    "hash": "916dbcbb3f70747c44a77c7bcd40155683ae19c65e1c03b4aa3499c5328201f1"
   }
  }
 },
 "nbformat": 4,
 "nbformat_minor": 5
}
